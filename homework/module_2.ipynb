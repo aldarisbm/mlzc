{
 "cells": [
  {
   "cell_type": "code",
   "execution_count": 1,
   "id": "initial_id",
   "metadata": {
    "collapsed": true,
    "ExecuteTime": {
     "end_time": "2023-09-22T00:37:38.095645Z",
     "start_time": "2023-09-22T00:37:37.609308Z"
    }
   },
   "outputs": [
    {
     "name": "stdout",
     "output_type": "stream",
     "text": [
      "--2023-09-21 20:37:37--  https://raw.githubusercontent.com/alexeygrigorev/datasets/master/housing.csv\r\n",
      "Resolving raw.githubusercontent.com (raw.githubusercontent.com)... 2606:50c0:8002::154, 2606:50c0:8001::154, 2606:50c0:8003::154, ...\r\n",
      "Connecting to raw.githubusercontent.com (raw.githubusercontent.com)|2606:50c0:8002::154|:443... connected.\r\n",
      "HTTP request sent, awaiting response... 200 OK\r\n",
      "Length: 1423529 (1.4M) [text/plain]\r\n",
      "Saving to: ‘housing.csv.1’\r\n",
      "\r\n",
      "housing.csv.1       100%[===================>]   1.36M  --.-KB/s    in 0.09s   \r\n",
      "\r\n",
      "2023-09-21 20:37:37 (14.9 MB/s) - ‘housing.csv.1’ saved [1423529/1423529]\r\n",
      "\r\n"
     ]
    }
   ],
   "source": [
    "# Lets get some data\n",
    "!wget https://raw.githubusercontent.com/alexeygrigorev/datasets/master/housing.csv "
   ]
  },
  {
   "cell_type": "code",
   "execution_count": 2,
   "outputs": [],
   "source": [
    "import pandas as pd\n",
    "import numpy as np\n",
    "import matplotlib.pyplot as plt\n",
    "import seaborn as sns\n",
    "%matplotlib inline"
   ],
   "metadata": {
    "collapsed": false,
    "ExecuteTime": {
     "end_time": "2023-09-22T13:31:01.513704Z",
     "start_time": "2023-09-22T13:31:01.475300Z"
    }
   },
   "id": "1aa650ef08b5d716"
  },
  {
   "cell_type": "code",
   "execution_count": 3,
   "outputs": [],
   "source": [
    "df = pd.read_csv(\"./housing.csv\")"
   ],
   "metadata": {
    "collapsed": false,
    "ExecuteTime": {
     "end_time": "2023-09-22T13:31:01.754279Z",
     "start_time": "2023-09-22T13:31:01.737822Z"
    }
   },
   "id": "7c0efd234b33ae02"
  },
  {
   "cell_type": "code",
   "execution_count": 4,
   "outputs": [
    {
     "data": {
      "text/plain": "longitude             float64\nlatitude              float64\nhousing_median_age    float64\ntotal_rooms           float64\ntotal_bedrooms        float64\npopulation            float64\nhouseholds            float64\nmedian_income         float64\nmedian_house_value    float64\nocean_proximity        object\ndtype: object"
     },
     "execution_count": 4,
     "metadata": {},
     "output_type": "execute_result"
    }
   ],
   "source": [
    "df.head().dtypes"
   ],
   "metadata": {
    "collapsed": false,
    "ExecuteTime": {
     "end_time": "2023-09-22T13:31:01.971293Z",
     "start_time": "2023-09-22T13:31:01.956564Z"
    }
   },
   "id": "dc337269655b5a70"
  },
  {
   "cell_type": "code",
   "execution_count": 5,
   "outputs": [
    {
     "data": {
      "text/plain": "<Axes: xlabel='median_house_value', ylabel='Count'>"
     },
     "execution_count": 5,
     "metadata": {},
     "output_type": "execute_result"
    },
    {
     "data": {
      "text/plain": "<Figure size 640x480 with 1 Axes>",
      "image/png": "[encoded data removed]"
     },
     "metadata": {},
     "output_type": "display_data"
    }
   ],
   "source": [
    "sns.histplot(df.median_house_value, bins=50)"
   ],
   "metadata": {
    "collapsed": false,
    "ExecuteTime": {
     "end_time": "2023-09-22T13:31:02.286102Z",
     "start_time": "2023-09-22T13:31:02.168766Z"
    }
   },
   "id": "b12511f10254c302"
  },
  {
   "cell_type": "code",
   "execution_count": 6,
   "outputs": [],
   "source": [
    " reduced_df = df[(df.ocean_proximity == '<1H OCEAN') | (df.ocean_proximity == 'INLAND')]"
   ],
   "metadata": {
    "collapsed": false,
    "ExecuteTime": {
     "end_time": "2023-09-22T13:31:02.391577Z",
     "start_time": "2023-09-22T13:31:02.388604Z"
    }
   },
   "id": "90340facf808931a"
  },
  {
   "cell_type": "code",
   "execution_count": 7,
   "outputs": [],
   "source": [
    "base = [\n",
    "    'latitude',\n",
    "    'longitude',\n",
    "    'housing_median_age',\n",
    "    'total_rooms',\n",
    "    'total_bedrooms',\n",
    "    'population',\n",
    "    'households',\n",
    "    'median_income',\n",
    "    'median_house_value',\n",
    "]"
   ],
   "metadata": {
    "collapsed": false,
    "ExecuteTime": {
     "end_time": "2023-09-22T13:31:02.652609Z",
     "start_time": "2023-09-22T13:31:02.646899Z"
    }
   },
   "id": "6a00e07d811c7de0"
  },
  {
   "cell_type": "code",
   "execution_count": 8,
   "outputs": [],
   "source": [
    "subset_df = reduced_df[base]"
   ],
   "metadata": {
    "collapsed": false,
    "ExecuteTime": {
     "end_time": "2023-09-22T13:31:02.935221Z",
     "start_time": "2023-09-22T13:31:02.930141Z"
    }
   },
   "id": "9a8c6f3d66b9b2f9"
  },
  {
   "cell_type": "code",
   "execution_count": 9,
   "outputs": [
    {
     "data": {
      "text/plain": "       latitude  longitude  housing_median_age  total_rooms  total_bedrooms  \\\n701       37.64    -121.97                32.0       1283.0           194.0   \n830       37.61    -121.99                 9.0       3666.0           711.0   \n859       37.57    -121.97                21.0       4342.0           783.0   \n860       37.58    -121.96                15.0       3575.0           597.0   \n861       37.58    -121.98                20.0       4126.0          1031.0   \n...         ...        ...                 ...          ...             ...   \n20635     39.48    -121.09                25.0       1665.0           374.0   \n20636     39.49    -121.21                18.0        697.0           150.0   \n20637     39.43    -121.22                17.0       2254.0           485.0   \n20638     39.43    -121.32                18.0       1860.0           409.0   \n20639     39.37    -121.24                16.0       2785.0           616.0   \n\n       population  households  median_income  median_house_value  \n701         485.0       171.0         6.0574            431000.0  \n830        2341.0       703.0         4.6458            217000.0  \n859        2172.0       789.0         4.6146            247600.0  \n860        1777.0       559.0         5.7192            283500.0  \n861        2079.0       975.0         3.6832            216900.0  \n...           ...         ...            ...                 ...  \n20635       845.0       330.0         1.5603             78100.0  \n20636       356.0       114.0         2.5568             77100.0  \n20637      1007.0       433.0         1.7000             92300.0  \n20638       741.0       349.0         1.8672             84700.0  \n20639      1387.0       530.0         2.3886             89400.0  \n\n[15687 rows x 9 columns]",
      "text/html": "<div>\n<style scoped>\n    .dataframe tbody tr th:only-of-type {\n        vertical-align: middle;\n    }\n\n    .dataframe tbody tr th {\n        vertical-align: top;\n    }\n\n    .dataframe thead th {\n        text-align: right;\n    }\n</style>\n<table border=\"1\" class=\"dataframe\">\n  <thead>\n    <tr style=\"text-align: right;\">\n      <th></th>\n      <th>latitude</th>\n      <th>longitude</th>\n      <th>housing_median_age</th>\n      <th>total_rooms</th>\n      <th>total_bedrooms</th>\n      <th>population</th>\n      <th>households</th>\n      <th>median_income</th>\n      <th>median_house_value</th>\n    </tr>\n  </thead>\n  <tbody>\n    <tr>\n      <th>701</th>\n      <td>37.64</td>\n      <td>-121.97</td>\n      <td>32.0</td>\n      <td>1283.0</td>\n      <td>194.0</td>\n      <td>485.0</td>\n      <td>171.0</td>\n      <td>6.0574</td>\n      <td>431000.0</td>\n    </tr>\n    <tr>\n      <th>830</th>\n      <td>37.61</td>\n      <td>-121.99</td>\n      <td>9.0</td>\n      <td>3666.0</td>\n      <td>711.0</td>\n      <td>2341.0</td>\n      <td>703.0</td>\n      <td>4.6458</td>\n      <td>217000.0</td>\n    </tr>\n    <tr>\n      <th>859</th>\n      <td>37.57</td>\n      <td>-121.97</td>\n      <td>21.0</td>\n      <td>4342.0</td>\n      <td>783.0</td>\n      <td>2172.0</td>\n      <td>789.0</td>\n      <td>4.6146</td>\n      <td>247600.0</td>\n    </tr>\n    <tr>\n      <th>860</th>\n      <td>37.58</td>\n      <td>-121.96</td>\n      <td>15.0</td>\n      <td>3575.0</td>\n      <td>597.0</td>\n      <td>1777.0</td>\n      <td>559.0</td>\n      <td>5.7192</td>\n      <td>283500.0</td>\n    </tr>\n    <tr>\n      <th>861</th>\n      <td>37.58</td>\n      <td>-121.98</td>\n      <td>20.0</td>\n      <td>4126.0</td>\n      <td>1031.0</td>\n      <td>2079.0</td>\n      <td>975.0</td>\n      <td>3.6832</td>\n      <td>216900.0</td>\n    </tr>\n    <tr>\n      <th>...</th>\n      <td>...</td>\n      <td>...</td>\n      <td>...</td>\n      <td>...</td>\n      <td>...</td>\n      <td>...</td>\n      <td>...</td>\n      <td>...</td>\n      <td>...</td>\n    </tr>\n    <tr>\n      <th>20635</th>\n      <td>39.48</td>\n      <td>-121.09</td>\n      <td>25.0</td>\n      <td>1665.0</td>\n      <td>374.0</td>\n      <td>845.0</td>\n      <td>330.0</td>\n      <td>1.5603</td>\n      <td>78100.0</td>\n    </tr>\n    <tr>\n      <th>20636</th>\n      <td>39.49</td>\n      <td>-121.21</td>\n      <td>18.0</td>\n      <td>697.0</td>\n      <td>150.0</td>\n      <td>356.0</td>\n      <td>114.0</td>\n      <td>2.5568</td>\n      <td>77100.0</td>\n    </tr>\n    <tr>\n      <th>20637</th>\n      <td>39.43</td>\n      <td>-121.22</td>\n      <td>17.0</td>\n      <td>2254.0</td>\n      <td>485.0</td>\n      <td>1007.0</td>\n      <td>433.0</td>\n      <td>1.7000</td>\n      <td>92300.0</td>\n    </tr>\n    <tr>\n      <th>20638</th>\n      <td>39.43</td>\n      <td>-121.32</td>\n      <td>18.0</td>\n      <td>1860.0</td>\n      <td>409.0</td>\n      <td>741.0</td>\n      <td>349.0</td>\n      <td>1.8672</td>\n      <td>84700.0</td>\n    </tr>\n    <tr>\n      <th>20639</th>\n      <td>39.37</td>\n      <td>-121.24</td>\n      <td>16.0</td>\n      <td>2785.0</td>\n      <td>616.0</td>\n      <td>1387.0</td>\n      <td>530.0</td>\n      <td>2.3886</td>\n      <td>89400.0</td>\n    </tr>\n  </tbody>\n</table>\n<p>15687 rows × 9 columns</p>\n</div>"
     },
     "execution_count": 9,
     "metadata": {},
     "output_type": "execute_result"
    }
   ],
   "source": [
    "subset_df"
   ],
   "metadata": {
    "collapsed": false,
    "ExecuteTime": {
     "end_time": "2023-09-22T13:31:03.234766Z",
     "start_time": "2023-09-22T13:31:03.215784Z"
    }
   },
   "id": "b688720bbce356ca"
  },
  {
   "cell_type": "code",
   "execution_count": 10,
   "outputs": [
    {
     "data": {
      "text/plain": "latitude                0\nlongitude               0\nhousing_median_age      0\ntotal_rooms             0\ntotal_bedrooms        157\npopulation              0\nhouseholds              0\nmedian_income           0\nmedian_house_value      0\ndtype: int64"
     },
     "execution_count": 10,
     "metadata": {},
     "output_type": "execute_result"
    }
   ],
   "source": [
    "# Checking which series has null values\n",
    "subset_df.isnull().sum()"
   ],
   "metadata": {
    "collapsed": false,
    "ExecuteTime": {
     "end_time": "2023-09-22T13:31:03.491878Z",
     "start_time": "2023-09-22T13:31:03.487605Z"
    }
   },
   "id": "85b0904fc7f68f6a"
  },
  {
   "cell_type": "code",
   "execution_count": 11,
   "outputs": [
    {
     "data": {
      "text/plain": "1195.0"
     },
     "execution_count": 11,
     "metadata": {},
     "output_type": "execute_result"
    }
   ],
   "source": [
    "# Checking the median of population\n",
    "subset_df.population.median()"
   ],
   "metadata": {
    "collapsed": false,
    "ExecuteTime": {
     "end_time": "2023-09-22T13:31:03.779806Z",
     "start_time": "2023-09-22T13:31:03.774581Z"
    }
   },
   "id": "5dec6bf123336ef5"
  },
  {
   "cell_type": "code",
   "execution_count": 12,
   "outputs": [],
   "source": [
    "np.random.seed(42)\n",
    "\n",
    "n = len(subset_df)\n",
    "n_val = int(n * 0.2)\n",
    "n_test = int(n * 0.2)\n",
    "n_train = n - n_val - n_test"
   ],
   "metadata": {
    "collapsed": false,
    "ExecuteTime": {
     "end_time": "2023-09-22T13:31:04.089968Z",
     "start_time": "2023-09-22T13:31:04.085507Z"
    }
   },
   "id": "2e54bdc2f8411553"
  },
  {
   "cell_type": "code",
   "execution_count": 13,
   "outputs": [
    {
     "data": {
      "text/plain": "(15687, 15687)"
     },
     "execution_count": 13,
     "metadata": {},
     "output_type": "execute_result"
    }
   ],
   "source": [
    "n, n_val+n_test+n_train"
   ],
   "metadata": {
    "collapsed": false,
    "ExecuteTime": {
     "end_time": "2023-09-22T13:31:04.362677Z",
     "start_time": "2023-09-22T13:31:04.357351Z"
    }
   },
   "id": "6f02a09c01256fe3"
  },
  {
   "cell_type": "code",
   "execution_count": 14,
   "outputs": [],
   "source": [
    "idx = np.arange(n)"
   ],
   "metadata": {
    "collapsed": false,
    "ExecuteTime": {
     "end_time": "2023-09-22T13:31:04.639570Z",
     "start_time": "2023-09-22T13:31:04.634913Z"
    }
   },
   "id": "a5c5e84ff6c2d24b"
  },
  {
   "cell_type": "code",
   "execution_count": 15,
   "outputs": [
    {
     "data": {
      "text/plain": "array([15183,  4469,  9316, ...,  5390,   860,  7270])"
     },
     "execution_count": 15,
     "metadata": {},
     "output_type": "execute_result"
    }
   ],
   "source": [
    "np.random.shuffle(idx)\n",
    "idx"
   ],
   "metadata": {
    "collapsed": false,
    "ExecuteTime": {
     "end_time": "2023-09-22T13:31:04.975967Z",
     "start_time": "2023-09-22T13:31:04.957619Z"
    }
   },
   "id": "fa3f6f49c060776e"
  },
  {
   "cell_type": "code",
   "execution_count": 16,
   "outputs": [],
   "source": [
    "df_train = subset_df.iloc[idx[:n_train]]\n",
    "df_val = subset_df.iloc[idx[n_train:n_train+n_val]]\n",
    "df_test = subset_df.iloc[idx[n_train+n_val:]]"
   ],
   "metadata": {
    "collapsed": false,
    "ExecuteTime": {
     "end_time": "2023-09-22T13:31:05.460890Z",
     "start_time": "2023-09-22T13:31:05.457479Z"
    }
   },
   "id": "2c505e1e890034fc"
  },
  {
   "cell_type": "code",
   "execution_count": 17,
   "outputs": [
    {
     "data": {
      "text/plain": "       latitude  longitude  housing_median_age  total_rooms  total_bedrooms  \\\n19963     36.23    -119.14                22.0       2935.0           523.0   \n5929      34.12    -117.79                16.0       2426.0           426.0   \n11377     33.68    -117.97                26.0       3653.0           568.0   \n6443      34.10    -118.03                32.0       2668.0           609.0   \n17546     37.34    -121.87                39.0       2479.0           541.0   \n\n       population  households  median_income  median_house_value  \n19963      1927.0       530.0         2.5875             70400.0  \n5929       1319.0       446.0         4.8125            224500.0  \n11377      1930.0       585.0         5.7301            260900.0  \n6443       1512.0       541.0         2.9422            233100.0  \n17546      1990.0       506.0         2.4306            289100.0  ",
      "text/html": "<div>\n<style scoped>\n    .dataframe tbody tr th:only-of-type {\n        vertical-align: middle;\n    }\n\n    .dataframe tbody tr th {\n        vertical-align: top;\n    }\n\n    .dataframe thead th {\n        text-align: right;\n    }\n</style>\n<table border=\"1\" class=\"dataframe\">\n  <thead>\n    <tr style=\"text-align: right;\">\n      <th></th>\n      <th>latitude</th>\n      <th>longitude</th>\n      <th>housing_median_age</th>\n      <th>total_rooms</th>\n      <th>total_bedrooms</th>\n      <th>population</th>\n      <th>households</th>\n      <th>median_income</th>\n      <th>median_house_value</th>\n    </tr>\n  </thead>\n  <tbody>\n    <tr>\n      <th>19963</th>\n      <td>36.23</td>\n      <td>-119.14</td>\n      <td>22.0</td>\n      <td>2935.0</td>\n      <td>523.0</td>\n      <td>1927.0</td>\n      <td>530.0</td>\n      <td>2.5875</td>\n      <td>70400.0</td>\n    </tr>\n    <tr>\n      <th>5929</th>\n      <td>34.12</td>\n      <td>-117.79</td>\n      <td>16.0</td>\n      <td>2426.0</td>\n      <td>426.0</td>\n      <td>1319.0</td>\n      <td>446.0</td>\n      <td>4.8125</td>\n      <td>224500.0</td>\n    </tr>\n    <tr>\n      <th>11377</th>\n      <td>33.68</td>\n      <td>-117.97</td>\n      <td>26.0</td>\n      <td>3653.0</td>\n      <td>568.0</td>\n      <td>1930.0</td>\n      <td>585.0</td>\n      <td>5.7301</td>\n      <td>260900.0</td>\n    </tr>\n    <tr>\n      <th>6443</th>\n      <td>34.10</td>\n      <td>-118.03</td>\n      <td>32.0</td>\n      <td>2668.0</td>\n      <td>609.0</td>\n      <td>1512.0</td>\n      <td>541.0</td>\n      <td>2.9422</td>\n      <td>233100.0</td>\n    </tr>\n    <tr>\n      <th>17546</th>\n      <td>37.34</td>\n      <td>-121.87</td>\n      <td>39.0</td>\n      <td>2479.0</td>\n      <td>541.0</td>\n      <td>1990.0</td>\n      <td>506.0</td>\n      <td>2.4306</td>\n      <td>289100.0</td>\n    </tr>\n  </tbody>\n</table>\n</div>"
     },
     "execution_count": 17,
     "metadata": {},
     "output_type": "execute_result"
    }
   ],
   "source": [
    "df_train.head()"
   ],
   "metadata": {
    "collapsed": false,
    "ExecuteTime": {
     "end_time": "2023-09-22T13:31:05.755198Z",
     "start_time": "2023-09-22T13:31:05.742895Z"
    }
   },
   "id": "e6bf01ee60896493"
  },
  {
   "cell_type": "code",
   "execution_count": 18,
   "outputs": [],
   "source": [
    "y_train = np.log1p(df_train.median_house_value.values)\n",
    "y_val = np.log1p(df_val.median_house_value.values)\n",
    "y_test = np.log1p(df_test.median_house_value.values)"
   ],
   "metadata": {
    "collapsed": false,
    "ExecuteTime": {
     "end_time": "2023-09-22T13:31:06.237272Z",
     "start_time": "2023-09-22T13:31:06.234023Z"
    }
   },
   "id": "303d725cde387d0d"
  },
  {
   "cell_type": "code",
   "execution_count": 19,
   "outputs": [],
   "source": [
    "del df_train['median_house_value']\n",
    "del df_val['median_house_value']\n",
    "del df_test['median_house_value']"
   ],
   "metadata": {
    "collapsed": false,
    "ExecuteTime": {
     "end_time": "2023-09-22T13:31:06.579106Z",
     "start_time": "2023-09-22T13:31:06.568409Z"
    }
   },
   "id": "a2b73001f04d4964"
  },
  {
   "cell_type": "code",
   "execution_count": 20,
   "outputs": [
    {
     "data": {
      "text/plain": "latitude                37.3400\nlongitude             -121.8700\nhousing_median_age      39.0000\ntotal_rooms           2479.0000\ntotal_bedrooms         541.0000\npopulation            1990.0000\nhouseholds             506.0000\nmedian_income            2.4306\nName: 17546, dtype: float64"
     },
     "execution_count": 20,
     "metadata": {},
     "output_type": "execute_result"
    }
   ],
   "source": [
    "df_train.iloc[4]"
   ],
   "metadata": {
    "collapsed": false,
    "ExecuteTime": {
     "end_time": "2023-09-22T13:31:07.126330Z",
     "start_time": "2023-09-22T13:31:07.122663Z"
    }
   },
   "id": "ca5d8f1a9b999872"
  },
  {
   "cell_type": "code",
   "execution_count": 21,
   "outputs": [],
   "source": [
    "def train_linear_regression(X, y):\n",
    "    ones = np.ones(X.shape[0])\n",
    "    X = np.column_stack([ones, X])\n",
    "    \n",
    "    XTX = X.T.dot(X)\n",
    "    XTX_inv = np.linalg.inv(XTX)\n",
    "    \n",
    "    w_full = XTX_inv.dot(X.T).dot(y)\n",
    "    return w_full[0], w_full[1:]"
   ],
   "metadata": {
    "collapsed": false,
    "ExecuteTime": {
     "end_time": "2023-09-22T13:31:07.594978Z",
     "start_time": "2023-09-22T13:31:07.591728Z"
    }
   },
   "id": "6affe8e76111c980"
  },
  {
   "cell_type": "code",
   "execution_count": 22,
   "outputs": [],
   "source": [
    "fill_zeros = df_train.fillna(0)\n",
    "fill_median = df_train.fillna(df_train.total_bedrooms.mean())"
   ],
   "metadata": {
    "collapsed": false,
    "ExecuteTime": {
     "end_time": "2023-09-22T13:31:08.095755Z",
     "start_time": "2023-09-22T13:31:08.092184Z"
    }
   },
   "id": "a44de63e699359ce"
  },
  {
   "cell_type": "code",
   "execution_count": 23,
   "outputs": [],
   "source": [
    "def rmse(y, y_pred):\n",
    "    se = (y - y_pred) ** 2\n",
    "    mse = se.mean()\n",
    "    return np.sqrt(mse)"
   ],
   "metadata": {
    "collapsed": false,
    "ExecuteTime": {
     "end_time": "2023-09-22T13:31:08.689106Z",
     "start_time": "2023-09-22T13:31:08.684651Z"
    }
   },
   "id": "e1bf43e861ff87ed"
  },
  {
   "cell_type": "code",
   "execution_count": 24,
   "outputs": [
    {
     "data": {
      "text/plain": "(-9.763249478052225,\n array([-2.68233309e-01, -2.55938802e-01,  1.77710730e-03, -3.38393956e-05,\n         2.93766353e-04, -1.52190447e-04,  3.96908643e-04,  1.80600946e-01]))"
     },
     "execution_count": 24,
     "metadata": {},
     "output_type": "execute_result"
    }
   ],
   "source": [
    "w0, w = train_linear_regression(fill_zeros, y_train)\n",
    "w0, w"
   ],
   "metadata": {
    "collapsed": false,
    "ExecuteTime": {
     "end_time": "2023-09-22T13:31:09.147778Z",
     "start_time": "2023-09-22T13:31:09.020692Z"
    }
   },
   "id": "dff3d8b1754f82f9"
  },
  {
   "cell_type": "code",
   "execution_count": 25,
   "outputs": [
    {
     "data": {
      "text/plain": "(-9.886133216145401,\n array([-2.68652914e-01, -2.57026361e-01,  1.79880767e-03, -3.87631029e-05,\n         3.78806885e-04, -1.49641599e-04,  3.25344392e-04,  1.81951358e-01]))"
     },
     "execution_count": 25,
     "metadata": {},
     "output_type": "execute_result"
    }
   ],
   "source": [
    "w0_med, w_med = train_linear_regression(fill_median, y_train)\n",
    "w0_med, w_med"
   ],
   "metadata": {
    "collapsed": false,
    "ExecuteTime": {
     "end_time": "2023-09-22T13:31:09.346165Z",
     "start_time": "2023-09-22T13:31:09.291970Z"
    }
   },
   "id": "a366a5c2190dcd00"
  },
  {
   "cell_type": "code",
   "execution_count": 26,
   "outputs": [
    {
     "data": {
      "text/plain": "<Axes: ylabel='Count'>"
     },
     "execution_count": 26,
     "metadata": {},
     "output_type": "execute_result"
    },
    {
     "data": {
      "text/plain": "<Figure size 640x480 with 1 Axes>",
      "image/png": "[encoded data removed]"
     },
     "metadata": {},
     "output_type": "display_data"
    }
   ],
   "source": [
    "y_pred = w0 + fill_zeros.dot(w)\n",
    "y_pred_two = w0_med + fill_median.dot(w_med)\n",
    "sns.histplot(y_pred, color=\"red\", alpha=0.5, bins=50)\n",
    "sns.histplot(y_pred_two, color=\"green\", alpha=0.5, bins=50)\n",
    "sns.histplot(y_train, color=\"blue\", alpha=0.5, bins=50)"
   ],
   "metadata": {
    "collapsed": false,
    "ExecuteTime": {
     "end_time": "2023-09-22T13:31:09.972513Z",
     "start_time": "2023-09-22T13:31:09.769328Z"
    }
   },
   "id": "ef7557af2d390f7e"
  },
  {
   "cell_type": "code",
   "execution_count": 27,
   "outputs": [
    {
     "data": {
      "text/plain": "(0.34, 0.34)"
     },
     "execution_count": 27,
     "metadata": {},
     "output_type": "execute_result"
    }
   ],
   "source": [
    "r1 = round(rmse(y_train, y_pred), 2)\n",
    "r2 = round(rmse(y_train, y_pred_two), 2)\n",
    "r1, r2"
   ],
   "metadata": {
    "collapsed": false,
    "ExecuteTime": {
     "end_time": "2023-09-22T13:31:16.321312Z",
     "start_time": "2023-09-22T13:31:16.304443Z"
    }
   },
   "id": "66cb08b7f0b3a27f"
  },
  {
   "cell_type": "code",
   "execution_count": 33,
   "outputs": [],
   "source": [
    "def train_linear_regression_reg(X, y, reg=0.01):\n",
    "    ones = np.ones(X.shape[0])\n",
    "    X = np.column_stack([ones, X])\n",
    "    \n",
    "    XTX = X.T.dot(X)\n",
    "    XTX = XTX + reg * np.eye(XTX.shape[0])\n",
    "    XTX_inv = np.linalg.inv(XTX)\n",
    "    \n",
    "    w_full = XTX_inv.dot(X.T).dot(y)\n",
    "    return w_full[0], w_full[1:]"
   ],
   "metadata": {
    "collapsed": false,
    "ExecuteTime": {
     "end_time": "2023-09-22T14:24:49.937764Z",
     "start_time": "2023-09-22T14:24:49.909381Z"
    }
   },
   "id": "8284670e222d9be9"
  },
  {
   "cell_type": "code",
   "execution_count": 43,
   "outputs": [
    {
     "name": "stdout",
     "output_type": "stream",
     "text": [
      "0 : rmse: 0.3402719715829534\n",
      "1e-06 : rmse: 0.34027197158298483\n",
      "0.0001 : rmse: 0.34027197189765424\n",
      "0.001 : rmse: 0.34027200293365006\n",
      "0.01 : rmse: 0.3402749908964379\n",
      "0.1 : rmse: 0.34048643951072227\n",
      "1 : rmse: 0.34350313673488736\n",
      "5 : rmse: 0.3461012352738949\n",
      "10 : rmse: 0.3466347720482579\n"
     ]
    }
   ],
   "source": [
    "X_train = df_train.fillna(0)\n",
    "\n",
    "for reg in [0, 0.000001, 0.0001, 0.001, 0.01, 0.1, 1, 5, 10]:\n",
    "    w0, w = train_linear_regression_reg(X_train, y_train, reg)\n",
    "    y_pred = w0 + X_train.dot(w)\n",
    "    print(reg, \":\", \"rmse:\", rmse(y_train, y_pred))\n"
   ],
   "metadata": {
    "collapsed": false,
    "ExecuteTime": {
     "end_time": "2023-09-22T14:48:07.059109Z",
     "start_time": "2023-09-22T14:48:06.971381Z"
    }
   },
   "id": "af0c41a8183b4f9a"
  },
  {
   "cell_type": "code",
   "execution_count": 45,
   "outputs": [
    {
     "data": {
      "text/plain": "0.005189962818433047"
     },
     "execution_count": 45,
     "metadata": {},
     "output_type": "execute_result"
    }
   ],
   "source": [
    "n = len(subset_df)\n",
    "n_val = int(n * 0.2)\n",
    "n_test = int(n * 0.2)\n",
    "n_train = n - n_val - n_test\n",
    "\n",
    "rmses = []\n",
    "for s in [0, 1, 2, 3, 4, 5, 6, 7, 8, 9]:    \n",
    "    np.random.seed(s)    \n",
    "    idx = np.arange(n)\n",
    "    np.random.shuffle(idx)\n",
    "\n",
    "    df_val = subset_df.iloc[idx[n_train:n_train+n_val]]\n",
    "    y_val = np.log1p(df_val.median_house_value.values)\n",
    "    del df_val['median_house_value']\n",
    "    df_val = df_val.fillna(0)\n",
    "    \n",
    "    w0, w = train_linear_regression(df_val, y_val)\n",
    "    y_pred = w0 + df_val.dot(w)\n",
    "    rmses.append(rmse(y_val, y_pred))\n",
    "    \n",
    "np.std(rmses)    "
   ],
   "metadata": {
    "collapsed": false,
    "ExecuteTime": {
     "end_time": "2023-09-22T15:19:00.466081Z",
     "start_time": "2023-09-22T15:19:00.402259Z"
    }
   },
   "id": "b69575ae608df7de"
  },
  {
   "cell_type": "code",
   "execution_count": 83,
   "outputs": [
    {
     "data": {
      "text/plain": "0.16498208163355377"
     },
     "execution_count": 83,
     "metadata": {},
     "output_type": "execute_result"
    }
   ],
   "source": [
    "n = len(subset_df)\n",
    "\n",
    "np.random.seed(9)    \n",
    "\n",
    "idx = np.arange(n)\n",
    "np.random.shuffle(idx)\n",
    "\n",
    "n_val = int(n * 0.2)\n",
    "n_test = int(n * 0.2)\n",
    "n_train = n - n_val - n_test\n",
    "\n",
    "df_train = subset_df.iloc[idx[:n_train]]\n",
    "df_val = subset_df.iloc[idx[n_train:n_train+n_val]]\n",
    "df_test = subset_df.iloc[idx[n_train+n_val:]]\n",
    "\n",
    "comb_df = pd.concat([df_train, df_val])\n",
    "comb_df = comb_df.reset_index(drop=True)\n",
    "comb_df = comb_df.fillna(0)\n",
    "\n",
    "y_train = np.log1p(df_train.median_house_value.values)\n",
    "y_val = np.log1p(df_val.median_house_value.values)\n",
    "\n",
    "comb_y = np.concatenate([y_train, y_val])\n",
    "comb_y\n",
    "\n",
    "w0, w = train_linear_regression_reg(comb_df, comb_y, 0.001)\n",
    "\n",
    "y_pred = w0 + df_test.dot(w)\n",
    "y_pred\n",
    "\n",
    "res = rmse(y_test, y_pred)\n",
    "res"
   ],
   "metadata": {
    "collapsed": false,
    "ExecuteTime": {
     "end_time": "2023-09-22T15:52:04.090392Z",
     "start_time": "2023-09-22T15:52:04.016456Z"
    }
   },
   "id": "e69c1276848b4432"
  },
  {
   "cell_type": "code",
   "execution_count": null,
   "outputs": [],
   "source": [],
   "metadata": {
    "collapsed": false
   },
   "id": "822093217182b8b1"
  }
 ],
 "metadata": {
  "kernelspec": {
   "display_name": "Python 3",
   "language": "python",
   "name": "python3"
  },
  "language_info": {
   "codemirror_mode": {
    "name": "ipython",
    "version": 2
   },
   "file_extension": ".py",
   "mimetype": "text/x-python",
   "name": "python",
   "nbconvert_exporter": "python",
   "pygments_lexer": "ipython2",
   "version": "2.7.6"
  }
 },
 "nbformat": 4,
 "nbformat_minor": 5
}
