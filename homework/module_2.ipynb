{
 "cells": [
  {
   "cell_type": "code",
   "execution_count": 1,
   "id": "initial_id",
   "metadata": {
    "collapsed": true,
    "ExecuteTime": {
     "end_time": "2023-09-22T00:37:38.095645Z",
     "start_time": "2023-09-22T00:37:37.609308Z"
    }
   },
   "outputs": [
    {
     "name": "stdout",
     "output_type": "stream",
     "text": [
      "--2023-09-21 20:37:37--  https://raw.githubusercontent.com/alexeygrigorev/datasets/master/housing.csv\r\n",
      "Resolving raw.githubusercontent.com (raw.githubusercontent.com)... 2606:50c0:8002::154, 2606:50c0:8001::154, 2606:50c0:8003::154, ...\r\n",
      "Connecting to raw.githubusercontent.com (raw.githubusercontent.com)|2606:50c0:8002::154|:443... connected.\r\n",
      "HTTP request sent, awaiting response... 200 OK\r\n",
      "Length: 1423529 (1.4M) [text/plain]\r\n",
      "Saving to: ‘housing.csv.1’\r\n",
      "\r\n",
      "housing.csv.1       100%[===================>]   1.36M  --.-KB/s    in 0.09s   \r\n",
      "\r\n",
      "2023-09-21 20:37:37 (14.9 MB/s) - ‘housing.csv.1’ saved [1423529/1423529]\r\n",
      "\r\n"
     ]
    }
   ],
   "source": [
    "# Lets get some data\n",
    "!wget https://raw.githubusercontent.com/alexeygrigorev/datasets/master/housing.csv "
   ]
  },
  {
   "cell_type": "code",
   "execution_count": 5,
   "outputs": [],
   "source": [
    "import pandas as pd\n",
    "import numpy as np\n",
    "import matplotlib.pyplot as plt\n",
    "import seaborn as sns\n",
    "%matplotlib inline"
   ],
   "metadata": {
    "collapsed": false,
    "ExecuteTime": {
     "end_time": "2023-09-22T00:39:36.953227Z",
     "start_time": "2023-09-22T00:39:36.912554Z"
    }
   },
   "id": "1aa650ef08b5d716"
  },
  {
   "cell_type": "code",
   "execution_count": 3,
   "outputs": [],
   "source": [
    "df = pd.read_csv(\"./housing.csv\")"
   ],
   "metadata": {
    "collapsed": false,
    "ExecuteTime": {
     "end_time": "2023-09-22T00:38:15.441811Z",
     "start_time": "2023-09-22T00:38:15.419225Z"
    }
   },
   "id": "7c0efd234b33ae02"
  },
  {
   "cell_type": "code",
   "execution_count": 24,
   "outputs": [
    {
     "data": {
      "text/plain": "longitude             float64\nlatitude              float64\nhousing_median_age    float64\ntotal_rooms           float64\ntotal_bedrooms        float64\npopulation            float64\nhouseholds            float64\nmedian_income         float64\nmedian_house_value    float64\nocean_proximity        object\ndtype: object"
     },
     "execution_count": 24,
     "metadata": {},
     "output_type": "execute_result"
    }
   ],
   "source": [
    "df.head().dtypes"
   ],
   "metadata": {
    "collapsed": false,
    "ExecuteTime": {
     "end_time": "2023-09-22T00:45:39.011027Z",
     "start_time": "2023-09-22T00:45:39.001269Z"
    }
   },
   "id": "dc337269655b5a70"
  },
  {
   "cell_type": "code",
   "execution_count": 7,
   "outputs": [
    {
     "data": {
      "text/plain": "<Axes: xlabel='median_house_value', ylabel='Count'>"
     },
     "execution_count": 7,
     "metadata": {},
     "output_type": "execute_result"
    },
    {
     "data": {
      "text/plain": "<Figure size 640x480 with 1 Axes>",
      "image/png": "[encoded data removed]"
     },
     "metadata": {},
     "output_type": "display_data"
    }
   ],
   "source": [
    "sns.histplot(df.median_house_value, bins=50)"
   ],
   "metadata": {
    "collapsed": false,
    "ExecuteTime": {
     "end_time": "2023-09-22T00:40:01.566945Z",
     "start_time": "2023-09-22T00:40:01.272728Z"
    }
   },
   "id": "b12511f10254c302"
  },
  {
   "cell_type": "code",
   "execution_count": 43,
   "outputs": [],
   "source": [
    "reduced_df = df[(df.ocean_proximity == '<1H OCEAN') | (df.ocean_proximity == 'INLAND')]"
   ],
   "metadata": {
    "collapsed": false,
    "ExecuteTime": {
     "end_time": "2023-09-22T00:53:56.622182Z",
     "start_time": "2023-09-22T00:53:56.610409Z"
    }
   },
   "id": "90340facf808931a"
  },
  {
   "cell_type": "code",
   "execution_count": 44,
   "outputs": [],
   "source": [
    "base = [\n",
    "    'latitude',\n",
    "    'longitude',\n",
    "    'housing_median_age',\n",
    "    'total_rooms',\n",
    "    'total_bedrooms',\n",
    "    'population',\n",
    "    'households',\n",
    "    'median_income',\n",
    "    'median_house_value',\n",
    "]"
   ],
   "metadata": {
    "collapsed": false,
    "ExecuteTime": {
     "end_time": "2023-09-22T00:53:56.896582Z",
     "start_time": "2023-09-22T00:53:56.885748Z"
    }
   },
   "id": "6a00e07d811c7de0"
  },
  {
   "cell_type": "code",
   "execution_count": 45,
   "outputs": [],
   "source": [
    "subset_df = reduced_df[base]"
   ],
   "metadata": {
    "collapsed": false,
    "ExecuteTime": {
     "end_time": "2023-09-22T00:53:57.167487Z",
     "start_time": "2023-09-22T00:53:57.159059Z"
    }
   },
   "id": "9a8c6f3d66b9b2f9"
  },
  {
   "cell_type": "code",
   "execution_count": 46,
   "outputs": [
    {
     "data": {
      "text/plain": "       latitude  longitude  housing_median_age  total_rooms  total_bedrooms  \\\n701       37.64    -121.97                32.0       1283.0           194.0   \n830       37.61    -121.99                 9.0       3666.0           711.0   \n859       37.57    -121.97                21.0       4342.0           783.0   \n860       37.58    -121.96                15.0       3575.0           597.0   \n861       37.58    -121.98                20.0       4126.0          1031.0   \n...         ...        ...                 ...          ...             ...   \n20635     39.48    -121.09                25.0       1665.0           374.0   \n20636     39.49    -121.21                18.0        697.0           150.0   \n20637     39.43    -121.22                17.0       2254.0           485.0   \n20638     39.43    -121.32                18.0       1860.0           409.0   \n20639     39.37    -121.24                16.0       2785.0           616.0   \n\n       population  households  median_income  median_house_value  \n701         485.0       171.0         6.0574            431000.0  \n830        2341.0       703.0         4.6458            217000.0  \n859        2172.0       789.0         4.6146            247600.0  \n860        1777.0       559.0         5.7192            283500.0  \n861        2079.0       975.0         3.6832            216900.0  \n...           ...         ...            ...                 ...  \n20635       845.0       330.0         1.5603             78100.0  \n20636       356.0       114.0         2.5568             77100.0  \n20637      1007.0       433.0         1.7000             92300.0  \n20638       741.0       349.0         1.8672             84700.0  \n20639      1387.0       530.0         2.3886             89400.0  \n\n[15687 rows x 9 columns]",
      "text/html": "<div>\n<style scoped>\n    .dataframe tbody tr th:only-of-type {\n        vertical-align: middle;\n    }\n\n    .dataframe tbody tr th {\n        vertical-align: top;\n    }\n\n    .dataframe thead th {\n        text-align: right;\n    }\n</style>\n<table border=\"1\" class=\"dataframe\">\n  <thead>\n    <tr style=\"text-align: right;\">\n      <th></th>\n      <th>latitude</th>\n      <th>longitude</th>\n      <th>housing_median_age</th>\n      <th>total_rooms</th>\n      <th>total_bedrooms</th>\n      <th>population</th>\n      <th>households</th>\n      <th>median_income</th>\n      <th>median_house_value</th>\n    </tr>\n  </thead>\n  <tbody>\n    <tr>\n      <th>701</th>\n      <td>37.64</td>\n      <td>-121.97</td>\n      <td>32.0</td>\n      <td>1283.0</td>\n      <td>194.0</td>\n      <td>485.0</td>\n      <td>171.0</td>\n      <td>6.0574</td>\n      <td>431000.0</td>\n    </tr>\n    <tr>\n      <th>830</th>\n      <td>37.61</td>\n      <td>-121.99</td>\n      <td>9.0</td>\n      <td>3666.0</td>\n      <td>711.0</td>\n      <td>2341.0</td>\n      <td>703.0</td>\n      <td>4.6458</td>\n      <td>217000.0</td>\n    </tr>\n    <tr>\n      <th>859</th>\n      <td>37.57</td>\n      <td>-121.97</td>\n      <td>21.0</td>\n      <td>4342.0</td>\n      <td>783.0</td>\n      <td>2172.0</td>\n      <td>789.0</td>\n      <td>4.6146</td>\n      <td>247600.0</td>\n    </tr>\n    <tr>\n      <th>860</th>\n      <td>37.58</td>\n      <td>-121.96</td>\n      <td>15.0</td>\n      <td>3575.0</td>\n      <td>597.0</td>\n      <td>1777.0</td>\n      <td>559.0</td>\n      <td>5.7192</td>\n      <td>283500.0</td>\n    </tr>\n    <tr>\n      <th>861</th>\n      <td>37.58</td>\n      <td>-121.98</td>\n      <td>20.0</td>\n      <td>4126.0</td>\n      <td>1031.0</td>\n      <td>2079.0</td>\n      <td>975.0</td>\n      <td>3.6832</td>\n      <td>216900.0</td>\n    </tr>\n    <tr>\n      <th>...</th>\n      <td>...</td>\n      <td>...</td>\n      <td>...</td>\n      <td>...</td>\n      <td>...</td>\n      <td>...</td>\n      <td>...</td>\n      <td>...</td>\n      <td>...</td>\n    </tr>\n    <tr>\n      <th>20635</th>\n      <td>39.48</td>\n      <td>-121.09</td>\n      <td>25.0</td>\n      <td>1665.0</td>\n      <td>374.0</td>\n      <td>845.0</td>\n      <td>330.0</td>\n      <td>1.5603</td>\n      <td>78100.0</td>\n    </tr>\n    <tr>\n      <th>20636</th>\n      <td>39.49</td>\n      <td>-121.21</td>\n      <td>18.0</td>\n      <td>697.0</td>\n      <td>150.0</td>\n      <td>356.0</td>\n      <td>114.0</td>\n      <td>2.5568</td>\n      <td>77100.0</td>\n    </tr>\n    <tr>\n      <th>20637</th>\n      <td>39.43</td>\n      <td>-121.22</td>\n      <td>17.0</td>\n      <td>2254.0</td>\n      <td>485.0</td>\n      <td>1007.0</td>\n      <td>433.0</td>\n      <td>1.7000</td>\n      <td>92300.0</td>\n    </tr>\n    <tr>\n      <th>20638</th>\n      <td>39.43</td>\n      <td>-121.32</td>\n      <td>18.0</td>\n      <td>1860.0</td>\n      <td>409.0</td>\n      <td>741.0</td>\n      <td>349.0</td>\n      <td>1.8672</td>\n      <td>84700.0</td>\n    </tr>\n    <tr>\n      <th>20639</th>\n      <td>39.37</td>\n      <td>-121.24</td>\n      <td>16.0</td>\n      <td>2785.0</td>\n      <td>616.0</td>\n      <td>1387.0</td>\n      <td>530.0</td>\n      <td>2.3886</td>\n      <td>89400.0</td>\n    </tr>\n  </tbody>\n</table>\n<p>15687 rows × 9 columns</p>\n</div>"
     },
     "execution_count": 46,
     "metadata": {},
     "output_type": "execute_result"
    }
   ],
   "source": [
    "subset_df"
   ],
   "metadata": {
    "collapsed": false,
    "ExecuteTime": {
     "end_time": "2023-09-22T00:53:57.627787Z",
     "start_time": "2023-09-22T00:53:57.620942Z"
    }
   },
   "id": "b688720bbce356ca"
  },
  {
   "cell_type": "code",
   "execution_count": 49,
   "outputs": [
    {
     "data": {
      "text/plain": "latitude                0\nlongitude               0\nhousing_median_age      0\ntotal_rooms             0\ntotal_bedrooms        157\npopulation              0\nhouseholds              0\nmedian_income           0\nmedian_house_value      0\ndtype: int64"
     },
     "execution_count": 49,
     "metadata": {},
     "output_type": "execute_result"
    }
   ],
   "source": [
    "# Checking which series has null values\n",
    "subset_df.isnull().sum()"
   ],
   "metadata": {
    "collapsed": false,
    "ExecuteTime": {
     "end_time": "2023-09-22T00:54:24.970717Z",
     "start_time": "2023-09-22T00:54:24.960112Z"
    }
   },
   "id": "85b0904fc7f68f6a"
  },
  {
   "cell_type": "code",
   "execution_count": 51,
   "outputs": [
    {
     "data": {
      "text/plain": "1195.0"
     },
     "execution_count": 51,
     "metadata": {},
     "output_type": "execute_result"
    }
   ],
   "source": [
    "# Checking the median of population\n",
    "subset_df.population.median()"
   ],
   "metadata": {
    "collapsed": false,
    "ExecuteTime": {
     "end_time": "2023-09-22T00:54:48.155881Z",
     "start_time": "2023-09-22T00:54:48.144455Z"
    }
   },
   "id": "5dec6bf123336ef5"
  },
  {
   "cell_type": "code",
   "execution_count": 64,
   "outputs": [],
   "source": [
    "np.random.seed(42)\n",
    "\n",
    "n = len(subset_df)\n",
    "n_val = int(n * 0.2)\n",
    "n_test = int(n * 0.2)\n",
    "n_train = n - n_val - n_test"
   ],
   "metadata": {
    "collapsed": false,
    "ExecuteTime": {
     "end_time": "2023-09-22T00:59:56.903126Z",
     "start_time": "2023-09-22T00:59:56.880023Z"
    }
   },
   "id": "2e54bdc2f8411553"
  },
  {
   "cell_type": "code",
   "execution_count": 65,
   "outputs": [
    {
     "data": {
      "text/plain": "(15687, 15687)"
     },
     "execution_count": 65,
     "metadata": {},
     "output_type": "execute_result"
    }
   ],
   "source": [
    "n, n_val+n_test+n_train"
   ],
   "metadata": {
    "collapsed": false,
    "ExecuteTime": {
     "end_time": "2023-09-22T00:59:58.013077Z",
     "start_time": "2023-09-22T00:59:57.978938Z"
    }
   },
   "id": "6f02a09c01256fe3"
  },
  {
   "cell_type": "code",
   "execution_count": 66,
   "outputs": [],
   "source": [
    "idx = np.arange(n)"
   ],
   "metadata": {
    "collapsed": false,
    "ExecuteTime": {
     "end_time": "2023-09-22T00:59:59.106542Z",
     "start_time": "2023-09-22T00:59:59.082291Z"
    }
   },
   "id": "a5c5e84ff6c2d24b"
  },
  {
   "cell_type": "code",
   "execution_count": 67,
   "outputs": [
    {
     "data": {
      "text/plain": "array([15183,  4469,  9316, ...,  5390,   860,  7270])"
     },
     "execution_count": 67,
     "metadata": {},
     "output_type": "execute_result"
    }
   ],
   "source": [
    "np.random.shuffle(idx)\n",
    "idx"
   ],
   "metadata": {
    "collapsed": false,
    "ExecuteTime": {
     "end_time": "2023-09-22T00:59:59.550958Z",
     "start_time": "2023-09-22T00:59:59.534065Z"
    }
   },
   "id": "fa3f6f49c060776e"
  },
  {
   "cell_type": "code",
   "execution_count": 70,
   "outputs": [],
   "source": [
    "df_train = subset_df.iloc[idx[:n_train]]\n",
    "df_val = subset_df.iloc[idx[n_train:n_train+n_val]]\n",
    "df_test = subset_df.iloc[idx[n_train+n_val:]]"
   ],
   "metadata": {
    "collapsed": false,
    "ExecuteTime": {
     "end_time": "2023-09-22T01:05:53.645116Z",
     "start_time": "2023-09-22T01:05:53.609822Z"
    }
   },
   "id": "2c505e1e890034fc"
  },
  {
   "cell_type": "code",
   "execution_count": 71,
   "outputs": [
    {
     "data": {
      "text/plain": "       latitude  longitude  housing_median_age  total_rooms  total_bedrooms  \\\n19963     36.23    -119.14                22.0       2935.0           523.0   \n5929      34.12    -117.79                16.0       2426.0           426.0   \n11377     33.68    -117.97                26.0       3653.0           568.0   \n6443      34.10    -118.03                32.0       2668.0           609.0   \n17546     37.34    -121.87                39.0       2479.0           541.0   \n\n       population  households  median_income  median_house_value  \n19963      1927.0       530.0         2.5875             70400.0  \n5929       1319.0       446.0         4.8125            224500.0  \n11377      1930.0       585.0         5.7301            260900.0  \n6443       1512.0       541.0         2.9422            233100.0  \n17546      1990.0       506.0         2.4306            289100.0  ",
      "text/html": "<div>\n<style scoped>\n    .dataframe tbody tr th:only-of-type {\n        vertical-align: middle;\n    }\n\n    .dataframe tbody tr th {\n        vertical-align: top;\n    }\n\n    .dataframe thead th {\n        text-align: right;\n    }\n</style>\n<table border=\"1\" class=\"dataframe\">\n  <thead>\n    <tr style=\"text-align: right;\">\n      <th></th>\n      <th>latitude</th>\n      <th>longitude</th>\n      <th>housing_median_age</th>\n      <th>total_rooms</th>\n      <th>total_bedrooms</th>\n      <th>population</th>\n      <th>households</th>\n      <th>median_income</th>\n      <th>median_house_value</th>\n    </tr>\n  </thead>\n  <tbody>\n    <tr>\n      <th>19963</th>\n      <td>36.23</td>\n      <td>-119.14</td>\n      <td>22.0</td>\n      <td>2935.0</td>\n      <td>523.0</td>\n      <td>1927.0</td>\n      <td>530.0</td>\n      <td>2.5875</td>\n      <td>70400.0</td>\n    </tr>\n    <tr>\n      <th>5929</th>\n      <td>34.12</td>\n      <td>-117.79</td>\n      <td>16.0</td>\n      <td>2426.0</td>\n      <td>426.0</td>\n      <td>1319.0</td>\n      <td>446.0</td>\n      <td>4.8125</td>\n      <td>224500.0</td>\n    </tr>\n    <tr>\n      <th>11377</th>\n      <td>33.68</td>\n      <td>-117.97</td>\n      <td>26.0</td>\n      <td>3653.0</td>\n      <td>568.0</td>\n      <td>1930.0</td>\n      <td>585.0</td>\n      <td>5.7301</td>\n      <td>260900.0</td>\n    </tr>\n    <tr>\n      <th>6443</th>\n      <td>34.10</td>\n      <td>-118.03</td>\n      <td>32.0</td>\n      <td>2668.0</td>\n      <td>609.0</td>\n      <td>1512.0</td>\n      <td>541.0</td>\n      <td>2.9422</td>\n      <td>233100.0</td>\n    </tr>\n    <tr>\n      <th>17546</th>\n      <td>37.34</td>\n      <td>-121.87</td>\n      <td>39.0</td>\n      <td>2479.0</td>\n      <td>541.0</td>\n      <td>1990.0</td>\n      <td>506.0</td>\n      <td>2.4306</td>\n      <td>289100.0</td>\n    </tr>\n  </tbody>\n</table>\n</div>"
     },
     "execution_count": 71,
     "metadata": {},
     "output_type": "execute_result"
    }
   ],
   "source": [
    "df_train.head()"
   ],
   "metadata": {
    "collapsed": false,
    "ExecuteTime": {
     "end_time": "2023-09-22T01:06:06.167164Z",
     "start_time": "2023-09-22T01:06:06.148005Z"
    }
   },
   "id": "e6bf01ee60896493"
  },
  {
   "cell_type": "code",
   "execution_count": 72,
   "outputs": [],
   "source": [
    "y_train = np.log1p(df_train.median_house_value.values)\n",
    "y_val = np.log1p(df_val.median_house_value.values)\n",
    "y_test = np.log1p(df_test.median_house_value.values)"
   ],
   "metadata": {
    "collapsed": false,
    "ExecuteTime": {
     "end_time": "2023-09-22T01:07:04.568634Z",
     "start_time": "2023-09-22T01:07:04.540206Z"
    }
   },
   "id": "303d725cde387d0d"
  },
  {
   "cell_type": "code",
   "execution_count": 73,
   "outputs": [],
   "source": [
    "del df_train['median_house_value']\n",
    "del df_val['median_house_value']\n",
    "del df_test['median_house_value']"
   ],
   "metadata": {
    "collapsed": false,
    "ExecuteTime": {
     "end_time": "2023-09-22T01:07:40.424653Z",
     "start_time": "2023-09-22T01:07:40.406064Z"
    }
   },
   "id": "a2b73001f04d4964"
  },
  {
   "cell_type": "code",
   "execution_count": 74,
   "outputs": [
    {
     "data": {
      "text/plain": "       latitude  longitude  housing_median_age  total_rooms  total_bedrooms  \\\n19963     36.23    -119.14                22.0       2935.0           523.0   \n5929      34.12    -117.79                16.0       2426.0           426.0   \n11377     33.68    -117.97                26.0       3653.0           568.0   \n6443      34.10    -118.03                32.0       2668.0           609.0   \n17546     37.34    -121.87                39.0       2479.0           541.0   \n...         ...        ...                 ...          ...             ...   \n20157     34.44    -119.15                33.0       2005.0           392.0   \n20005     36.13    -119.13                28.0       1673.0           385.0   \n6691      34.13    -118.08                46.0       1238.0           147.0   \n3470      34.29    -118.46                24.0       3668.0           890.0   \n5498      34.00    -118.41                18.0       1307.0           441.0   \n\n       population  households  median_income  \n19963      1927.0       530.0         2.5875  \n5929       1319.0       446.0         4.8125  \n11377      1930.0       585.0         5.7301  \n6443       1512.0       541.0         2.9422  \n17546      1990.0       506.0         2.4306  \n...           ...         ...            ...  \n20157      1043.0       351.0         5.3080  \n20005      1434.0       371.0         2.0586  \n6691        377.0       145.0         8.4546  \n3470       3151.0       810.0         3.0526  \n5498        884.0       456.0         2.9338  \n\n[9413 rows x 8 columns]",
      "text/html": "<div>\n<style scoped>\n    .dataframe tbody tr th:only-of-type {\n        vertical-align: middle;\n    }\n\n    .dataframe tbody tr th {\n        vertical-align: top;\n    }\n\n    .dataframe thead th {\n        text-align: right;\n    }\n</style>\n<table border=\"1\" class=\"dataframe\">\n  <thead>\n    <tr style=\"text-align: right;\">\n      <th></th>\n      <th>latitude</th>\n      <th>longitude</th>\n      <th>housing_median_age</th>\n      <th>total_rooms</th>\n      <th>total_bedrooms</th>\n      <th>population</th>\n      <th>households</th>\n      <th>median_income</th>\n    </tr>\n  </thead>\n  <tbody>\n    <tr>\n      <th>19963</th>\n      <td>36.23</td>\n      <td>-119.14</td>\n      <td>22.0</td>\n      <td>2935.0</td>\n      <td>523.0</td>\n      <td>1927.0</td>\n      <td>530.0</td>\n      <td>2.5875</td>\n    </tr>\n    <tr>\n      <th>5929</th>\n      <td>34.12</td>\n      <td>-117.79</td>\n      <td>16.0</td>\n      <td>2426.0</td>\n      <td>426.0</td>\n      <td>1319.0</td>\n      <td>446.0</td>\n      <td>4.8125</td>\n    </tr>\n    <tr>\n      <th>11377</th>\n      <td>33.68</td>\n      <td>-117.97</td>\n      <td>26.0</td>\n      <td>3653.0</td>\n      <td>568.0</td>\n      <td>1930.0</td>\n      <td>585.0</td>\n      <td>5.7301</td>\n    </tr>\n    <tr>\n      <th>6443</th>\n      <td>34.10</td>\n      <td>-118.03</td>\n      <td>32.0</td>\n      <td>2668.0</td>\n      <td>609.0</td>\n      <td>1512.0</td>\n      <td>541.0</td>\n      <td>2.9422</td>\n    </tr>\n    <tr>\n      <th>17546</th>\n      <td>37.34</td>\n      <td>-121.87</td>\n      <td>39.0</td>\n      <td>2479.0</td>\n      <td>541.0</td>\n      <td>1990.0</td>\n      <td>506.0</td>\n      <td>2.4306</td>\n    </tr>\n    <tr>\n      <th>...</th>\n      <td>...</td>\n      <td>...</td>\n      <td>...</td>\n      <td>...</td>\n      <td>...</td>\n      <td>...</td>\n      <td>...</td>\n      <td>...</td>\n    </tr>\n    <tr>\n      <th>20157</th>\n      <td>34.44</td>\n      <td>-119.15</td>\n      <td>33.0</td>\n      <td>2005.0</td>\n      <td>392.0</td>\n      <td>1043.0</td>\n      <td>351.0</td>\n      <td>5.3080</td>\n    </tr>\n    <tr>\n      <th>20005</th>\n      <td>36.13</td>\n      <td>-119.13</td>\n      <td>28.0</td>\n      <td>1673.0</td>\n      <td>385.0</td>\n      <td>1434.0</td>\n      <td>371.0</td>\n      <td>2.0586</td>\n    </tr>\n    <tr>\n      <th>6691</th>\n      <td>34.13</td>\n      <td>-118.08</td>\n      <td>46.0</td>\n      <td>1238.0</td>\n      <td>147.0</td>\n      <td>377.0</td>\n      <td>145.0</td>\n      <td>8.4546</td>\n    </tr>\n    <tr>\n      <th>3470</th>\n      <td>34.29</td>\n      <td>-118.46</td>\n      <td>24.0</td>\n      <td>3668.0</td>\n      <td>890.0</td>\n      <td>3151.0</td>\n      <td>810.0</td>\n      <td>3.0526</td>\n    </tr>\n    <tr>\n      <th>5498</th>\n      <td>34.00</td>\n      <td>-118.41</td>\n      <td>18.0</td>\n      <td>1307.0</td>\n      <td>441.0</td>\n      <td>884.0</td>\n      <td>456.0</td>\n      <td>2.9338</td>\n    </tr>\n  </tbody>\n</table>\n<p>9413 rows × 8 columns</p>\n</div>"
     },
     "execution_count": 74,
     "metadata": {},
     "output_type": "execute_result"
    }
   ],
   "source": [
    "df_train"
   ],
   "metadata": {
    "collapsed": false,
    "ExecuteTime": {
     "end_time": "2023-09-22T01:07:48.675784Z",
     "start_time": "2023-09-22T01:07:48.634138Z"
    }
   },
   "id": "ca5d8f1a9b999872"
  },
  {
   "cell_type": "code",
   "execution_count": null,
   "outputs": [],
   "source": [],
   "metadata": {
    "collapsed": false
   },
   "id": "c54f5ed35236fcd7"
  }
 ],
 "metadata": {
  "kernelspec": {
   "display_name": "Python 3",
   "language": "python",
   "name": "python3"
  },
  "language_info": {
   "codemirror_mode": {
    "name": "ipython",
    "version": 2
   },
   "file_extension": ".py",
   "mimetype": "text/x-python",
   "name": "python",
   "nbconvert_exporter": "python",
   "pygments_lexer": "ipython2",
   "version": "2.7.6"
  }
 },
 "nbformat": 4,
 "nbformat_minor": 5
}
