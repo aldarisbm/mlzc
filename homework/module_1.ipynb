{
 "cells": [
  {
   "cell_type": "code",
   "execution_count": 19,
   "id": "initial_id",
   "metadata": {
    "collapsed": true,
    "ExecuteTime": {
     "end_time": "2023-09-17T03:17:48.117716Z",
     "start_time": "2023-09-17T03:17:48.113633Z"
    }
   },
   "outputs": [
    {
     "data": {
      "text/plain": "'2.0.3'"
     },
     "execution_count": 19,
     "metadata": {},
     "output_type": "execute_result"
    }
   ],
   "source": [
    "import pandas as pd\n",
    "# check panda version\n",
    "pd.__version__"
   ]
  },
  {
   "cell_type": "code",
   "execution_count": 20,
   "outputs": [
    {
     "name": "stdout",
     "output_type": "stream",
     "text": [
      "--2023-09-16 23:17:48--  https://raw.githubusercontent.com/alexeygrigorev/datasets/master/housing.csv\r\n",
      "Resolving raw.githubusercontent.com (raw.githubusercontent.com)... 185.199.110.133, 185.199.111.133, 185.199.108.133, ...\r\n",
      "Connecting to raw.githubusercontent.com (raw.githubusercontent.com)|185.199.110.133|:443... connected.\r\n",
      "HTTP request sent, awaiting response... 200 OK\r\n",
      "Length: 1423529 (1.4M) [text/plain]\r\n",
      "Saving to: ‘housing.csv.1’\r\n",
      "\r\n",
      "housing.csv.1       100%[===================>]   1.36M  8.55MB/s    in 0.2s    \r\n",
      "\r\n",
      "2023-09-16 23:17:48 (8.55 MB/s) - ‘housing.csv.1’ saved [1423529/1423529]\r\n",
      "\r\n"
     ]
    }
   ],
   "source": [
    "# Download data\n",
    "!wget https://raw.githubusercontent.com/alexeygrigorev/datasets/master/housing.csv"
   ],
   "metadata": {
    "collapsed": false,
    "ExecuteTime": {
     "end_time": "2023-09-17T03:17:48.762231Z",
     "start_time": "2023-09-17T03:17:48.383983Z"
    }
   },
   "id": "63e8b9073cd6faee"
  },
  {
   "cell_type": "code",
   "execution_count": 38,
   "outputs": [
    {
     "name": "stdout",
     "output_type": "stream",
     "text": [
      "housing.csv    module_1.ipynb\r\n"
     ]
    }
   ],
   "source": [
    "# see current dirc\n",
    "!ls"
   ],
   "metadata": {
    "collapsed": false,
    "ExecuteTime": {
     "end_time": "2023-09-17T03:27:38.360461Z",
     "start_time": "2023-09-17T03:27:38.238432Z"
    }
   },
   "id": "9531330cc3652e43"
  },
  {
   "cell_type": "code",
   "execution_count": 83,
   "outputs": [],
   "source": [
    "# read csv\n",
    "df = pd.read_csv(\"./housing.csv\")    "
   ],
   "metadata": {
    "collapsed": false,
    "ExecuteTime": {
     "end_time": "2023-09-17T03:46:49.524732Z",
     "start_time": "2023-09-17T03:46:49.501892Z"
    }
   },
   "id": "120abf43d429d057"
  },
  {
   "cell_type": "code",
   "execution_count": 84,
   "outputs": [
    {
     "data": {
      "text/plain": "longitude               0\nlatitude                0\nhousing_median_age      0\ntotal_rooms             0\ntotal_bedrooms        207\npopulation              0\nhouseholds              0\nmedian_income           0\nmedian_house_value      0\nocean_proximity         0\ndtype: int64"
     },
     "execution_count": 84,
     "metadata": {},
     "output_type": "execute_result"
    }
   ],
   "source": [
    "# check all isnulls and sum them\n",
    "df.isnull().sum()"
   ],
   "metadata": {
    "collapsed": false,
    "ExecuteTime": {
     "end_time": "2023-09-17T03:46:49.841927Z",
     "start_time": "2023-09-17T03:46:49.821898Z"
    }
   },
   "id": "d615b76ddc39632b"
  },
  {
   "cell_type": "code",
   "execution_count": 85,
   "outputs": [
    {
     "data": {
      "text/plain": "5"
     },
     "execution_count": 85,
     "metadata": {},
     "output_type": "execute_result"
    }
   ],
   "source": [
    "# get all unique vals\n",
    "df.ocean_proximity.nunique()"
   ],
   "metadata": {
    "collapsed": false,
    "ExecuteTime": {
     "end_time": "2023-09-17T03:46:50.133876Z",
     "start_time": "2023-09-17T03:46:50.116252Z"
    }
   },
   "id": "2c6573d5ef693275"
  },
  {
   "cell_type": "code",
   "execution_count": 86,
   "outputs": [
    {
     "data": {
      "text/plain": "ocean_proximity\n<1H OCEAN     240084.0\nINLAND        124805.0\nISLAND        380440.0\nNEAR BAY      259212.0\nNEAR OCEAN    249434.0\nName: median_house_value, dtype: float64"
     },
     "execution_count": 86,
     "metadata": {},
     "output_type": "execute_result"
    }
   ],
   "source": [
    "# group by ocean prox, check the median house value avg, round it.\n",
    "df.groupby(\"ocean_proximity\")[\"median_house_value\"].mean().round()"
   ],
   "metadata": {
    "collapsed": false,
    "ExecuteTime": {
     "end_time": "2023-09-17T03:46:50.662519Z",
     "start_time": "2023-09-17T03:46:50.645960Z"
    }
   },
   "id": "fc3b5a038672ac8e"
  },
  {
   "cell_type": "code",
   "execution_count": 88,
   "outputs": [
    {
     "name": "stdout",
     "output_type": "stream",
     "text": [
      "mean val 537.871\n",
      "after fill 537.871\n"
     ]
    }
   ],
   "source": [
    "# calculate the mean val before, then update in place\n",
    "# and check the mean val again round to 3\n",
    "meanval = df.total_bedrooms.mean().round(3)\n",
    "print(\"mean val\", meanval)\n",
    "\n",
    "df['total_bedrooms'].fillna(value=meanval, inplace=True)\n",
    "\n",
    "nextval = df.total_bedrooms.mean().round(3)\n",
    "print(\"after fill\", nextval)"
   ],
   "metadata": {
    "collapsed": false,
    "ExecuteTime": {
     "end_time": "2023-09-17T03:49:02.230809Z",
     "start_time": "2023-09-17T03:49:02.206160Z"
    }
   },
   "id": "b6d455bcc5e079e6"
  },
  {
   "cell_type": "code",
   "execution_count": 139,
   "outputs": [
    {
     "data": {
      "text/plain": "5.6992"
     },
     "execution_count": 139,
     "metadata": {},
     "output_type": "execute_result"
    }
   ],
   "source": [
    "import numpy as np\n",
    "\n",
    "# get df for islands\n",
    "\n",
    "island_df = df[(df.ocean_proximity == \"ISLAND\")]\n",
    "\n",
    "# smaller df with only 3 columns\n",
    "X = island_df[[\"housing_median_age\", \"total_rooms\", \"total_bedrooms\"]].values\n",
    "\n",
    "# multiplication of transpose X with X\n",
    "XTX = X.T.dot(X)\n",
    "\n",
    "# inversion of XTX\n",
    "XTX_inv = np.linalg.inv(XTX)\n",
    "\n",
    "# Create y np.array\n",
    "y = np.array([950, 1300, 800, 1000, 1300])\n",
    "\n",
    "# Get w\n",
    "w = (XTX_inv.dot(X.T)).dot(y)\n",
    "\n",
    "# last element\n",
    "w[-1].round(4)"
   ],
   "metadata": {
    "collapsed": false,
    "ExecuteTime": {
     "end_time": "2023-09-17T14:59:57.542015Z",
     "start_time": "2023-09-17T14:59:57.529310Z"
    }
   },
   "id": "b68d4b1e64997938"
  }
 ],
 "metadata": {
  "kernelspec": {
   "display_name": "Python 3",
   "language": "python",
   "name": "python3"
  },
  "language_info": {
   "codemirror_mode": {
    "name": "ipython",
    "version": 2
   },
   "file_extension": ".py",
   "mimetype": "text/x-python",
   "name": "python",
   "nbconvert_exporter": "python",
   "pygments_lexer": "ipython2",
   "version": "2.7.6"
  }
 },
 "nbformat": 4,
 "nbformat_minor": 5
}
