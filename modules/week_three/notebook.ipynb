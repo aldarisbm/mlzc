{
 "cells": [
  {
   "cell_type": "markdown",
   "source": [
    "# Churn Prediction"
   ],
   "metadata": {
    "collapsed": false
   },
   "id": "3889d77350e3691c"
  },
  {
   "cell_type": "code",
   "execution_count": 2,
   "outputs": [
    {
     "data": {
      "text/html": "<img src=\"./churn_pred.png\" height=\"500\"/>",
      "text/plain": "<IPython.core.display.Image object>"
     },
     "execution_count": 2,
     "metadata": {},
     "output_type": "execute_result"
    }
   ],
   "source": [
    "from IPython.display import Image\n",
    "Image(url=\"./churn_pred.png\", height=500)"
   ],
   "metadata": {
    "collapsed": false,
    "ExecuteTime": {
     "end_time": "2023-09-25T19:57:40.195027Z",
     "start_time": "2023-09-25T19:57:40.088172Z"
    }
   },
   "id": "a040ee0942613034"
  },
  {
   "cell_type": "markdown",
   "source": [
    "It's a binary classification, will it churn or will it stays.\n",
    "It will be a score between 0-1\n",
    "Likelihood of churn\n",
    "\n",
    "We should always have some data every month from people leaving the company.\n"
   ],
   "metadata": {
    "collapsed": false
   },
   "id": "26dfe0441d43dcb"
  },
  {
   "cell_type": "code",
   "execution_count": 3,
   "outputs": [],
   "source": [
    "import pandas as pd\n",
    "import numpy as np\n",
    "import matplotlib.pyplot as plt"
   ],
   "metadata": {
    "collapsed": false,
    "ExecuteTime": {
     "end_time": "2023-09-25T19:57:40.204286Z",
     "start_time": "2023-09-25T19:57:40.092848Z"
    }
   },
   "id": "890d21990004a40b"
  },
  {
   "cell_type": "code",
   "execution_count": 4,
   "outputs": [],
   "source": [
    "df = pd.read_csv(\"./WA_Fn-UseC_-Telco-Customer-Churn.csv\")"
   ],
   "metadata": {
    "collapsed": false,
    "ExecuteTime": {
     "end_time": "2023-09-25T19:57:40.220817Z",
     "start_time": "2023-09-25T19:57:40.095327Z"
    }
   },
   "id": "a7701d9dca5c9b4c"
  },
  {
   "cell_type": "code",
   "execution_count": 5,
   "outputs": [
    {
     "data": {
      "text/plain": "                                 0             1               2  \\\ncustomerID              7590-VHVEG    5575-GNVDE      3668-QPYBK   \ngender                      Female          Male            Male   \nSeniorCitizen                    0             0               0   \nPartner                        Yes            No              No   \nDependents                      No            No              No   \ntenure                           1            34               2   \nPhoneService                    No           Yes             Yes   \nMultipleLines     No phone service            No              No   \nInternetService                DSL           DSL             DSL   \nOnlineSecurity                  No           Yes             Yes   \nOnlineBackup                   Yes            No             Yes   \nDeviceProtection                No           Yes              No   \nTechSupport                     No            No              No   \nStreamingTV                     No            No              No   \nStreamingMovies                 No            No              No   \nContract            Month-to-month      One year  Month-to-month   \nPaperlessBilling               Yes            No             Yes   \nPaymentMethod     Electronic check  Mailed check    Mailed check   \nMonthlyCharges               29.85         56.95           53.85   \nTotalCharges                 29.85        1889.5          108.15   \nChurn                           No            No             Yes   \n\n                                          3                 4  \ncustomerID                       7795-CFOCW        9237-HQITU  \ngender                                 Male            Female  \nSeniorCitizen                             0                 0  \nPartner                                  No                No  \nDependents                               No                No  \ntenure                                   45                 2  \nPhoneService                             No               Yes  \nMultipleLines              No phone service                No  \nInternetService                         DSL       Fiber optic  \nOnlineSecurity                          Yes                No  \nOnlineBackup                             No                No  \nDeviceProtection                        Yes                No  \nTechSupport                             Yes                No  \nStreamingTV                              No                No  \nStreamingMovies                          No                No  \nContract                           One year    Month-to-month  \nPaperlessBilling                         No               Yes  \nPaymentMethod     Bank transfer (automatic)  Electronic check  \nMonthlyCharges                         42.3              70.7  \nTotalCharges                        1840.75            151.65  \nChurn                                    No               Yes  ",
      "text/html": "<div>\n<style scoped>\n    .dataframe tbody tr th:only-of-type {\n        vertical-align: middle;\n    }\n\n    .dataframe tbody tr th {\n        vertical-align: top;\n    }\n\n    .dataframe thead th {\n        text-align: right;\n    }\n</style>\n<table border=\"1\" class=\"dataframe\">\n  <thead>\n    <tr style=\"text-align: right;\">\n      <th></th>\n      <th>0</th>\n      <th>1</th>\n      <th>2</th>\n      <th>3</th>\n      <th>4</th>\n    </tr>\n  </thead>\n  <tbody>\n    <tr>\n      <th>customerID</th>\n      <td>7590-VHVEG</td>\n      <td>5575-GNVDE</td>\n      <td>3668-QPYBK</td>\n      <td>7795-CFOCW</td>\n      <td>9237-HQITU</td>\n    </tr>\n    <tr>\n      <th>gender</th>\n      <td>Female</td>\n      <td>Male</td>\n      <td>Male</td>\n      <td>Male</td>\n      <td>Female</td>\n    </tr>\n    <tr>\n      <th>SeniorCitizen</th>\n      <td>0</td>\n      <td>0</td>\n      <td>0</td>\n      <td>0</td>\n      <td>0</td>\n    </tr>\n    <tr>\n      <th>Partner</th>\n      <td>Yes</td>\n      <td>No</td>\n      <td>No</td>\n      <td>No</td>\n      <td>No</td>\n    </tr>\n    <tr>\n      <th>Dependents</th>\n      <td>No</td>\n      <td>No</td>\n      <td>No</td>\n      <td>No</td>\n      <td>No</td>\n    </tr>\n    <tr>\n      <th>tenure</th>\n      <td>1</td>\n      <td>34</td>\n      <td>2</td>\n      <td>45</td>\n      <td>2</td>\n    </tr>\n    <tr>\n      <th>PhoneService</th>\n      <td>No</td>\n      <td>Yes</td>\n      <td>Yes</td>\n      <td>No</td>\n      <td>Yes</td>\n    </tr>\n    <tr>\n      <th>MultipleLines</th>\n      <td>No phone service</td>\n      <td>No</td>\n      <td>No</td>\n      <td>No phone service</td>\n      <td>No</td>\n    </tr>\n    <tr>\n      <th>InternetService</th>\n      <td>DSL</td>\n      <td>DSL</td>\n      <td>DSL</td>\n      <td>DSL</td>\n      <td>Fiber optic</td>\n    </tr>\n    <tr>\n      <th>OnlineSecurity</th>\n      <td>No</td>\n      <td>Yes</td>\n      <td>Yes</td>\n      <td>Yes</td>\n      <td>No</td>\n    </tr>\n    <tr>\n      <th>OnlineBackup</th>\n      <td>Yes</td>\n      <td>No</td>\n      <td>Yes</td>\n      <td>No</td>\n      <td>No</td>\n    </tr>\n    <tr>\n      <th>DeviceProtection</th>\n      <td>No</td>\n      <td>Yes</td>\n      <td>No</td>\n      <td>Yes</td>\n      <td>No</td>\n    </tr>\n    <tr>\n      <th>TechSupport</th>\n      <td>No</td>\n      <td>No</td>\n      <td>No</td>\n      <td>Yes</td>\n      <td>No</td>\n    </tr>\n    <tr>\n      <th>StreamingTV</th>\n      <td>No</td>\n      <td>No</td>\n      <td>No</td>\n      <td>No</td>\n      <td>No</td>\n    </tr>\n    <tr>\n      <th>StreamingMovies</th>\n      <td>No</td>\n      <td>No</td>\n      <td>No</td>\n      <td>No</td>\n      <td>No</td>\n    </tr>\n    <tr>\n      <th>Contract</th>\n      <td>Month-to-month</td>\n      <td>One year</td>\n      <td>Month-to-month</td>\n      <td>One year</td>\n      <td>Month-to-month</td>\n    </tr>\n    <tr>\n      <th>PaperlessBilling</th>\n      <td>Yes</td>\n      <td>No</td>\n      <td>Yes</td>\n      <td>No</td>\n      <td>Yes</td>\n    </tr>\n    <tr>\n      <th>PaymentMethod</th>\n      <td>Electronic check</td>\n      <td>Mailed check</td>\n      <td>Mailed check</td>\n      <td>Bank transfer (automatic)</td>\n      <td>Electronic check</td>\n    </tr>\n    <tr>\n      <th>MonthlyCharges</th>\n      <td>29.85</td>\n      <td>56.95</td>\n      <td>53.85</td>\n      <td>42.3</td>\n      <td>70.7</td>\n    </tr>\n    <tr>\n      <th>TotalCharges</th>\n      <td>29.85</td>\n      <td>1889.5</td>\n      <td>108.15</td>\n      <td>1840.75</td>\n      <td>151.65</td>\n    </tr>\n    <tr>\n      <th>Churn</th>\n      <td>No</td>\n      <td>No</td>\n      <td>Yes</td>\n      <td>No</td>\n      <td>Yes</td>\n    </tr>\n  </tbody>\n</table>\n</div>"
     },
     "execution_count": 5,
     "metadata": {},
     "output_type": "execute_result"
    }
   ],
   "source": [
    "# We use the transpose here, to see columns as rows, and be able to see all the values of the columns\n",
    "# in a single column (easier to see)\n",
    "df.head().T"
   ],
   "metadata": {
    "collapsed": false,
    "ExecuteTime": {
     "end_time": "2023-09-25T19:57:40.222077Z",
     "start_time": "2023-09-25T19:57:40.112740Z"
    }
   },
   "id": "eba99687cc75e8f5"
  },
  {
   "cell_type": "code",
   "execution_count": 6,
   "outputs": [],
   "source": [
    "# cleaning up some data\n",
    "df.columns = df.columns.str.lower().str.replace(' ', '_')\n",
    "\n",
    "categorical_columns = list(df.dtypes[df.dtypes == 'object'].index)\n",
    "\n",
    "for c in categorical_columns:\n",
    "    df[c] = df[c].str.lower().str.replace(' ', '_')"
   ],
   "metadata": {
    "collapsed": false,
    "ExecuteTime": {
     "end_time": "2023-09-25T19:57:40.224517Z",
     "start_time": "2023-09-25T19:57:40.120361Z"
    }
   },
   "id": "85336c9e9f1c564b"
  },
  {
   "cell_type": "code",
   "execution_count": 7,
   "outputs": [
    {
     "data": {
      "text/plain": "   customerid  gender  seniorcitizen partner dependents  tenure phoneservice  \\\n0  7590-vhveg  female              0     yes         no       1           no   \n1  5575-gnvde    male              0      no         no      34          yes   \n2  3668-qpybk    male              0      no         no       2          yes   \n3  7795-cfocw    male              0      no         no      45           no   \n4  9237-hqitu  female              0      no         no       2          yes   \n\n      multiplelines internetservice onlinesecurity  ... deviceprotection  \\\n0  no_phone_service             dsl             no  ...               no   \n1                no             dsl            yes  ...              yes   \n2                no             dsl            yes  ...               no   \n3  no_phone_service             dsl            yes  ...              yes   \n4                no     fiber_optic             no  ...               no   \n\n  techsupport streamingtv streamingmovies        contract paperlessbilling  \\\n0          no          no              no  month-to-month              yes   \n1          no          no              no        one_year               no   \n2          no          no              no  month-to-month              yes   \n3         yes          no              no        one_year               no   \n4          no          no              no  month-to-month              yes   \n\n               paymentmethod monthlycharges  totalcharges churn  \n0           electronic_check          29.85         29.85    no  \n1               mailed_check          56.95        1889.5    no  \n2               mailed_check          53.85        108.15   yes  \n3  bank_transfer_(automatic)          42.30       1840.75    no  \n4           electronic_check          70.70        151.65   yes  \n\n[5 rows x 21 columns]",
      "text/html": "<div>\n<style scoped>\n    .dataframe tbody tr th:only-of-type {\n        vertical-align: middle;\n    }\n\n    .dataframe tbody tr th {\n        vertical-align: top;\n    }\n\n    .dataframe thead th {\n        text-align: right;\n    }\n</style>\n<table border=\"1\" class=\"dataframe\">\n  <thead>\n    <tr style=\"text-align: right;\">\n      <th></th>\n      <th>customerid</th>\n      <th>gender</th>\n      <th>seniorcitizen</th>\n      <th>partner</th>\n      <th>dependents</th>\n      <th>tenure</th>\n      <th>phoneservice</th>\n      <th>multiplelines</th>\n      <th>internetservice</th>\n      <th>onlinesecurity</th>\n      <th>...</th>\n      <th>deviceprotection</th>\n      <th>techsupport</th>\n      <th>streamingtv</th>\n      <th>streamingmovies</th>\n      <th>contract</th>\n      <th>paperlessbilling</th>\n      <th>paymentmethod</th>\n      <th>monthlycharges</th>\n      <th>totalcharges</th>\n      <th>churn</th>\n    </tr>\n  </thead>\n  <tbody>\n    <tr>\n      <th>0</th>\n      <td>7590-vhveg</td>\n      <td>female</td>\n      <td>0</td>\n      <td>yes</td>\n      <td>no</td>\n      <td>1</td>\n      <td>no</td>\n      <td>no_phone_service</td>\n      <td>dsl</td>\n      <td>no</td>\n      <td>...</td>\n      <td>no</td>\n      <td>no</td>\n      <td>no</td>\n      <td>no</td>\n      <td>month-to-month</td>\n      <td>yes</td>\n      <td>electronic_check</td>\n      <td>29.85</td>\n      <td>29.85</td>\n      <td>no</td>\n    </tr>\n    <tr>\n      <th>1</th>\n      <td>5575-gnvde</td>\n      <td>male</td>\n      <td>0</td>\n      <td>no</td>\n      <td>no</td>\n      <td>34</td>\n      <td>yes</td>\n      <td>no</td>\n      <td>dsl</td>\n      <td>yes</td>\n      <td>...</td>\n      <td>yes</td>\n      <td>no</td>\n      <td>no</td>\n      <td>no</td>\n      <td>one_year</td>\n      <td>no</td>\n      <td>mailed_check</td>\n      <td>56.95</td>\n      <td>1889.5</td>\n      <td>no</td>\n    </tr>\n    <tr>\n      <th>2</th>\n      <td>3668-qpybk</td>\n      <td>male</td>\n      <td>0</td>\n      <td>no</td>\n      <td>no</td>\n      <td>2</td>\n      <td>yes</td>\n      <td>no</td>\n      <td>dsl</td>\n      <td>yes</td>\n      <td>...</td>\n      <td>no</td>\n      <td>no</td>\n      <td>no</td>\n      <td>no</td>\n      <td>month-to-month</td>\n      <td>yes</td>\n      <td>mailed_check</td>\n      <td>53.85</td>\n      <td>108.15</td>\n      <td>yes</td>\n    </tr>\n    <tr>\n      <th>3</th>\n      <td>7795-cfocw</td>\n      <td>male</td>\n      <td>0</td>\n      <td>no</td>\n      <td>no</td>\n      <td>45</td>\n      <td>no</td>\n      <td>no_phone_service</td>\n      <td>dsl</td>\n      <td>yes</td>\n      <td>...</td>\n      <td>yes</td>\n      <td>yes</td>\n      <td>no</td>\n      <td>no</td>\n      <td>one_year</td>\n      <td>no</td>\n      <td>bank_transfer_(automatic)</td>\n      <td>42.30</td>\n      <td>1840.75</td>\n      <td>no</td>\n    </tr>\n    <tr>\n      <th>4</th>\n      <td>9237-hqitu</td>\n      <td>female</td>\n      <td>0</td>\n      <td>no</td>\n      <td>no</td>\n      <td>2</td>\n      <td>yes</td>\n      <td>no</td>\n      <td>fiber_optic</td>\n      <td>no</td>\n      <td>...</td>\n      <td>no</td>\n      <td>no</td>\n      <td>no</td>\n      <td>no</td>\n      <td>month-to-month</td>\n      <td>yes</td>\n      <td>electronic_check</td>\n      <td>70.70</td>\n      <td>151.65</td>\n      <td>yes</td>\n    </tr>\n  </tbody>\n</table>\n<p>5 rows × 21 columns</p>\n</div>"
     },
     "execution_count": 7,
     "metadata": {},
     "output_type": "execute_result"
    }
   ],
   "source": [
    "df.head()"
   ],
   "metadata": {
    "collapsed": false,
    "ExecuteTime": {
     "end_time": "2023-09-25T19:57:40.224749Z",
     "start_time": "2023-09-25T19:57:40.154239Z"
    }
   },
   "id": "81057cc622f2346b"
  },
  {
   "cell_type": "code",
   "execution_count": 8,
   "outputs": [
    {
     "data": {
      "text/plain": "      customerid totalcharges\n488   4472-lvygi            _\n753   3115-czmzd            _\n936   5709-lvoeq            _\n1082  4367-nuyao            _\n1340  1371-dwpaz            _\n3331  7644-omvmy            _\n3826  3213-vvolg            _\n4380  2520-sgtta            _\n5218  2923-arzlg            _\n6670  4075-wkniu            _\n6754  2775-sefee            _",
      "text/html": "<div>\n<style scoped>\n    .dataframe tbody tr th:only-of-type {\n        vertical-align: middle;\n    }\n\n    .dataframe tbody tr th {\n        vertical-align: top;\n    }\n\n    .dataframe thead th {\n        text-align: right;\n    }\n</style>\n<table border=\"1\" class=\"dataframe\">\n  <thead>\n    <tr style=\"text-align: right;\">\n      <th></th>\n      <th>customerid</th>\n      <th>totalcharges</th>\n    </tr>\n  </thead>\n  <tbody>\n    <tr>\n      <th>488</th>\n      <td>4472-lvygi</td>\n      <td>_</td>\n    </tr>\n    <tr>\n      <th>753</th>\n      <td>3115-czmzd</td>\n      <td>_</td>\n    </tr>\n    <tr>\n      <th>936</th>\n      <td>5709-lvoeq</td>\n      <td>_</td>\n    </tr>\n    <tr>\n      <th>1082</th>\n      <td>4367-nuyao</td>\n      <td>_</td>\n    </tr>\n    <tr>\n      <th>1340</th>\n      <td>1371-dwpaz</td>\n      <td>_</td>\n    </tr>\n    <tr>\n      <th>3331</th>\n      <td>7644-omvmy</td>\n      <td>_</td>\n    </tr>\n    <tr>\n      <th>3826</th>\n      <td>3213-vvolg</td>\n      <td>_</td>\n    </tr>\n    <tr>\n      <th>4380</th>\n      <td>2520-sgtta</td>\n      <td>_</td>\n    </tr>\n    <tr>\n      <th>5218</th>\n      <td>2923-arzlg</td>\n      <td>_</td>\n    </tr>\n    <tr>\n      <th>6670</th>\n      <td>4075-wkniu</td>\n      <td>_</td>\n    </tr>\n    <tr>\n      <th>6754</th>\n      <td>2775-sefee</td>\n      <td>_</td>\n    </tr>\n  </tbody>\n</table>\n</div>"
     },
     "execution_count": 8,
     "metadata": {},
     "output_type": "execute_result"
    }
   ],
   "source": [
    "# if we cannot convert the number we can coerce it with this specific parameter\n",
    "# total charges mightve been an empty space = \" \", when we \n",
    "# clened up our data, we converted some of those \" \" into \"_\", lets fix that\n",
    "tc = pd.to_numeric(df.totalcharges, errors='coerce')\n",
    "df[tc.isnull()][['customerid', 'totalcharges']]"
   ],
   "metadata": {
    "collapsed": false,
    "ExecuteTime": {
     "end_time": "2023-09-25T19:57:40.224881Z",
     "start_time": "2023-09-25T19:57:40.159039Z"
    }
   },
   "id": "41d1088915879b1e"
  },
  {
   "cell_type": "code",
   "execution_count": 9,
   "outputs": [
    {
     "data": {
      "text/plain": "11"
     },
     "execution_count": 9,
     "metadata": {},
     "output_type": "execute_result"
    }
   ],
   "source": [
    "df.totalcharges = tc\n",
    "df.totalcharges.isnull().sum()"
   ],
   "metadata": {
    "collapsed": false,
    "ExecuteTime": {
     "end_time": "2023-09-25T19:57:40.224950Z",
     "start_time": "2023-09-25T19:57:40.160931Z"
    }
   },
   "id": "3ed64f303b633470"
  },
  {
   "cell_type": "code",
   "execution_count": 10,
   "outputs": [],
   "source": [
    "df.totalcharges = df.totalcharges.fillna(0)"
   ],
   "metadata": {
    "collapsed": false,
    "ExecuteTime": {
     "end_time": "2023-09-25T19:57:40.224980Z",
     "start_time": "2023-09-25T19:57:40.163371Z"
    }
   },
   "id": "3b1d57bdec40b6d8"
  },
  {
   "cell_type": "code",
   "execution_count": 11,
   "outputs": [
    {
     "data": {
      "text/plain": "0"
     },
     "execution_count": 11,
     "metadata": {},
     "output_type": "execute_result"
    }
   ],
   "source": [
    "df.totalcharges.isnull().sum()"
   ],
   "metadata": {
    "collapsed": false,
    "ExecuteTime": {
     "end_time": "2023-09-25T19:57:40.225032Z",
     "start_time": "2023-09-25T19:57:40.165096Z"
    }
   },
   "id": "5717f28f36c1cfd1"
  },
  {
   "cell_type": "code",
   "execution_count": 12,
   "outputs": [
    {
     "data": {
      "text/plain": "0     no\n1     no\n2    yes\n3     no\n4    yes\nName: churn, dtype: object"
     },
     "execution_count": 12,
     "metadata": {},
     "output_type": "execute_result"
    }
   ],
   "source": [
    "df.churn.head()"
   ],
   "metadata": {
    "collapsed": false,
    "ExecuteTime": {
     "end_time": "2023-09-25T19:57:40.225098Z",
     "start_time": "2023-09-25T19:57:40.167703Z"
    }
   },
   "id": "68e5f0071b9361a5"
  },
  {
   "cell_type": "code",
   "execution_count": 13,
   "outputs": [],
   "source": [
    "df.churn = (df.churn == \"yes\").astype(int)"
   ],
   "metadata": {
    "collapsed": false,
    "ExecuteTime": {
     "end_time": "2023-09-25T19:57:40.225123Z",
     "start_time": "2023-09-25T19:57:40.170057Z"
    }
   },
   "id": "c321285c24d048b9"
  },
  {
   "cell_type": "code",
   "execution_count": 14,
   "outputs": [
    {
     "data": {
      "text/plain": "0    0\n1    0\n2    1\n3    0\n4    1\nName: churn, dtype: int64"
     },
     "execution_count": 14,
     "metadata": {},
     "output_type": "execute_result"
    }
   ],
   "source": [
    "df.churn.head()"
   ],
   "metadata": {
    "collapsed": false,
    "ExecuteTime": {
     "end_time": "2023-09-25T19:57:40.225174Z",
     "start_time": "2023-09-25T19:57:40.172140Z"
    }
   },
   "id": "ddbf2a96aee85949"
  },
  {
   "cell_type": "markdown",
   "source": [
    "Setting up the validation framework\n",
    "\n",
    "60/20/20 distribution\n",
    "60 for training, 20 for validation, and 20 for test"
   ],
   "metadata": {
    "collapsed": false
   },
   "id": "f63c2ff55747b16d"
  },
  {
   "cell_type": "code",
   "execution_count": 17,
   "outputs": [],
   "source": [
    "from sklearn.model_selection import train_test_split"
   ],
   "metadata": {
    "collapsed": false,
    "ExecuteTime": {
     "end_time": "2023-09-25T19:58:37.619442Z",
     "start_time": "2023-09-25T19:58:31.653589Z"
    }
   },
   "id": "822f405c351a179d"
  },
  {
   "cell_type": "code",
   "execution_count": 18,
   "outputs": [],
   "source": [
    "#pull up doc\n",
    "train_test_split?"
   ],
   "metadata": {
    "collapsed": false,
    "ExecuteTime": {
     "end_time": "2023-09-25T21:13:42.409856Z",
     "start_time": "2023-09-25T21:13:42.387317Z"
    }
   },
   "id": "50e5c16729bc6dd4"
  },
  {
   "cell_type": "code",
   "execution_count": 19,
   "outputs": [],
   "source": [
    "# 80/20 split\n",
    "df_full_train, df_test = train_test_split(df, test_size=0.2, random_state=1)"
   ],
   "metadata": {
    "collapsed": false,
    "ExecuteTime": {
     "end_time": "2023-09-25T21:15:27.748928Z",
     "start_time": "2023-09-25T21:15:27.726734Z"
    }
   },
   "id": "eef8fd531b55ac5f"
  },
  {
   "cell_type": "code",
   "execution_count": 20,
   "outputs": [
    {
     "data": {
      "text/plain": "(5634, 1409)"
     },
     "execution_count": 20,
     "metadata": {},
     "output_type": "execute_result"
    }
   ],
   "source": [
    "len(df_full_train), len(df_test)"
   ],
   "metadata": {
    "collapsed": false,
    "ExecuteTime": {
     "end_time": "2023-09-25T21:15:36.590378Z",
     "start_time": "2023-09-25T21:15:36.560094Z"
    }
   },
   "id": "dd0081629b37a5b6"
  },
  {
   "cell_type": "code",
   "execution_count": 21,
   "outputs": [],
   "source": [
    "df_train, df_val = train_test_split(df_full_train, test_size=0.25, random_state=1)"
   ],
   "metadata": {
    "collapsed": false,
    "ExecuteTime": {
     "end_time": "2023-09-25T21:16:45.545309Z",
     "start_time": "2023-09-25T21:16:45.513454Z"
    }
   },
   "id": "dcfb8efcab42f13d"
  },
  {
   "cell_type": "code",
   "execution_count": 23,
   "outputs": [
    {
     "data": {
      "text/plain": "(4225, 1409, 1409)"
     },
     "execution_count": 23,
     "metadata": {},
     "output_type": "execute_result"
    }
   ],
   "source": [
    "len(df_train), len(df_val), len(df_test)"
   ],
   "metadata": {
    "collapsed": false,
    "ExecuteTime": {
     "end_time": "2023-09-25T21:17:02.239929Z",
     "start_time": "2023-09-25T21:17:02.223188Z"
    }
   },
   "id": "986025b3b058825f"
  },
  {
   "cell_type": "code",
   "execution_count": 28,
   "outputs": [],
   "source": [
    "df_train = df_train.reset_index(drop=True)\n",
    "df_val = df_val.reset_index(drop=True)\n",
    "df_test = df_test.reset_index(drop=True)"
   ],
   "metadata": {
    "collapsed": false,
    "ExecuteTime": {
     "end_time": "2023-09-25T21:17:55.300748Z",
     "start_time": "2023-09-25T21:17:55.285209Z"
    }
   },
   "id": "4f953f825be4740a"
  },
  {
   "cell_type": "code",
   "execution_count": 29,
   "outputs": [],
   "source": [
    "y_train = df_train.churn.values\n",
    "y_val = df_val.churn.values\n",
    "y_test = df_test.churn.values"
   ],
   "metadata": {
    "collapsed": false,
    "ExecuteTime": {
     "end_time": "2023-09-25T21:18:45.711351Z",
     "start_time": "2023-09-25T21:18:45.693281Z"
    }
   },
   "id": "73bd2dcea5447f8"
  },
  {
   "cell_type": "code",
   "execution_count": 30,
   "outputs": [],
   "source": [
    "del df_train[\"churn\"]\n",
    "del df_val[\"churn\"]\n",
    "del df_test[\"churn\"]"
   ],
   "metadata": {
    "collapsed": false,
    "ExecuteTime": {
     "end_time": "2023-09-25T21:19:14.126038Z",
     "start_time": "2023-09-25T21:19:14.100420Z"
    }
   },
   "id": "290f6341f1a6a90"
  },
  {
   "cell_type": "markdown",
   "source": [
    "# EDA (Exploratory Data Analysis)\n",
    "\n",
    "- Check missing values\n",
    "- look at the target variable\n",
    "- look at numerical and categorical values"
   ],
   "metadata": {
    "collapsed": false
   },
   "id": "a1cdc3a88e510a17"
  },
  {
   "cell_type": "code",
   "execution_count": 31,
   "outputs": [],
   "source": [
    "# from the split, the indices get randomized, let's make them look pretty, just bc we can\n",
    "df_full_train = df_full_train.reset_index(drop=True)"
   ],
   "metadata": {
    "collapsed": false,
    "ExecuteTime": {
     "end_time": "2023-09-25T21:21:55.090398Z",
     "start_time": "2023-09-25T21:21:55.066108Z"
    }
   },
   "id": "dc42e18aa5f8f384"
  },
  {
   "cell_type": "code",
   "execution_count": 38,
   "outputs": [
    {
     "data": {
      "text/plain": "churn\n0    0.730032\n1    0.269968\nName: proportion, dtype: float64"
     },
     "execution_count": 38,
     "metadata": {},
     "output_type": "execute_result"
    }
   ],
   "source": [
    "# lets see how many occurrences of each value are for this variable, we can normalize it to a 0-1 split\n",
    "# the 1's are what is effectively called the churn rate.\n",
    "df_full_train.churn.value_counts(normalize=True)"
   ],
   "metadata": {
    "collapsed": false,
    "ExecuteTime": {
     "end_time": "2023-09-25T21:27:02.023949Z",
     "start_time": "2023-09-25T21:27:02.007794Z"
    }
   },
   "id": "8fe53feaaa94160c"
  },
  {
   "cell_type": "code",
   "execution_count": 42,
   "outputs": [
    {
     "data": {
      "text/plain": "0.27"
     },
     "execution_count": 42,
     "metadata": {},
     "output_type": "execute_result"
    }
   ],
   "source": [
    "global_churn_rate = df_full_train.churn.mean()\n",
    "round(global_churn_rate, 2)"
   ],
   "metadata": {
    "collapsed": false,
    "ExecuteTime": {
     "end_time": "2023-09-25T21:32:19.396595Z",
     "start_time": "2023-09-25T21:32:19.374583Z"
    }
   },
   "id": "d3d75f4f4fd0f4f6"
  },
  {
   "cell_type": "markdown",
   "source": [
    "the reason the above code works, is because mean is solved by taking the sum of items, and dividing them by the number of items in the list\n",
    "`[1, 0, 1, 0, 0, 0]` is effectively `(1+1) / 6`"
   ],
   "metadata": {
    "collapsed": false
   },
   "id": "e9371fdf26c0c68b"
  },
  {
   "cell_type": "code",
   "execution_count": 44,
   "outputs": [],
   "source": [
    "numerical = [\"tenure\", \"monthlycharges\", \"totalcharges\"]"
   ],
   "metadata": {
    "collapsed": false,
    "ExecuteTime": {
     "end_time": "2023-09-25T21:33:56.525354Z",
     "start_time": "2023-09-25T21:33:56.505053Z"
    }
   },
   "id": "14cf8997319ef6d2"
  },
  {
   "cell_type": "code",
   "execution_count": 45,
   "outputs": [
    {
     "data": {
      "text/plain": "Index(['customerid', 'gender', 'seniorcitizen', 'partner', 'dependents',\n       'tenure', 'phoneservice', 'multiplelines', 'internetservice',\n       'onlinesecurity', 'onlinebackup', 'deviceprotection', 'techsupport',\n       'streamingtv', 'streamingmovies', 'contract', 'paperlessbilling',\n       'paymentmethod', 'monthlycharges', 'totalcharges', 'churn'],\n      dtype='object')"
     },
     "execution_count": 45,
     "metadata": {},
     "output_type": "execute_result"
    }
   ],
   "source": [
    "df_full_train.columns"
   ],
   "metadata": {
    "collapsed": false,
    "ExecuteTime": {
     "end_time": "2023-09-25T21:34:08.779178Z",
     "start_time": "2023-09-25T21:34:08.743285Z"
    }
   },
   "id": "358f97fee8d71682"
  },
  {
   "cell_type": "code",
   "execution_count": 46,
   "outputs": [],
   "source": [
    "categorical = ['gender', 'seniorcitizen', 'partner', 'dependents',\n",
    "       'phoneservice', 'multiplelines', 'internetservice',\n",
    "       'onlinesecurity', 'onlinebackup', 'deviceprotection', 'techsupport',\n",
    "       'streamingtv', 'streamingmovies', 'contract', 'paperlessbilling',\n",
    "       'paymentmethod' ]"
   ],
   "metadata": {
    "collapsed": false,
    "ExecuteTime": {
     "end_time": "2023-09-25T21:35:00.930367Z",
     "start_time": "2023-09-25T21:35:00.892586Z"
    }
   },
   "id": "22f3297770c4b8e6"
  },
  {
   "cell_type": "code",
   "execution_count": 48,
   "outputs": [
    {
     "data": {
      "text/plain": "gender              2\nseniorcitizen       2\npartner             2\ndependents          2\nphoneservice        2\nmultiplelines       3\ninternetservice     3\nonlinesecurity      3\nonlinebackup        3\ndeviceprotection    3\ntechsupport         3\nstreamingtv         3\nstreamingmovies     3\ncontract            3\npaperlessbilling    2\npaymentmethod       4\ndtype: int64"
     },
     "execution_count": 48,
     "metadata": {},
     "output_type": "execute_result"
    }
   ],
   "source": [
    "df_full_train[categorical].nunique()"
   ],
   "metadata": {
    "collapsed": false,
    "ExecuteTime": {
     "end_time": "2023-09-25T21:35:37.075413Z",
     "start_time": "2023-09-25T21:35:37.053796Z"
    }
   },
   "id": "ead69468b82c50a"
  },
  {
   "cell_type": "code",
   "execution_count": null,
   "outputs": [],
   "source": [],
   "metadata": {
    "collapsed": false
   },
   "id": "b0fd1b5cc0a5476f"
  }
 ],
 "metadata": {
  "kernelspec": {
   "display_name": "Python 3",
   "language": "python",
   "name": "python3"
  },
  "language_info": {
   "codemirror_mode": {
    "name": "ipython",
    "version": 2
   },
   "file_extension": ".py",
   "mimetype": "text/x-python",
   "name": "python",
   "nbconvert_exporter": "python",
   "pygments_lexer": "ipython2",
   "version": "2.7.6"
  }
 },
 "nbformat": 4,
 "nbformat_minor": 5
}
