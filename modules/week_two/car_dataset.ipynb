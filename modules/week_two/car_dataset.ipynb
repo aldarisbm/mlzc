{
 "cells": [
  {
   "cell_type": "code",
   "execution_count": 1,
   "id": "initial_id",
   "metadata": {
    "collapsed": true,
    "ExecuteTime": {
     "end_time": "2023-09-20T20:09:34.949470Z",
     "start_time": "2023-09-20T20:09:34.782238Z"
    }
   },
   "outputs": [],
   "source": [
    "import numpy as np\n",
    "import pandas as pd"
   ]
  },
  {
   "cell_type": "code",
   "execution_count": 2,
   "outputs": [
    {
     "data": {
      "text/plain": "  Make       Model  Year             Engine Fuel Type  Engine HP  \\\n0  BMW  1 Series M  2011  premium unleaded (required)      335.0   \n1  BMW    1 Series  2011  premium unleaded (required)      300.0   \n2  BMW    1 Series  2011  premium unleaded (required)      300.0   \n3  BMW    1 Series  2011  premium unleaded (required)      230.0   \n4  BMW    1 Series  2011  premium unleaded (required)      230.0   \n\n   Engine Cylinders Transmission Type     Driven_Wheels  Number of Doors  \\\n0               6.0            MANUAL  rear wheel drive              2.0   \n1               6.0            MANUAL  rear wheel drive              2.0   \n2               6.0            MANUAL  rear wheel drive              2.0   \n3               6.0            MANUAL  rear wheel drive              2.0   \n4               6.0            MANUAL  rear wheel drive              2.0   \n\n                         Market Category Vehicle Size Vehicle Style  \\\n0  Factory Tuner,Luxury,High-Performance      Compact         Coupe   \n1                     Luxury,Performance      Compact   Convertible   \n2                Luxury,High-Performance      Compact         Coupe   \n3                     Luxury,Performance      Compact         Coupe   \n4                                 Luxury      Compact   Convertible   \n\n   highway MPG  city mpg  Popularity   MSRP  \n0           26        19        3916  46135  \n1           28        19        3916  40650  \n2           28        20        3916  36350  \n3           28        18        3916  29450  \n4           28        18        3916  34500  ",
      "text/html": "<div>\n<style scoped>\n    .dataframe tbody tr th:only-of-type {\n        vertical-align: middle;\n    }\n\n    .dataframe tbody tr th {\n        vertical-align: top;\n    }\n\n    .dataframe thead th {\n        text-align: right;\n    }\n</style>\n<table border=\"1\" class=\"dataframe\">\n  <thead>\n    <tr style=\"text-align: right;\">\n      <th></th>\n      <th>Make</th>\n      <th>Model</th>\n      <th>Year</th>\n      <th>Engine Fuel Type</th>\n      <th>Engine HP</th>\n      <th>Engine Cylinders</th>\n      <th>Transmission Type</th>\n      <th>Driven_Wheels</th>\n      <th>Number of Doors</th>\n      <th>Market Category</th>\n      <th>Vehicle Size</th>\n      <th>Vehicle Style</th>\n      <th>highway MPG</th>\n      <th>city mpg</th>\n      <th>Popularity</th>\n      <th>MSRP</th>\n    </tr>\n  </thead>\n  <tbody>\n    <tr>\n      <th>0</th>\n      <td>BMW</td>\n      <td>1 Series M</td>\n      <td>2011</td>\n      <td>premium unleaded (required)</td>\n      <td>335.0</td>\n      <td>6.0</td>\n      <td>MANUAL</td>\n      <td>rear wheel drive</td>\n      <td>2.0</td>\n      <td>Factory Tuner,Luxury,High-Performance</td>\n      <td>Compact</td>\n      <td>Coupe</td>\n      <td>26</td>\n      <td>19</td>\n      <td>3916</td>\n      <td>46135</td>\n    </tr>\n    <tr>\n      <th>1</th>\n      <td>BMW</td>\n      <td>1 Series</td>\n      <td>2011</td>\n      <td>premium unleaded (required)</td>\n      <td>300.0</td>\n      <td>6.0</td>\n      <td>MANUAL</td>\n      <td>rear wheel drive</td>\n      <td>2.0</td>\n      <td>Luxury,Performance</td>\n      <td>Compact</td>\n      <td>Convertible</td>\n      <td>28</td>\n      <td>19</td>\n      <td>3916</td>\n      <td>40650</td>\n    </tr>\n    <tr>\n      <th>2</th>\n      <td>BMW</td>\n      <td>1 Series</td>\n      <td>2011</td>\n      <td>premium unleaded (required)</td>\n      <td>300.0</td>\n      <td>6.0</td>\n      <td>MANUAL</td>\n      <td>rear wheel drive</td>\n      <td>2.0</td>\n      <td>Luxury,High-Performance</td>\n      <td>Compact</td>\n      <td>Coupe</td>\n      <td>28</td>\n      <td>20</td>\n      <td>3916</td>\n      <td>36350</td>\n    </tr>\n    <tr>\n      <th>3</th>\n      <td>BMW</td>\n      <td>1 Series</td>\n      <td>2011</td>\n      <td>premium unleaded (required)</td>\n      <td>230.0</td>\n      <td>6.0</td>\n      <td>MANUAL</td>\n      <td>rear wheel drive</td>\n      <td>2.0</td>\n      <td>Luxury,Performance</td>\n      <td>Compact</td>\n      <td>Coupe</td>\n      <td>28</td>\n      <td>18</td>\n      <td>3916</td>\n      <td>29450</td>\n    </tr>\n    <tr>\n      <th>4</th>\n      <td>BMW</td>\n      <td>1 Series</td>\n      <td>2011</td>\n      <td>premium unleaded (required)</td>\n      <td>230.0</td>\n      <td>6.0</td>\n      <td>MANUAL</td>\n      <td>rear wheel drive</td>\n      <td>2.0</td>\n      <td>Luxury</td>\n      <td>Compact</td>\n      <td>Convertible</td>\n      <td>28</td>\n      <td>18</td>\n      <td>3916</td>\n      <td>34500</td>\n    </tr>\n  </tbody>\n</table>\n</div>"
     },
     "execution_count": 2,
     "metadata": {},
     "output_type": "execute_result"
    }
   ],
   "source": [
    "data = './data.csv'\n",
    "df = pd.read_csv(data)\n",
    "df.head()"
   ],
   "metadata": {
    "collapsed": false,
    "ExecuteTime": {
     "end_time": "2023-09-20T20:09:34.960173Z",
     "start_time": "2023-09-20T20:09:34.784070Z"
    }
   },
   "id": "a471a6168994ebae"
  },
  {
   "cell_type": "code",
   "execution_count": 3,
   "outputs": [
    {
     "data": {
      "text/plain": "Index(['Make', 'Model', 'Year', 'Engine Fuel Type', 'Engine HP',\n       'Engine Cylinders', 'Transmission Type', 'Driven_Wheels',\n       'Number of Doors', 'Market Category', 'Vehicle Size', 'Vehicle Style',\n       'highway MPG', 'city mpg', 'Popularity', 'MSRP'],\n      dtype='object')"
     },
     "execution_count": 3,
     "metadata": {},
     "output_type": "execute_result"
    }
   ],
   "source": [
    "df.columns"
   ],
   "metadata": {
    "collapsed": false,
    "ExecuteTime": {
     "end_time": "2023-09-20T20:09:34.960643Z",
     "start_time": "2023-09-20T20:09:34.804489Z"
    }
   },
   "id": "730cf114a69f43e3"
  },
  {
   "cell_type": "code",
   "execution_count": 4,
   "outputs": [],
   "source": [
    "df.columns = df.columns.str.lower().str.replace(' ', '_')"
   ],
   "metadata": {
    "collapsed": false,
    "ExecuteTime": {
     "end_time": "2023-09-20T20:09:34.960756Z",
     "start_time": "2023-09-20T20:09:34.807232Z"
    }
   },
   "id": "7f37e8e9e74eb1fd"
  },
  {
   "cell_type": "code",
   "execution_count": 5,
   "outputs": [
    {
     "data": {
      "text/plain": "Index(['make', 'model', 'year', 'engine_fuel_type', 'engine_hp',\n       'engine_cylinders', 'transmission_type', 'driven_wheels',\n       'number_of_doors', 'market_category', 'vehicle_size', 'vehicle_style',\n       'highway_mpg', 'city_mpg', 'popularity', 'msrp'],\n      dtype='object')"
     },
     "execution_count": 5,
     "metadata": {},
     "output_type": "execute_result"
    }
   ],
   "source": [
    "df.columns"
   ],
   "metadata": {
    "collapsed": false,
    "ExecuteTime": {
     "end_time": "2023-09-20T20:09:34.960950Z",
     "start_time": "2023-09-20T20:09:34.809146Z"
    }
   },
   "id": "f6a765d769151dc1"
  },
  {
   "cell_type": "markdown",
   "source": [
    "We gotta clean all the columns, but also the values\n",
    "This makes a python list out of the column names (indices)"
   ],
   "metadata": {
    "collapsed": false
   },
   "id": "f55d2cdc7b83b837"
  },
  {
   "cell_type": "code",
   "execution_count": 6,
   "outputs": [
    {
     "data": {
      "text/plain": "['make',\n 'model',\n 'engine_fuel_type',\n 'transmission_type',\n 'driven_wheels',\n 'market_category',\n 'vehicle_size',\n 'vehicle_style']"
     },
     "execution_count": 6,
     "metadata": {},
     "output_type": "execute_result"
    }
   ],
   "source": [
    "strings  = list(df.dtypes[df.dtypes == 'object'].index)\n",
    "strings"
   ],
   "metadata": {
    "collapsed": false,
    "ExecuteTime": {
     "end_time": "2023-09-20T20:09:34.961153Z",
     "start_time": "2023-09-20T20:09:34.812092Z"
    }
   },
   "id": "79ffa4120ab9914d"
  },
  {
   "cell_type": "code",
   "execution_count": 7,
   "outputs": [],
   "source": [
    "for col in strings:\n",
    "    # we iterate over all the values and lowercase\n",
    "    # and replace spaces with underscores \n",
    "    df[col] = df[col].str.lower().str.replace(' ', '_')"
   ],
   "metadata": {
    "collapsed": false,
    "ExecuteTime": {
     "end_time": "2023-09-20T20:09:34.963250Z",
     "start_time": "2023-09-20T20:09:34.814870Z"
    }
   },
   "id": "dfced32d8ebabf6"
  },
  {
   "cell_type": "code",
   "execution_count": 8,
   "outputs": [
    {
     "data": {
      "text/plain": "make                  object\nmodel                 object\nyear                   int64\nengine_fuel_type      object\nengine_hp            float64\nengine_cylinders     float64\ntransmission_type     object\ndriven_wheels         object\nnumber_of_doors      float64\nmarket_category       object\nvehicle_size          object\nvehicle_style         object\nhighway_mpg            int64\ncity_mpg               int64\npopularity             int64\nmsrp                   int64\ndtype: object"
     },
     "execution_count": 8,
     "metadata": {},
     "output_type": "execute_result"
    }
   ],
   "source": [
    "df.dtypes"
   ],
   "metadata": {
    "collapsed": false,
    "ExecuteTime": {
     "end_time": "2023-09-20T20:09:34.963552Z",
     "start_time": "2023-09-20T20:09:34.835299Z"
    }
   },
   "id": "2354dcb68a1dabf6"
  },
  {
   "cell_type": "markdown",
   "source": [
    "Exploratory Data Analysis"
   ],
   "metadata": {
    "collapsed": false
   },
   "id": "199ca0c71ec5ad81"
  },
  {
   "cell_type": "code",
   "execution_count": 9,
   "outputs": [
    {
     "name": "stdout",
     "output_type": "stream",
     "text": [
      "make\n",
      "['bmw' 'audi' 'fiat' 'mercedes-benz' 'chrysler']\n",
      "48\n",
      "\n",
      "model\n",
      "['1_series_m' '1_series' '100' '124_spider' '190-class']\n",
      "914\n",
      "\n",
      "year\n",
      "[2011 2012 2013 1992 1993]\n",
      "28\n",
      "\n",
      "engine_fuel_type\n",
      "['premium_unleaded_(required)' 'regular_unleaded'\n",
      " 'premium_unleaded_(recommended)' 'flex-fuel_(unleaded/e85)' 'diesel']\n",
      "10\n",
      "\n",
      "engine_hp\n",
      "[335. 300. 230. 320. 172.]\n",
      "356\n",
      "\n",
      "engine_cylinders\n",
      "[ 6.  4.  5.  8. 12.]\n",
      "9\n",
      "\n",
      "transmission_type\n",
      "['manual' 'automatic' 'automated_manual' 'direct_drive' 'unknown']\n",
      "5\n",
      "\n",
      "driven_wheels\n",
      "['rear_wheel_drive' 'front_wheel_drive' 'all_wheel_drive'\n",
      " 'four_wheel_drive']\n",
      "4\n",
      "\n",
      "number_of_doors\n",
      "[ 2.  4.  3. nan]\n",
      "3\n",
      "\n",
      "market_category\n",
      "['factory_tuner,luxury,high-performance' 'luxury,performance'\n",
      " 'luxury,high-performance' 'luxury' 'performance']\n",
      "71\n",
      "\n",
      "vehicle_size\n",
      "['compact' 'midsize' 'large']\n",
      "3\n",
      "\n",
      "vehicle_style\n",
      "['coupe' 'convertible' 'sedan' 'wagon' '4dr_hatchback']\n",
      "16\n",
      "\n",
      "highway_mpg\n",
      "[26 28 27 25 24]\n",
      "59\n",
      "\n",
      "city_mpg\n",
      "[19 20 18 17 16]\n",
      "69\n",
      "\n",
      "popularity\n",
      "[3916 3105  819  617 1013]\n",
      "48\n",
      "\n",
      "msrp\n",
      "[46135 40650 36350 29450 34500]\n",
      "6049\n"
     ]
    }
   ],
   "source": [
    "for col in df.columns:\n",
    "    print(col)\n",
    "    # We are taking a look at the first 5 unique values\n",
    "    print(df[col].unique()[:5])\n",
    "    print(df[col].nunique())\n",
    "    print()"
   ],
   "metadata": {
    "collapsed": false,
    "ExecuteTime": {
     "end_time": "2023-09-20T20:09:34.985928Z",
     "start_time": "2023-09-20T20:09:34.838455Z"
    }
   },
   "id": "aad201f9b75693c9"
  },
  {
   "cell_type": "markdown",
   "source": [
    "Distribution of price"
   ],
   "metadata": {
    "collapsed": false
   },
   "id": "252540fc63ce6925"
  },
  {
   "cell_type": "code",
   "execution_count": 10,
   "outputs": [],
   "source": [
    "import matplotlib.pyplot as plt\n",
    "import seaborn as sns\n",
    "\n",
    "# need this line to make sure matplots can be displayed in notebook\n",
    "%matplotlib inline"
   ],
   "metadata": {
    "collapsed": false,
    "ExecuteTime": {
     "end_time": "2023-09-20T20:09:34.986181Z",
     "start_time": "2023-09-20T20:09:34.847358Z"
    }
   },
   "id": "e33cf4ca130d126d"
  },
  {
   "cell_type": "code",
   "execution_count": 11,
   "outputs": [
    {
     "data": {
      "text/plain": "<Axes: xlabel='msrp', ylabel='Count'>"
     },
     "execution_count": 11,
     "metadata": {},
     "output_type": "execute_result"
    },
    {
     "data": {
      "text/plain": "<Figure size 640x480 with 1 Axes>",
      "image/png": "[encoded data removed]"
     },
     "metadata": {},
     "output_type": "display_data"
    }
   ],
   "source": [
    "sns.histplot(df.msrp, bins=50)"
   ],
   "metadata": {
    "collapsed": false,
    "ExecuteTime": {
     "end_time": "2023-09-20T20:09:35.177614Z",
     "start_time": "2023-09-20T20:09:34.854706Z"
    }
   },
   "id": "1dc430bb8efa6d22"
  },
  {
   "cell_type": "code",
   "execution_count": 12,
   "outputs": [
    {
     "data": {
      "text/plain": "<Axes: xlabel='msrp', ylabel='Count'>"
     },
     "execution_count": 12,
     "metadata": {},
     "output_type": "execute_result"
    },
    {
     "data": {
      "text/plain": "<Figure size 640x480 with 1 Axes>",
      "image/png": "[encoded data removed]"
     },
     "metadata": {},
     "output_type": "display_data"
    }
   ],
   "source": [
    "# bins is how many bars we have horizontally to represent the data\n",
    "sns.histplot(df.msrp[df.msrp < 100000], bins=50)\n",
    "# long tail distribution (a few data points with different values towards the end)"
   ],
   "metadata": {
    "collapsed": false,
    "ExecuteTime": {
     "end_time": "2023-09-20T20:09:35.816113Z",
     "start_time": "2023-09-20T20:09:34.957851Z"
    }
   },
   "id": "4ac2b4c4a36f0e63"
  },
  {
   "cell_type": "markdown",
   "source": [
    "This seems like a pretty straight forward distribution, not quite good for ML model, the tail will confuse the model,\n",
    "we want to get rid of the long tail"
   ],
   "metadata": {
    "collapsed": false
   },
   "id": "c354a75daf63bdeb"
  },
  {
   "cell_type": "code",
   "execution_count": 13,
   "outputs": [
    {
     "data": {
      "text/plain": "array([ 0.        ,  0.69314718,  2.39789527,  6.90875478, 11.51293546])"
     },
     "execution_count": 13,
     "metadata": {},
     "output_type": "execute_result"
    }
   ],
   "source": [
    "np.log([1, 10, 1000, 100000])\n",
    "\n",
    "# This won't work because the logarithm of 0 doesnt exist, to mitigate this, we add 1 to all vals\n",
    "#np.log([0, 1, 10, 1000, 100000])\n",
    "np.log([0 + 1, 1 + 1, 10 + 1, 1000 + 1, 100000 + 1])"
   ],
   "metadata": {
    "collapsed": false,
    "ExecuteTime": {
     "end_time": "2023-09-20T20:09:35.816374Z",
     "start_time": "2023-09-20T20:09:35.063113Z"
    }
   },
   "id": "54b4b56c72deff45"
  },
  {
   "cell_type": "code",
   "execution_count": 14,
   "outputs": [
    {
     "data": {
      "text/plain": "array([ 0.        ,  0.69314718,  2.39789527,  6.90875478, 11.51293546])"
     },
     "execution_count": 14,
     "metadata": {},
     "output_type": "execute_result"
    }
   ],
   "source": [
    "# we dont want to add this every time so we use\n",
    "\n",
    "np.log1p([0, 1, 10, 1000, 100000]) "
   ],
   "metadata": {
    "collapsed": false,
    "ExecuteTime": {
     "end_time": "2023-09-20T20:09:35.816583Z",
     "start_time": "2023-09-20T20:09:35.066635Z"
    }
   },
   "id": "49bda0a0416f16bd"
  },
  {
   "cell_type": "code",
   "execution_count": 15,
   "outputs": [],
   "source": [
    "price_logs= np.log1p(df.msrp)"
   ],
   "metadata": {
    "collapsed": false,
    "ExecuteTime": {
     "end_time": "2023-09-20T20:09:35.816660Z",
     "start_time": "2023-09-20T20:09:35.068891Z"
    }
   },
   "id": "a92e4137188e7861"
  },
  {
   "cell_type": "code",
   "execution_count": 16,
   "outputs": [
    {
     "data": {
      "text/plain": "0        10.739349\n1        10.612779\n2        10.500977\n3        10.290483\n4        10.448744\n           ...    \n11909    10.739024\n11910    10.945018\n11911    10.832122\n11912    10.838031\n11913    10.274913\nName: msrp, Length: 11914, dtype: float64"
     },
     "execution_count": 16,
     "metadata": {},
     "output_type": "execute_result"
    }
   ],
   "source": [
    "price_logs"
   ],
   "metadata": {
    "collapsed": false,
    "ExecuteTime": {
     "end_time": "2023-09-20T20:09:35.816861Z",
     "start_time": "2023-09-20T20:09:35.071991Z"
    }
   },
   "id": "57c9e04a6267a573"
  },
  {
   "cell_type": "code",
   "execution_count": 17,
   "outputs": [
    {
     "data": {
      "text/plain": "<Axes: xlabel='msrp', ylabel='Count'>"
     },
     "execution_count": 17,
     "metadata": {},
     "output_type": "execute_result"
    },
    {
     "data": {
      "text/plain": "<Figure size 640x480 with 1 Axes>",
      "image/png": "[encoded data removed]"
     },
     "metadata": {},
     "output_type": "display_data"
    }
   ],
   "source": [
    "sns.histplot(price_logs, bins=50)\n",
    "\n",
    "# normal distribution\n",
    "# bell curve shape"
   ],
   "metadata": {
    "collapsed": false,
    "ExecuteTime": {
     "end_time": "2023-09-20T20:09:35.962270Z",
     "start_time": "2023-09-20T20:09:35.078114Z"
    }
   },
   "id": "ec76aad815670472"
  },
  {
   "cell_type": "code",
   "execution_count": 18,
   "outputs": [
    {
     "data": {
      "text/plain": "  make       model  year             engine_fuel_type  engine_hp  \\\n0  bmw  1_series_m  2011  premium_unleaded_(required)      335.0   \n1  bmw    1_series  2011  premium_unleaded_(required)      300.0   \n2  bmw    1_series  2011  premium_unleaded_(required)      300.0   \n3  bmw    1_series  2011  premium_unleaded_(required)      230.0   \n4  bmw    1_series  2011  premium_unleaded_(required)      230.0   \n\n   engine_cylinders transmission_type     driven_wheels  number_of_doors  \\\n0               6.0            manual  rear_wheel_drive              2.0   \n1               6.0            manual  rear_wheel_drive              2.0   \n2               6.0            manual  rear_wheel_drive              2.0   \n3               6.0            manual  rear_wheel_drive              2.0   \n4               6.0            manual  rear_wheel_drive              2.0   \n\n                         market_category vehicle_size vehicle_style  \\\n0  factory_tuner,luxury,high-performance      compact         coupe   \n1                     luxury,performance      compact   convertible   \n2                luxury,high-performance      compact         coupe   \n3                     luxury,performance      compact         coupe   \n4                                 luxury      compact   convertible   \n\n   highway_mpg  city_mpg  popularity   msrp  \n0           26        19        3916  46135  \n1           28        19        3916  40650  \n2           28        20        3916  36350  \n3           28        18        3916  29450  \n4           28        18        3916  34500  ",
      "text/html": "<div>\n<style scoped>\n    .dataframe tbody tr th:only-of-type {\n        vertical-align: middle;\n    }\n\n    .dataframe tbody tr th {\n        vertical-align: top;\n    }\n\n    .dataframe thead th {\n        text-align: right;\n    }\n</style>\n<table border=\"1\" class=\"dataframe\">\n  <thead>\n    <tr style=\"text-align: right;\">\n      <th></th>\n      <th>make</th>\n      <th>model</th>\n      <th>year</th>\n      <th>engine_fuel_type</th>\n      <th>engine_hp</th>\n      <th>engine_cylinders</th>\n      <th>transmission_type</th>\n      <th>driven_wheels</th>\n      <th>number_of_doors</th>\n      <th>market_category</th>\n      <th>vehicle_size</th>\n      <th>vehicle_style</th>\n      <th>highway_mpg</th>\n      <th>city_mpg</th>\n      <th>popularity</th>\n      <th>msrp</th>\n    </tr>\n  </thead>\n  <tbody>\n    <tr>\n      <th>0</th>\n      <td>bmw</td>\n      <td>1_series_m</td>\n      <td>2011</td>\n      <td>premium_unleaded_(required)</td>\n      <td>335.0</td>\n      <td>6.0</td>\n      <td>manual</td>\n      <td>rear_wheel_drive</td>\n      <td>2.0</td>\n      <td>factory_tuner,luxury,high-performance</td>\n      <td>compact</td>\n      <td>coupe</td>\n      <td>26</td>\n      <td>19</td>\n      <td>3916</td>\n      <td>46135</td>\n    </tr>\n    <tr>\n      <th>1</th>\n      <td>bmw</td>\n      <td>1_series</td>\n      <td>2011</td>\n      <td>premium_unleaded_(required)</td>\n      <td>300.0</td>\n      <td>6.0</td>\n      <td>manual</td>\n      <td>rear_wheel_drive</td>\n      <td>2.0</td>\n      <td>luxury,performance</td>\n      <td>compact</td>\n      <td>convertible</td>\n      <td>28</td>\n      <td>19</td>\n      <td>3916</td>\n      <td>40650</td>\n    </tr>\n    <tr>\n      <th>2</th>\n      <td>bmw</td>\n      <td>1_series</td>\n      <td>2011</td>\n      <td>premium_unleaded_(required)</td>\n      <td>300.0</td>\n      <td>6.0</td>\n      <td>manual</td>\n      <td>rear_wheel_drive</td>\n      <td>2.0</td>\n      <td>luxury,high-performance</td>\n      <td>compact</td>\n      <td>coupe</td>\n      <td>28</td>\n      <td>20</td>\n      <td>3916</td>\n      <td>36350</td>\n    </tr>\n    <tr>\n      <th>3</th>\n      <td>bmw</td>\n      <td>1_series</td>\n      <td>2011</td>\n      <td>premium_unleaded_(required)</td>\n      <td>230.0</td>\n      <td>6.0</td>\n      <td>manual</td>\n      <td>rear_wheel_drive</td>\n      <td>2.0</td>\n      <td>luxury,performance</td>\n      <td>compact</td>\n      <td>coupe</td>\n      <td>28</td>\n      <td>18</td>\n      <td>3916</td>\n      <td>29450</td>\n    </tr>\n    <tr>\n      <th>4</th>\n      <td>bmw</td>\n      <td>1_series</td>\n      <td>2011</td>\n      <td>premium_unleaded_(required)</td>\n      <td>230.0</td>\n      <td>6.0</td>\n      <td>manual</td>\n      <td>rear_wheel_drive</td>\n      <td>2.0</td>\n      <td>luxury</td>\n      <td>compact</td>\n      <td>convertible</td>\n      <td>28</td>\n      <td>18</td>\n      <td>3916</td>\n      <td>34500</td>\n    </tr>\n  </tbody>\n</table>\n</div>"
     },
     "execution_count": 18,
     "metadata": {},
     "output_type": "execute_result"
    }
   ],
   "source": [
    "df.head()"
   ],
   "metadata": {
    "collapsed": false,
    "ExecuteTime": {
     "end_time": "2023-09-20T20:09:35.972444Z",
     "start_time": "2023-09-20T20:09:35.177281Z"
    }
   },
   "id": "7a2b8e8e1baaa5f1"
  },
  {
   "cell_type": "code",
   "execution_count": 19,
   "outputs": [
    {
     "data": {
      "text/plain": "make                    0\nmodel                   0\nyear                    0\nengine_fuel_type        3\nengine_hp              69\nengine_cylinders       30\ntransmission_type       0\ndriven_wheels           0\nnumber_of_doors         6\nmarket_category      3742\nvehicle_size            0\nvehicle_style           0\nhighway_mpg             0\ncity_mpg                0\npopularity              0\nmsrp                    0\ndtype: int64"
     },
     "execution_count": 19,
     "metadata": {},
     "output_type": "execute_result"
    }
   ],
   "source": [
    "df.isnull().sum()"
   ],
   "metadata": {
    "collapsed": false,
    "ExecuteTime": {
     "end_time": "2023-09-20T20:09:35.972697Z",
     "start_time": "2023-09-20T20:09:35.179961Z"
    }
   },
   "id": "250a38a76eb60944"
  },
  {
   "cell_type": "code",
   "execution_count": 20,
   "outputs": [
    {
     "data": {
      "text/plain": "(11914, 11914)"
     },
     "execution_count": 20,
     "metadata": {},
     "output_type": "execute_result"
    }
   ],
   "source": [
    "# length of dataset\n",
    "n = len(df)\n",
    "\n",
    "n_val = int(n * 0.2)\n",
    "n_test = int(n * 0.2)\n",
    "n_train = n - n_val - n_test\n",
    "\n",
    "n, n_val+n_test+n_train"
   ],
   "metadata": {
    "collapsed": false,
    "ExecuteTime": {
     "end_time": "2023-09-20T20:09:35.972869Z",
     "start_time": "2023-09-20T20:09:35.185743Z"
    }
   },
   "id": "a083fc61c449140a"
  },
  {
   "cell_type": "code",
   "execution_count": 21,
   "outputs": [],
   "source": [
    "dv_val = df.iloc[:n_val]\n",
    "df_test = df.iloc[n_val:n_val+n_test]\n",
    "df_train = df.iloc[n_val+n_test:]"
   ],
   "metadata": {
    "collapsed": false,
    "ExecuteTime": {
     "end_time": "2023-09-20T20:09:35.972945Z",
     "start_time": "2023-09-20T20:09:35.188311Z"
    }
   },
   "id": "b3a8b0ddbfa8e0c2"
  },
  {
   "cell_type": "markdown",
   "source": [
    "We have a problem with the way this dataset is sliced, because we are ending up with a sequential dataset, where for example, all bmws will end up in the validation dataset. This is not good\n",
    "\n",
    "It is a good idea to _always_ shuffle the data"
   ],
   "metadata": {
    "collapsed": false
   },
   "id": "fb41f41fa5340e1b"
  },
  {
   "cell_type": "code",
   "execution_count": 22,
   "outputs": [
    {
     "data": {
      "text/plain": "   make       model  year             engine_fuel_type  engine_hp  \\\n10  bmw    1_series  2013  premium_unleaded_(required)      300.0   \n0   bmw  1_series_m  2011  premium_unleaded_(required)      335.0   \n3   bmw    1_series  2011  premium_unleaded_(required)      230.0   \n5   bmw    1_series  2012  premium_unleaded_(required)      230.0   \n\n    engine_cylinders transmission_type     driven_wheels  number_of_doors  \\\n10               6.0            manual  rear_wheel_drive              2.0   \n0                6.0            manual  rear_wheel_drive              2.0   \n3                6.0            manual  rear_wheel_drive              2.0   \n5                6.0            manual  rear_wheel_drive              2.0   \n\n                          market_category vehicle_size vehicle_style  \\\n10                luxury,high-performance      compact         coupe   \n0   factory_tuner,luxury,high-performance      compact         coupe   \n3                      luxury,performance      compact         coupe   \n5                      luxury,performance      compact         coupe   \n\n    highway_mpg  city_mpg  popularity   msrp  \n10           28        20        3916  39600  \n0            26        19        3916  46135  \n3            28        18        3916  29450  \n5            28        18        3916  31200  ",
      "text/html": "<div>\n<style scoped>\n    .dataframe tbody tr th:only-of-type {\n        vertical-align: middle;\n    }\n\n    .dataframe tbody tr th {\n        vertical-align: top;\n    }\n\n    .dataframe thead th {\n        text-align: right;\n    }\n</style>\n<table border=\"1\" class=\"dataframe\">\n  <thead>\n    <tr style=\"text-align: right;\">\n      <th></th>\n      <th>make</th>\n      <th>model</th>\n      <th>year</th>\n      <th>engine_fuel_type</th>\n      <th>engine_hp</th>\n      <th>engine_cylinders</th>\n      <th>transmission_type</th>\n      <th>driven_wheels</th>\n      <th>number_of_doors</th>\n      <th>market_category</th>\n      <th>vehicle_size</th>\n      <th>vehicle_style</th>\n      <th>highway_mpg</th>\n      <th>city_mpg</th>\n      <th>popularity</th>\n      <th>msrp</th>\n    </tr>\n  </thead>\n  <tbody>\n    <tr>\n      <th>10</th>\n      <td>bmw</td>\n      <td>1_series</td>\n      <td>2013</td>\n      <td>premium_unleaded_(required)</td>\n      <td>300.0</td>\n      <td>6.0</td>\n      <td>manual</td>\n      <td>rear_wheel_drive</td>\n      <td>2.0</td>\n      <td>luxury,high-performance</td>\n      <td>compact</td>\n      <td>coupe</td>\n      <td>28</td>\n      <td>20</td>\n      <td>3916</td>\n      <td>39600</td>\n    </tr>\n    <tr>\n      <th>0</th>\n      <td>bmw</td>\n      <td>1_series_m</td>\n      <td>2011</td>\n      <td>premium_unleaded_(required)</td>\n      <td>335.0</td>\n      <td>6.0</td>\n      <td>manual</td>\n      <td>rear_wheel_drive</td>\n      <td>2.0</td>\n      <td>factory_tuner,luxury,high-performance</td>\n      <td>compact</td>\n      <td>coupe</td>\n      <td>26</td>\n      <td>19</td>\n      <td>3916</td>\n      <td>46135</td>\n    </tr>\n    <tr>\n      <th>3</th>\n      <td>bmw</td>\n      <td>1_series</td>\n      <td>2011</td>\n      <td>premium_unleaded_(required)</td>\n      <td>230.0</td>\n      <td>6.0</td>\n      <td>manual</td>\n      <td>rear_wheel_drive</td>\n      <td>2.0</td>\n      <td>luxury,performance</td>\n      <td>compact</td>\n      <td>coupe</td>\n      <td>28</td>\n      <td>18</td>\n      <td>3916</td>\n      <td>29450</td>\n    </tr>\n    <tr>\n      <th>5</th>\n      <td>bmw</td>\n      <td>1_series</td>\n      <td>2012</td>\n      <td>premium_unleaded_(required)</td>\n      <td>230.0</td>\n      <td>6.0</td>\n      <td>manual</td>\n      <td>rear_wheel_drive</td>\n      <td>2.0</td>\n      <td>luxury,performance</td>\n      <td>compact</td>\n      <td>coupe</td>\n      <td>28</td>\n      <td>18</td>\n      <td>3916</td>\n      <td>31200</td>\n    </tr>\n  </tbody>\n</table>\n</div>"
     },
     "execution_count": 22,
     "metadata": {},
     "output_type": "execute_result"
    }
   ],
   "source": [
    "# we could take arbitrary numbers here\n",
    "df.iloc[[10, 0, 3, 5]]"
   ],
   "metadata": {
    "collapsed": false,
    "ExecuteTime": {
     "end_time": "2023-09-20T20:09:35.973597Z",
     "start_time": "2023-09-20T20:09:35.194058Z"
    }
   },
   "id": "f59366157122b99c"
  },
  {
   "cell_type": "code",
   "execution_count": 23,
   "outputs": [],
   "source": [
    "df_train = df.iloc[n_train:]\n",
    "dv_val = df.iloc[n_train:n_train+n_val]\n",
    "df_test = df.iloc[n_train+n_val:n_val:]"
   ],
   "metadata": {
    "collapsed": false,
    "ExecuteTime": {
     "end_time": "2023-09-20T20:09:35.973676Z",
     "start_time": "2023-09-20T20:09:35.196681Z"
    }
   },
   "id": "29f5856b226232c3"
  },
  {
   "cell_type": "code",
   "execution_count": 24,
   "outputs": [],
   "source": [
    "idx = np.arange(n)"
   ],
   "metadata": {
    "collapsed": false,
    "ExecuteTime": {
     "end_time": "2023-09-20T20:09:35.973754Z",
     "start_time": "2023-09-20T20:09:35.198389Z"
    }
   },
   "id": "e8b4c1893fea1d84"
  },
  {
   "cell_type": "code",
   "execution_count": 25,
   "outputs": [
    {
     "data": {
      "text/plain": "array([2735, 6720, 5878, ..., 6637, 2575, 7336])"
     },
     "execution_count": 25,
     "metadata": {},
     "output_type": "execute_result"
    }
   ],
   "source": [
    "np.random.seed(2)\n",
    "\n",
    "np.random.shuffle(idx)\n",
    "idx"
   ],
   "metadata": {
    "collapsed": false,
    "ExecuteTime": {
     "end_time": "2023-09-20T20:09:35.974218Z",
     "start_time": "2023-09-20T20:09:35.200648Z"
    }
   },
   "id": "1e7e6567733dc775"
  },
  {
   "cell_type": "code",
   "execution_count": 26,
   "outputs": [],
   "source": [
    "df_train = df.iloc[idx[:n_train]]\n",
    "df_val = df.iloc[idx[n_train:n_train+n_val]]\n",
    "df_test = df.iloc[idx[n_train+n_val:]]"
   ],
   "metadata": {
    "collapsed": false,
    "ExecuteTime": {
     "end_time": "2023-09-20T20:09:35.974355Z",
     "start_time": "2023-09-20T20:09:35.203703Z"
    }
   },
   "id": "3b82347e05391e49"
  },
  {
   "cell_type": "code",
   "execution_count": 27,
   "outputs": [
    {
     "data": {
      "text/plain": "             make    model  year          engine_fuel_type  engine_hp  \\\n2735    chevrolet   cobalt  2008          regular_unleaded      148.0   \n6720       toyota   matrix  2012          regular_unleaded      132.0   \n5878       subaru  impreza  2016          regular_unleaded      148.0   \n11190  volkswagen  vanagon  1991          regular_unleaded       90.0   \n4554         ford    f-150  2017  flex-fuel_(unleaded/e85)      385.0   \n\n       engine_cylinders transmission_type      driven_wheels  number_of_doors  \\\n2735                4.0            manual  front_wheel_drive              2.0   \n6720                4.0         automatic  front_wheel_drive              4.0   \n5878                4.0         automatic    all_wheel_drive              4.0   \n11190               4.0            manual   rear_wheel_drive              3.0   \n4554                8.0         automatic   four_wheel_drive              4.0   \n\n      market_category vehicle_size      vehicle_style  highway_mpg  city_mpg  \\\n2735              NaN      compact              coupe           33        24   \n6720        hatchback      compact      4dr_hatchback           32        25   \n5878        hatchback      compact      4dr_hatchback           37        28   \n11190             NaN        large  passenger_minivan           18        16   \n4554        flex_fuel        large    crew_cab_pickup           21        15   \n\n       popularity   msrp  \n2735         1385  14410  \n6720         2031  19685  \n5878          640  19795  \n11190         873   2000  \n4554         5657  56260  ",
      "text/html": "<div>\n<style scoped>\n    .dataframe tbody tr th:only-of-type {\n        vertical-align: middle;\n    }\n\n    .dataframe tbody tr th {\n        vertical-align: top;\n    }\n\n    .dataframe thead th {\n        text-align: right;\n    }\n</style>\n<table border=\"1\" class=\"dataframe\">\n  <thead>\n    <tr style=\"text-align: right;\">\n      <th></th>\n      <th>make</th>\n      <th>model</th>\n      <th>year</th>\n      <th>engine_fuel_type</th>\n      <th>engine_hp</th>\n      <th>engine_cylinders</th>\n      <th>transmission_type</th>\n      <th>driven_wheels</th>\n      <th>number_of_doors</th>\n      <th>market_category</th>\n      <th>vehicle_size</th>\n      <th>vehicle_style</th>\n      <th>highway_mpg</th>\n      <th>city_mpg</th>\n      <th>popularity</th>\n      <th>msrp</th>\n    </tr>\n  </thead>\n  <tbody>\n    <tr>\n      <th>2735</th>\n      <td>chevrolet</td>\n      <td>cobalt</td>\n      <td>2008</td>\n      <td>regular_unleaded</td>\n      <td>148.0</td>\n      <td>4.0</td>\n      <td>manual</td>\n      <td>front_wheel_drive</td>\n      <td>2.0</td>\n      <td>NaN</td>\n      <td>compact</td>\n      <td>coupe</td>\n      <td>33</td>\n      <td>24</td>\n      <td>1385</td>\n      <td>14410</td>\n    </tr>\n    <tr>\n      <th>6720</th>\n      <td>toyota</td>\n      <td>matrix</td>\n      <td>2012</td>\n      <td>regular_unleaded</td>\n      <td>132.0</td>\n      <td>4.0</td>\n      <td>automatic</td>\n      <td>front_wheel_drive</td>\n      <td>4.0</td>\n      <td>hatchback</td>\n      <td>compact</td>\n      <td>4dr_hatchback</td>\n      <td>32</td>\n      <td>25</td>\n      <td>2031</td>\n      <td>19685</td>\n    </tr>\n    <tr>\n      <th>5878</th>\n      <td>subaru</td>\n      <td>impreza</td>\n      <td>2016</td>\n      <td>regular_unleaded</td>\n      <td>148.0</td>\n      <td>4.0</td>\n      <td>automatic</td>\n      <td>all_wheel_drive</td>\n      <td>4.0</td>\n      <td>hatchback</td>\n      <td>compact</td>\n      <td>4dr_hatchback</td>\n      <td>37</td>\n      <td>28</td>\n      <td>640</td>\n      <td>19795</td>\n    </tr>\n    <tr>\n      <th>11190</th>\n      <td>volkswagen</td>\n      <td>vanagon</td>\n      <td>1991</td>\n      <td>regular_unleaded</td>\n      <td>90.0</td>\n      <td>4.0</td>\n      <td>manual</td>\n      <td>rear_wheel_drive</td>\n      <td>3.0</td>\n      <td>NaN</td>\n      <td>large</td>\n      <td>passenger_minivan</td>\n      <td>18</td>\n      <td>16</td>\n      <td>873</td>\n      <td>2000</td>\n    </tr>\n    <tr>\n      <th>4554</th>\n      <td>ford</td>\n      <td>f-150</td>\n      <td>2017</td>\n      <td>flex-fuel_(unleaded/e85)</td>\n      <td>385.0</td>\n      <td>8.0</td>\n      <td>automatic</td>\n      <td>four_wheel_drive</td>\n      <td>4.0</td>\n      <td>flex_fuel</td>\n      <td>large</td>\n      <td>crew_cab_pickup</td>\n      <td>21</td>\n      <td>15</td>\n      <td>5657</td>\n      <td>56260</td>\n    </tr>\n  </tbody>\n</table>\n</div>"
     },
     "execution_count": 27,
     "metadata": {},
     "output_type": "execute_result"
    }
   ],
   "source": [
    "df_train.head()"
   ],
   "metadata": {
    "collapsed": false,
    "ExecuteTime": {
     "end_time": "2023-09-20T20:09:35.975159Z",
     "start_time": "2023-09-20T20:09:35.211068Z"
    }
   },
   "id": "59e2c3c9bded91b1"
  },
  {
   "cell_type": "code",
   "execution_count": 28,
   "outputs": [
    {
     "data": {
      "text/plain": "(7150, 2382, 2382)"
     },
     "execution_count": 28,
     "metadata": {},
     "output_type": "execute_result"
    }
   ],
   "source": [
    "len(df_train), len(df_val), len(df_test)"
   ],
   "metadata": {
    "collapsed": false,
    "ExecuteTime": {
     "end_time": "2023-09-20T20:09:35.975381Z",
     "start_time": "2023-09-20T20:09:35.214096Z"
    }
   },
   "id": "fe53ae4b06c908d3"
  },
  {
   "cell_type": "code",
   "execution_count": 29,
   "outputs": [],
   "source": [
    "df_train = df_train.reset_index(drop=True)\n",
    "df_val = df_val.reset_index(drop=True)\n",
    "df_test = df_test.reset_index(drop=True)"
   ],
   "metadata": {
    "collapsed": false,
    "ExecuteTime": {
     "end_time": "2023-09-20T20:09:35.975463Z",
     "start_time": "2023-09-20T20:09:35.220041Z"
    }
   },
   "id": "c977473629d7992f"
  },
  {
   "cell_type": "code",
   "execution_count": 30,
   "outputs": [],
   "source": [
    "y_train = np.log1p(df_train.msrp.values)\n",
    "y_val = np.log1p(df_val.msrp.values)\n",
    "y_test = np.log1p(df_test.msrp.values)"
   ],
   "metadata": {
    "collapsed": false,
    "ExecuteTime": {
     "end_time": "2023-09-20T20:09:35.975541Z",
     "start_time": "2023-09-20T20:09:35.223413Z"
    }
   },
   "id": "6a141d9f0afb7cf7"
  },
  {
   "cell_type": "code",
   "execution_count": 31,
   "outputs": [],
   "source": [
    "del df_train['msrp']\n",
    "del df_val['msrp']\n",
    "del df_test['msrp']"
   ],
   "metadata": {
    "collapsed": false,
    "ExecuteTime": {
     "end_time": "2023-09-20T20:09:36.005102Z",
     "start_time": "2023-09-20T20:09:35.225706Z"
    }
   },
   "id": "94a9d25685c35273"
  },
  {
   "cell_type": "markdown",
   "source": [
    "# Linear Regression\n",
    "\n",
    "`g(x) = y`\n",
    "\n",
    "where `g` is the model, `x` is the feat matrix, and `y` is our target. In this model `y` is price\n",
    "\n",
    "`g(xi) = yi`\n",
    "\n",
    "`xi` being one car, and `yi` being one price\n",
    "\n",
    "`xi = (xi1, xi2, xi3, ..., xin) = yi`"
   ],
   "metadata": {
    "collapsed": false
   },
   "id": "63d14aa146f69b21"
  },
  {
   "cell_type": "code",
   "execution_count": 32,
   "outputs": [
    {
     "data": {
      "text/plain": "make                                 rolls-royce\nmodel                     phantom_drophead_coupe\nyear                                        2015\nengine_fuel_type     premium_unleaded_(required)\nengine_hp                                  453.0\nengine_cylinders                            12.0\ntransmission_type                      automatic\ndriven_wheels                   rear_wheel_drive\nnumber_of_doors                              2.0\nmarket_category        exotic,luxury,performance\nvehicle_size                               large\nvehicle_style                        convertible\nhighway_mpg                                   19\ncity_mpg                                      11\npopularity                                    86\nName: 10, dtype: object"
     },
     "execution_count": 32,
     "metadata": {},
     "output_type": "execute_result"
    }
   ],
   "source": [
    "df_train.iloc[10]"
   ],
   "metadata": {
    "collapsed": false,
    "ExecuteTime": {
     "end_time": "2023-09-20T20:09:36.005455Z",
     "start_time": "2023-09-20T20:09:35.227933Z"
    }
   },
   "id": "fd3951f6a6586db8"
  },
  {
   "cell_type": "code",
   "execution_count": 33,
   "outputs": [],
   "source": [
    "xi = [453, 11, 86]\n",
    "w0 = 7.17\n",
    "w = [0.01, 0.04, 0.002]"
   ],
   "metadata": {
    "collapsed": false,
    "ExecuteTime": {
     "end_time": "2023-09-20T20:09:36.005540Z",
     "start_time": "2023-09-20T20:09:35.230158Z"
    }
   },
   "id": "5347b90178ff825d"
  },
  {
   "cell_type": "code",
   "execution_count": 34,
   "outputs": [],
   "source": [
    "def linear_regression(xi):\n",
    "    n = len(xi)\n",
    "    \n",
    "    pred = w0\n",
    "    \n",
    "    for j in range(n):\n",
    "        pred = pred + w[j] * xi[j]\n",
    "    return pred"
   ],
   "metadata": {
    "collapsed": false,
    "ExecuteTime": {
     "end_time": "2023-09-20T20:09:36.005614Z",
     "start_time": "2023-09-20T20:09:35.232896Z"
    }
   },
   "id": "741741655a58dfc3"
  },
  {
   "cell_type": "markdown",
   "source": [
    "This is the same as doing:\n",
    "\n",
    "`7.17 + 453 * 0.01 + 11 * 0.04 + 86 * 0.002`"
   ],
   "metadata": {
    "collapsed": false
   },
   "id": "b970a29c9199ab2b"
  },
  {
   "cell_type": "code",
   "execution_count": 35,
   "outputs": [
    {
     "data": {
      "text/plain": "12.312"
     },
     "execution_count": 35,
     "metadata": {},
     "output_type": "execute_result"
    }
   ],
   "source": [
    "linear_regression(xi)"
   ],
   "metadata": {
    "collapsed": false,
    "ExecuteTime": {
     "end_time": "2023-09-20T20:09:36.005770Z",
     "start_time": "2023-09-20T20:09:35.234931Z"
    }
   },
   "id": "1ea5663b8bac8d0b"
  },
  {
   "cell_type": "code",
   "execution_count": 36,
   "outputs": [
    {
     "data": {
      "text/plain": "12.312"
     },
     "execution_count": 36,
     "metadata": {},
     "output_type": "execute_result"
    }
   ],
   "source": [
    "7.17 + 453 * 0.01 + 11 * 0.04 + 86 * 0.002"
   ],
   "metadata": {
    "collapsed": false,
    "ExecuteTime": {
     "end_time": "2023-09-20T20:09:36.005913Z",
     "start_time": "2023-09-20T20:09:35.236927Z"
    }
   },
   "id": "18f91e722bab242b"
  },
  {
   "cell_type": "code",
   "execution_count": 37,
   "outputs": [
    {
     "data": {
      "text/html": "<img src=\"./weights_and_biases.png\" height=\"500\"/>",
      "text/plain": "<IPython.core.display.Image object>"
     },
     "execution_count": 37,
     "metadata": {},
     "output_type": "execute_result"
    }
   ],
   "source": [
    "from IPython.display import Image\n",
    "Image(url=\"./weights_and_biases.png\", height=500)"
   ],
   "metadata": {
    "collapsed": false,
    "ExecuteTime": {
     "end_time": "2023-09-20T20:09:36.006378Z",
     "start_time": "2023-09-20T20:09:35.239072Z"
    }
   },
   "id": "2a7f0e82e6d94f3f"
  },
  {
   "cell_type": "code",
   "execution_count": 38,
   "outputs": [
    {
     "data": {
      "text/plain": "222348.2221101062"
     },
     "execution_count": 38,
     "metadata": {},
     "output_type": "execute_result"
    }
   ],
   "source": [
    "np.exp(linear_regression(xi))"
   ],
   "metadata": {
    "collapsed": false,
    "ExecuteTime": {
     "end_time": "2023-09-20T20:09:36.006542Z",
     "start_time": "2023-09-20T20:09:35.241531Z"
    }
   },
   "id": "5cfc99665a38117"
  },
  {
   "cell_type": "code",
   "execution_count": 39,
   "outputs": [
    {
     "data": {
      "text/plain": "222347.2221101062"
     },
     "execution_count": 39,
     "metadata": {},
     "output_type": "execute_result"
    }
   ],
   "source": [
    "# also a shortcut for m1\n",
    "np.expm1(linear_regression(xi))"
   ],
   "metadata": {
    "collapsed": false,
    "ExecuteTime": {
     "end_time": "2023-09-20T20:09:36.007261Z",
     "start_time": "2023-09-20T20:09:35.248251Z"
    }
   },
   "id": "ec69fac36b410b69"
  },
  {
   "cell_type": "markdown",
   "source": [
    "# Linear Regression"
   ],
   "metadata": {
    "collapsed": false
   },
   "id": "7f0c0d759ed3b4b1"
  },
  {
   "cell_type": "code",
   "execution_count": 40,
   "outputs": [],
   "source": [
    "def dot(xi, w):\n",
    "    n = len(xi)\n",
    "    res = 0.0\n",
    "    \n",
    "    for j in range(n):\n",
    "        res = res + xi[j] * w[j]\n",
    "        \n",
    "    return res"
   ],
   "metadata": {
    "collapsed": false,
    "ExecuteTime": {
     "end_time": "2023-09-20T20:09:36.007335Z",
     "start_time": "2023-09-20T20:09:35.250609Z"
    }
   },
   "id": "329a39cd141b9b3b"
  },
  {
   "cell_type": "code",
   "execution_count": 41,
   "outputs": [],
   "source": [
    "def linear_regression(xi):\n",
    "    return w0 + dot(xi, w)    "
   ],
   "metadata": {
    "collapsed": false,
    "ExecuteTime": {
     "end_time": "2023-09-20T20:09:36.007403Z",
     "start_time": "2023-09-20T20:09:35.252739Z"
    }
   },
   "id": "da4c63bd29eadcd8"
  },
  {
   "cell_type": "code",
   "execution_count": 42,
   "outputs": [
    {
     "data": {
      "text/plain": "[7.17, 0.01, 0.04, 0.002]"
     },
     "execution_count": 42,
     "metadata": {},
     "output_type": "execute_result"
    }
   ],
   "source": [
    "# this will prepend `[w0]` to the beginning of the list at the `0` index\n",
    "w_new = [w0] + w\n",
    "w_new"
   ],
   "metadata": {
    "collapsed": false,
    "ExecuteTime": {
     "end_time": "2023-09-20T20:09:36.007546Z",
     "start_time": "2023-09-20T20:09:35.254772Z"
    }
   },
   "id": "d8fa74baccd3c56a"
  },
  {
   "cell_type": "code",
   "execution_count": 43,
   "outputs": [],
   "source": [
    "w_new\n",
    "\n",
    "def linear_regression(xi):\n",
    "    xi = [1] + xi\n",
    "    return dot(xi, w_new)    "
   ],
   "metadata": {
    "collapsed": false,
    "ExecuteTime": {
     "end_time": "2023-09-20T20:09:36.007656Z",
     "start_time": "2023-09-20T20:09:35.257155Z"
    }
   },
   "id": "55bb1933217a2771"
  },
  {
   "cell_type": "code",
   "execution_count": 44,
   "outputs": [
    {
     "data": {
      "text/plain": "12.312"
     },
     "execution_count": 44,
     "metadata": {},
     "output_type": "execute_result"
    }
   ],
   "source": [
    "linear_regression(xi)"
   ],
   "metadata": {
    "collapsed": false,
    "ExecuteTime": {
     "end_time": "2023-09-20T20:09:36.008635Z",
     "start_time": "2023-09-20T20:09:35.258812Z"
    }
   },
   "id": "e2c6c3bbf1481105"
  },
  {
   "cell_type": "markdown",
   "source": [
    "# Training a linear regression model\n",
    " \n",
    "How do we come up with weights?\n",
    "\n",
    "\n",
    "------------------\n",
    "\n",
    "X.T * X(w) = X.T(y)\n",
    "\n",
    "gram matrix"
   ],
   "metadata": {
    "collapsed": false
   },
   "id": "e4157d62b45be84"
  },
  {
   "cell_type": "code",
   "execution_count": 45,
   "outputs": [],
   "source": [
    "def train_linear_regression(X, y):\n",
    "    ones = np.ones(X.shape[0])\n",
    "    X = np.column_stack([ones, X])\n",
    "    \n",
    "    XTX = X.T.dot(X)\n",
    "    XTX_inv = np.linalg.inv(XTX)\n",
    "    \n",
    "    w_full = XTX_inv.dot(X.T).dot(y)\n",
    "    return w_full[0], w_full[1:]"
   ],
   "metadata": {
    "collapsed": false,
    "ExecuteTime": {
     "end_time": "2023-09-20T20:09:36.008756Z",
     "start_time": "2023-09-20T20:09:35.261469Z"
    }
   },
   "id": "119041ddd96768bd"
  },
  {
   "cell_type": "code",
   "execution_count": 46,
   "outputs": [],
   "source": [
    "X = np.array(\n",
    "    [\n",
    "        [148, 24, 1385],\n",
    "        [132, 25, 2031],\n",
    "        [453, 11, 86],\n",
    "        [158, 34, 185],\n",
    "        [112, 15, 231],\n",
    "        [333, 11, 86],\n",
    "        [128, 84, 185],\n",
    "        [922, 35, 31],\n",
    "        [113, 12, 6],\n",
    "    ]\n",
    ")"
   ],
   "metadata": {
    "collapsed": false,
    "ExecuteTime": {
     "end_time": "2023-09-20T20:09:36.008822Z",
     "start_time": "2023-09-20T20:09:35.264156Z"
    }
   },
   "id": "1efaf78b435620d4"
  },
  {
   "cell_type": "code",
   "execution_count": 47,
   "outputs": [
    {
     "data": {
      "text/plain": "array([[ 148,   24, 1385],\n       [ 132,   25, 2031],\n       [ 453,   11,   86],\n       [ 158,   34,  185],\n       [ 112,   15,  231],\n       [ 333,   11,   86],\n       [ 128,   84,  185],\n       [ 922,   35,   31],\n       [ 113,   12,    6]])"
     },
     "execution_count": 47,
     "metadata": {},
     "output_type": "execute_result"
    }
   ],
   "source": [
    "X"
   ],
   "metadata": {
    "collapsed": false,
    "ExecuteTime": {
     "end_time": "2023-09-20T20:09:36.009382Z",
     "start_time": "2023-09-20T20:09:35.265878Z"
    }
   },
   "id": "9962b558e041a592"
  },
  {
   "cell_type": "code",
   "execution_count": 48,
   "outputs": [
    {
     "data": {
      "text/plain": "array([1., 1., 1., 1., 1., 1., 1., 1., 1.])"
     },
     "execution_count": 48,
     "metadata": {},
     "output_type": "execute_result"
    }
   ],
   "source": [
    "# bias term helps us with baseline as well\n",
    "# if we dont know anythign about the car one could say the minimum might be 500\n",
    "\n",
    "ones = np.ones(X.shape[0])\n",
    "ones"
   ],
   "metadata": {
    "collapsed": false,
    "ExecuteTime": {
     "end_time": "2023-09-20T20:09:36.009538Z",
     "start_time": "2023-09-20T20:09:35.268237Z"
    }
   },
   "id": "1efa1e4b7216792c"
  },
  {
   "cell_type": "code",
   "execution_count": 49,
   "outputs": [
    {
     "data": {
      "text/plain": "array([[1.000e+00, 1.480e+02, 2.400e+01, 1.385e+03],\n       [1.000e+00, 1.320e+02, 2.500e+01, 2.031e+03],\n       [1.000e+00, 4.530e+02, 1.100e+01, 8.600e+01],\n       [1.000e+00, 1.580e+02, 3.400e+01, 1.850e+02],\n       [1.000e+00, 1.120e+02, 1.500e+01, 2.310e+02],\n       [1.000e+00, 3.330e+02, 1.100e+01, 8.600e+01],\n       [1.000e+00, 1.280e+02, 8.400e+01, 1.850e+02],\n       [1.000e+00, 9.220e+02, 3.500e+01, 3.100e+01],\n       [1.000e+00, 1.130e+02, 1.200e+01, 6.000e+00]])"
     },
     "execution_count": 49,
     "metadata": {},
     "output_type": "execute_result"
    }
   ],
   "source": [
    "X = np.column_stack([ones, X])\n",
    "X"
   ],
   "metadata": {
    "collapsed": false,
    "ExecuteTime": {
     "end_time": "2023-09-20T20:09:36.009724Z",
     "start_time": "2023-09-20T20:09:35.271021Z"
    }
   },
   "id": "973a494535de4c0"
  },
  {
   "cell_type": "code",
   "execution_count": 50,
   "outputs": [],
   "source": [
    " # gram matrix\n",
    "XTX = X.T.dot(X)\n",
    "\n",
    "y = [12200, 23300, 154440, 20110, 32110, 12212, 20450, 32201, 22102]"
   ],
   "metadata": {
    "collapsed": false,
    "ExecuteTime": {
     "end_time": "2023-09-20T20:09:36.010915Z",
     "start_time": "2023-09-20T20:09:35.272834Z"
    }
   },
   "id": "710ab94d172944d8"
  },
  {
   "cell_type": "code",
   "execution_count": 51,
   "outputs": [
    {
     "data": {
      "text/plain": "(-1.3413983702687629e+21,\n array([ 1.34139837e+21,  5.40001560e+02, -2.34700870e+03,  4.86367534e+01]))"
     },
     "execution_count": 51,
     "metadata": {},
     "output_type": "execute_result"
    }
   ],
   "source": [
    "train_linear_regression(X, y)"
   ],
   "metadata": {
    "collapsed": false,
    "ExecuteTime": {
     "end_time": "2023-09-20T20:09:36.011100Z",
     "start_time": "2023-09-20T20:09:35.275639Z"
    }
   },
   "id": "f74dd790af4923d8"
  },
  {
   "cell_type": "code",
   "execution_count": 52,
   "outputs": [],
   "source": [
    "XTX_inv = np.linalg.inv(XTX)"
   ],
   "metadata": {
    "collapsed": false,
    "ExecuteTime": {
     "end_time": "2023-09-20T20:09:36.015575Z",
     "start_time": "2023-09-20T20:09:35.279524Z"
    }
   },
   "id": "1dde4b0d246e3582"
  },
  {
   "cell_type": "code",
   "execution_count": 53,
   "outputs": [
    {
     "data": {
      "text/plain": "array([[ 1.00000000e+00, -1.64642029e-19, -6.09863722e-20,\n        -4.19069551e-19],\n       [-3.15940579e-13,  1.00000000e+00,  4.26333366e-15,\n        -1.81709108e-16],\n       [ 3.17327002e-15,  8.83767707e-18,  1.00000000e+00,\n        -1.45415440e-17],\n       [ 6.23658568e-14,  4.61318389e-16, -3.40663099e-16,\n         1.00000000e+00]])"
     },
     "execution_count": 53,
     "metadata": {},
     "output_type": "execute_result"
    }
   ],
   "source": [
    "XTX.dot(XTX_inv)"
   ],
   "metadata": {
    "collapsed": false,
    "ExecuteTime": {
     "end_time": "2023-09-20T20:09:36.015784Z",
     "start_time": "2023-09-20T20:09:35.282425Z"
    }
   },
   "id": "657b1ef6b6cb217f"
  },
  {
   "cell_type": "code",
   "execution_count": 54,
   "outputs": [],
   "source": [
    "w_full = XTX_inv.dot(X.T).dot(y)"
   ],
   "metadata": {
    "collapsed": false,
    "ExecuteTime": {
     "end_time": "2023-09-20T20:09:36.015853Z",
     "start_time": "2023-09-20T20:09:35.286198Z"
    }
   },
   "id": "4839c01e8065c3e9"
  },
  {
   "cell_type": "code",
   "execution_count": 55,
   "outputs": [
    {
     "data": {
      "text/plain": "(44622.60289265961, array([  38.74439706, -504.45513394,  -10.09996111]))"
     },
     "execution_count": 55,
     "metadata": {},
     "output_type": "execute_result"
    }
   ],
   "source": [
    "w0 = w_full[0]\n",
    "w = w_full[1:]\n",
    "w0, w"
   ],
   "metadata": {
    "collapsed": false,
    "ExecuteTime": {
     "end_time": "2023-09-20T20:09:36.015991Z",
     "start_time": "2023-09-20T20:09:35.288969Z"
    }
   },
   "id": "c3b8b6c00b1f2a7a"
  },
  {
   "cell_type": "code",
   "execution_count": 56,
   "outputs": [
    {
     "data": {
      "text/plain": "make                  object\nmodel                 object\nyear                   int64\nengine_fuel_type      object\nengine_hp            float64\nengine_cylinders     float64\ntransmission_type     object\ndriven_wheels         object\nnumber_of_doors      float64\nmarket_category       object\nvehicle_size          object\nvehicle_style         object\nhighway_mpg            int64\ncity_mpg               int64\npopularity             int64\ndtype: object"
     },
     "execution_count": 56,
     "metadata": {},
     "output_type": "execute_result"
    }
   ],
   "source": [
    "df_train.dtypes "
   ],
   "metadata": {
    "collapsed": false,
    "ExecuteTime": {
     "end_time": "2023-09-20T20:09:36.021047Z",
     "start_time": "2023-09-20T20:09:35.292915Z"
    }
   },
   "id": "679f31ead9bc23be"
  },
  {
   "cell_type": "code",
   "execution_count": 57,
   "outputs": [],
   "source": [
    "base = ['engine_hp', 'engine_cylinders', 'highway_mpg', 'city_mpg', 'popularity']\n",
    "\n",
    "X_train = df_train[base].fillna(0).values\n"
   ],
   "metadata": {
    "collapsed": false,
    "ExecuteTime": {
     "end_time": "2023-09-20T20:09:36.021147Z",
     "start_time": "2023-09-20T20:09:35.297143Z"
    }
   },
   "id": "9216633be9443bc5"
  },
  {
   "cell_type": "code",
   "execution_count": 58,
   "outputs": [],
   "source": [
    "w0, w = train_linear_regression(X_train, y_train)"
   ],
   "metadata": {
    "collapsed": false,
    "ExecuteTime": {
     "end_time": "2023-09-20T20:09:36.021225Z",
     "start_time": "2023-09-20T20:09:35.299997Z"
    }
   },
   "id": "5edf885dd7aed24e"
  },
  {
   "cell_type": "code",
   "execution_count": 59,
   "outputs": [],
   "source": [
    "y_pred = w0 + X_train.dot(w)"
   ],
   "metadata": {
    "collapsed": false,
    "ExecuteTime": {
     "end_time": "2023-09-20T20:09:36.021329Z",
     "start_time": "2023-09-20T20:09:35.323001Z"
    }
   },
   "id": "1e72f06b590a07a2"
  },
  {
   "cell_type": "code",
   "execution_count": 60,
   "outputs": [
    {
     "data": {
      "text/plain": "<Axes: ylabel='Count'>"
     },
     "execution_count": 60,
     "metadata": {},
     "output_type": "execute_result"
    },
    {
     "data": {
      "text/plain": "<Figure size 640x480 with 1 Axes>",
      "image/png": "[encoded data removed]"
     },
     "metadata": {},
     "output_type": "display_data"
    }
   ],
   "source": [
    "sns.histplot(y_pred, color=\"red\", alpha=0.5, bins=50)\n",
    "sns.histplot(y_train, color=\"blue\", alpha=0.5, bins=50)"
   ],
   "metadata": {
    "collapsed": false,
    "ExecuteTime": {
     "end_time": "2023-09-20T20:09:36.041716Z",
     "start_time": "2023-09-20T20:09:35.332251Z"
    }
   },
   "id": "630c4b656d59b425"
  },
  {
   "cell_type": "markdown",
   "source": [
    "# RMSE Root Mean Squared Error\n",
    "\n",
    "g(xi) <-> prediction for xi\n",
    "yi <-> actual value"
   ],
   "metadata": {
    "collapsed": false
   },
   "id": "e9b7bf901b8cd7b7"
  },
  {
   "cell_type": "code",
   "execution_count": 61,
   "outputs": [
    {
     "data": {
      "text/html": "<img src=\"./RMSE.png\" height=\"500\"/>",
      "text/plain": "<IPython.core.display.Image object>"
     },
     "execution_count": 61,
     "metadata": {},
     "output_type": "execute_result"
    }
   ],
   "source": [
    "Image(url=\"./RMSE.png\", height=500)"
   ],
   "metadata": {
    "collapsed": false,
    "ExecuteTime": {
     "end_time": "2023-09-20T20:09:36.042163Z",
     "start_time": "2023-09-20T20:09:35.540003Z"
    }
   },
   "id": "f2cbb663cbf6c45d"
  },
  {
   "cell_type": "code",
   "execution_count": 65,
   "outputs": [],
   "source": [
    "def rmse(y, y_pred):\n",
    "    se = (y - y_pred) ** 2\n",
    "    mse = se.mean()\n",
    "    return np.sqrt(mse)"
   ],
   "metadata": {
    "collapsed": false,
    "ExecuteTime": {
     "end_time": "2023-09-20T20:14:45.328350Z",
     "start_time": "2023-09-20T20:14:45.321385Z"
    }
   },
   "id": "c0e4684de5237db3"
  },
  {
   "cell_type": "code",
   "execution_count": 66,
   "outputs": [
    {
     "data": {
      "text/plain": "0.7554192603920132"
     },
     "execution_count": 66,
     "metadata": {},
     "output_type": "execute_result"
    }
   ],
   "source": [
    "rmse(y_train, y_pred)"
   ],
   "metadata": {
    "collapsed": false,
    "ExecuteTime": {
     "end_time": "2023-09-20T20:14:45.903383Z",
     "start_time": "2023-09-20T20:14:45.895940Z"
    }
   },
   "id": "2db6486531157f6f"
  },
  {
   "cell_type": "code",
   "execution_count": 69,
   "outputs": [],
   "source": [
    "def prepare_X(df):\n",
    "    df_num = df[base]\n",
    "    df_num = df_num.fillna(0)\n",
    "    X = df_num.values\n",
    "    return X"
   ],
   "metadata": {
    "collapsed": false,
    "ExecuteTime": {
     "end_time": "2023-09-20T20:21:46.696056Z",
     "start_time": "2023-09-20T20:21:46.686854Z"
    }
   },
   "id": "7bf20abacd76a292"
  },
  {
   "cell_type": "code",
   "execution_count": 73,
   "outputs": [
    {
     "data": {
      "text/plain": "0.7616530991301608"
     },
     "execution_count": 73,
     "metadata": {},
     "output_type": "execute_result"
    }
   ],
   "source": [
    "X_train = prepare_X(df_train)\n",
    "w0, w = train_linear_regression(X_train, y_train)\n",
    "\n",
    "X_val = prepare_X(df_val)\n",
    "y_pred = w0 + X_val.dot(w)\n",
    "\n",
    "rmse(y_val, y_pred)"
   ],
   "metadata": {
    "collapsed": false,
    "ExecuteTime": {
     "end_time": "2023-09-20T20:24:00.851251Z",
     "start_time": "2023-09-20T20:24:00.814295Z"
    }
   },
   "id": "324221ecdcd18f5e"
  },
  {
   "cell_type": "code",
   "execution_count": 80,
   "outputs": [
    {
     "data": {
      "text/plain": "0        9\n1        5\n2        1\n3       26\n4        0\n        ..\n7145     2\n7146     2\n7147     2\n7148     3\n7149     0\nName: year, Length: 7150, dtype: int64"
     },
     "execution_count": 80,
     "metadata": {},
     "output_type": "execute_result"
    }
   ],
   "source": [
    "2017 - df_train.year"
   ],
   "metadata": {
    "collapsed": false,
    "ExecuteTime": {
     "end_time": "2023-09-20T20:26:11.115850Z",
     "start_time": "2023-09-20T20:26:11.101437Z"
    }
   },
   "id": "5e8d476cd323aa72"
  },
  {
   "cell_type": "code",
   "execution_count": 92,
   "outputs": [],
   "source": [
    "def prepare_X(df):\n",
    "    df = df.copy()\n",
    "    df['age'] = 2017 - df.year\n",
    "    features = base + ['age']\n",
    "    \n",
    "    df_num = df[features]\n",
    "    df_num = df_num.fillna(0)\n",
    "    X = df_num.values\n",
    "    return X"
   ],
   "metadata": {
    "collapsed": false,
    "ExecuteTime": {
     "end_time": "2023-09-20T20:29:10.470057Z",
     "start_time": "2023-09-20T20:29:10.455961Z"
    }
   },
   "id": "271eeabdde750520"
  },
  {
   "cell_type": "code",
   "execution_count": 93,
   "outputs": [],
   "source": [
    "X_train = prepare_X(df_train)"
   ],
   "metadata": {
    "collapsed": false,
    "ExecuteTime": {
     "end_time": "2023-09-20T20:29:10.605015Z",
     "start_time": "2023-09-20T20:29:10.598240Z"
    }
   },
   "id": "b2badff57e3d7f37"
  },
  {
   "cell_type": "code",
   "execution_count": 94,
   "outputs": [
    {
     "data": {
      "text/plain": "make                  object\nmodel                 object\nyear                   int64\nengine_fuel_type      object\nengine_hp            float64\nengine_cylinders     float64\ntransmission_type     object\ndriven_wheels         object\nnumber_of_doors      float64\nmarket_category       object\nvehicle_size          object\nvehicle_style         object\nhighway_mpg            int64\ncity_mpg               int64\npopularity             int64\ndtype: object"
     },
     "execution_count": 94,
     "metadata": {},
     "output_type": "execute_result"
    }
   ],
   "source": [
    "df_train.dtypes"
   ],
   "metadata": {
    "collapsed": false,
    "ExecuteTime": {
     "end_time": "2023-09-20T20:29:17.268211Z",
     "start_time": "2023-09-20T20:29:17.255016Z"
    }
   },
   "id": "f49eaa3be3acbc79"
  },
  {
   "cell_type": "code",
   "execution_count": 96,
   "outputs": [
    {
     "data": {
      "text/plain": "array([[1.480e+02, 4.000e+00, 3.300e+01, 2.400e+01, 1.385e+03, 9.000e+00],\n       [1.320e+02, 4.000e+00, 3.200e+01, 2.500e+01, 2.031e+03, 5.000e+00],\n       [1.480e+02, 4.000e+00, 3.700e+01, 2.800e+01, 6.400e+02, 1.000e+00],\n       ...,\n       [2.850e+02, 6.000e+00, 2.200e+01, 1.700e+01, 5.490e+02, 2.000e+00],\n       [5.630e+02, 1.200e+01, 2.100e+01, 1.300e+01, 8.600e+01, 3.000e+00],\n       [2.000e+02, 4.000e+00, 3.100e+01, 2.200e+01, 8.730e+02, 0.000e+00]])"
     },
     "execution_count": 96,
     "metadata": {},
     "output_type": "execute_result"
    }
   ],
   "source": [
    "X_train"
   ],
   "metadata": {
    "collapsed": false,
    "ExecuteTime": {
     "end_time": "2023-09-20T20:29:41.107470Z",
     "start_time": "2023-09-20T20:29:41.091597Z"
    }
   },
   "id": "b37173c84336751f"
  },
  {
   "cell_type": "code",
   "execution_count": 97,
   "outputs": [
    {
     "data": {
      "text/plain": "0.5172055461058325"
     },
     "execution_count": 97,
     "metadata": {},
     "output_type": "execute_result"
    }
   ],
   "source": [
    "X_train = prepare_X(df_train)\n",
    "w0, w = train_linear_regression(X_train, y_train)\n",
    "\n",
    "X_val = prepare_X(df_val)\n",
    "y_pred = w0 + X_val.dot(w)\n",
    "\n",
    "rmse(y_val, y_pred)"
   ],
   "metadata": {
    "collapsed": false,
    "ExecuteTime": {
     "end_time": "2023-09-20T20:30:19.049927Z",
     "start_time": "2023-09-20T20:30:18.977469Z"
    }
   },
   "id": "55caea3653e76cde"
  },
  {
   "cell_type": "code",
   "execution_count": 99,
   "outputs": [
    {
     "data": {
      "text/plain": "<Axes: ylabel='Count'>"
     },
     "execution_count": 99,
     "metadata": {},
     "output_type": "execute_result"
    },
    {
     "data": {
      "text/plain": "<Figure size 640x480 with 1 Axes>",
      "image/png": "[encoded data removed]"
     },
     "metadata": {},
     "output_type": "display_data"
    }
   ],
   "source": [
    "sns.histplot(y_pred, color=\"red\", alpha=0.5, bins=50)\n",
    "sns.histplot(y_val, color=\"blue\", alpha=0.5, bins=50)"
   ],
   "metadata": {
    "collapsed": false,
    "ExecuteTime": {
     "end_time": "2023-09-20T20:30:52.021290Z",
     "start_time": "2023-09-20T20:30:51.910896Z"
    }
   },
   "id": "39046c52da362234"
  },
  {
   "cell_type": "markdown",
   "source": [
    "# Categorical Variables\n",
    "\n",
    "non-numbers (typically strings)\n",
    " "
   ],
   "metadata": {
    "collapsed": false
   },
   "id": "e143f0f4e49ce93f"
  },
  {
   "cell_type": "code",
   "execution_count": 109,
   "outputs": [],
   "source": [
    "for v in [2, 3, 4]:\n",
    "    df_train['num_doors_%s' % v] = (df_train.number_of_doors == v).astype(int)"
   ],
   "metadata": {
    "collapsed": false,
    "ExecuteTime": {
     "end_time": "2023-09-20T20:39:15.617036Z",
     "start_time": "2023-09-20T20:39:15.600306Z"
    }
   },
   "id": "c23a389c4ee0a035"
  },
  {
   "cell_type": "code",
   "execution_count": 111,
   "outputs": [],
   "source": [
    "for v in [2, 3, 4]:\n",
    "    del df_train['num_doors_%s' % v]"
   ],
   "metadata": {
    "collapsed": false,
    "ExecuteTime": {
     "end_time": "2023-09-20T20:39:53.886634Z",
     "start_time": "2023-09-20T20:39:53.876934Z"
    }
   },
   "id": "e57b2167086363d6"
  },
  {
   "cell_type": "code",
   "execution_count": 112,
   "outputs": [
    {
     "data": {
      "text/plain": "             make        model  year                engine_fuel_type  \\\n0       chevrolet       cobalt  2008                regular_unleaded   \n1          toyota       matrix  2012                regular_unleaded   \n2          subaru      impreza  2016                regular_unleaded   \n3      volkswagen      vanagon  1991                regular_unleaded   \n4            ford        f-150  2017        flex-fuel_(unleaded/e85)   \n...           ...          ...   ...                             ...   \n7145          bmw     4_series  2015     premium_unleaded_(required)   \n7146   volkswagen       beetle  2015  premium_unleaded_(recommended)   \n7147          gmc  sierra_1500  2015        flex-fuel_(unleaded/e85)   \n7148  rolls-royce        ghost  2014     premium_unleaded_(required)   \n7149   volkswagen           cc  2017  premium_unleaded_(recommended)   \n\n      engine_hp  engine_cylinders transmission_type      driven_wheels  \\\n0         148.0               4.0            manual  front_wheel_drive   \n1         132.0               4.0         automatic  front_wheel_drive   \n2         148.0               4.0         automatic    all_wheel_drive   \n3          90.0               4.0            manual   rear_wheel_drive   \n4         385.0               8.0         automatic   four_wheel_drive   \n...         ...               ...               ...                ...   \n7145      300.0               6.0         automatic   rear_wheel_drive   \n7146      210.0               4.0  automated_manual  front_wheel_drive   \n7147      285.0               6.0         automatic   four_wheel_drive   \n7148      563.0              12.0         automatic   rear_wheel_drive   \n7149      200.0               4.0  automated_manual  front_wheel_drive   \n\n      number_of_doors            market_category vehicle_size  \\\n0                 2.0                        NaN      compact   \n1                 4.0                  hatchback      compact   \n2                 4.0                  hatchback      compact   \n3                 3.0                        NaN        large   \n4                 4.0                  flex_fuel        large   \n...               ...                        ...          ...   \n7145              2.0         luxury,performance      midsize   \n7146              2.0      hatchback,performance      compact   \n7147              4.0                  flex_fuel        large   \n7148              4.0  exotic,luxury,performance        large   \n7149              4.0                performance      midsize   \n\n            vehicle_style  highway_mpg  city_mpg  popularity  \n0                   coupe           33        24        1385  \n1           4dr_hatchback           32        25        2031  \n2           4dr_hatchback           37        28         640  \n3       passenger_minivan           18        16         873  \n4         crew_cab_pickup           21        15        5657  \n...                   ...          ...       ...         ...  \n7145          convertible           31        20        3916  \n7146        2dr_hatchback           30        24         873  \n7147  extended_cab_pickup           22        17         549  \n7148                sedan           21        13          86  \n7149                sedan           31        22         873  \n\n[7150 rows x 15 columns]",
      "text/html": "<div>\n<style scoped>\n    .dataframe tbody tr th:only-of-type {\n        vertical-align: middle;\n    }\n\n    .dataframe tbody tr th {\n        vertical-align: top;\n    }\n\n    .dataframe thead th {\n        text-align: right;\n    }\n</style>\n<table border=\"1\" class=\"dataframe\">\n  <thead>\n    <tr style=\"text-align: right;\">\n      <th></th>\n      <th>make</th>\n      <th>model</th>\n      <th>year</th>\n      <th>engine_fuel_type</th>\n      <th>engine_hp</th>\n      <th>engine_cylinders</th>\n      <th>transmission_type</th>\n      <th>driven_wheels</th>\n      <th>number_of_doors</th>\n      <th>market_category</th>\n      <th>vehicle_size</th>\n      <th>vehicle_style</th>\n      <th>highway_mpg</th>\n      <th>city_mpg</th>\n      <th>popularity</th>\n    </tr>\n  </thead>\n  <tbody>\n    <tr>\n      <th>0</th>\n      <td>chevrolet</td>\n      <td>cobalt</td>\n      <td>2008</td>\n      <td>regular_unleaded</td>\n      <td>148.0</td>\n      <td>4.0</td>\n      <td>manual</td>\n      <td>front_wheel_drive</td>\n      <td>2.0</td>\n      <td>NaN</td>\n      <td>compact</td>\n      <td>coupe</td>\n      <td>33</td>\n      <td>24</td>\n      <td>1385</td>\n    </tr>\n    <tr>\n      <th>1</th>\n      <td>toyota</td>\n      <td>matrix</td>\n      <td>2012</td>\n      <td>regular_unleaded</td>\n      <td>132.0</td>\n      <td>4.0</td>\n      <td>automatic</td>\n      <td>front_wheel_drive</td>\n      <td>4.0</td>\n      <td>hatchback</td>\n      <td>compact</td>\n      <td>4dr_hatchback</td>\n      <td>32</td>\n      <td>25</td>\n      <td>2031</td>\n    </tr>\n    <tr>\n      <th>2</th>\n      <td>subaru</td>\n      <td>impreza</td>\n      <td>2016</td>\n      <td>regular_unleaded</td>\n      <td>148.0</td>\n      <td>4.0</td>\n      <td>automatic</td>\n      <td>all_wheel_drive</td>\n      <td>4.0</td>\n      <td>hatchback</td>\n      <td>compact</td>\n      <td>4dr_hatchback</td>\n      <td>37</td>\n      <td>28</td>\n      <td>640</td>\n    </tr>\n    <tr>\n      <th>3</th>\n      <td>volkswagen</td>\n      <td>vanagon</td>\n      <td>1991</td>\n      <td>regular_unleaded</td>\n      <td>90.0</td>\n      <td>4.0</td>\n      <td>manual</td>\n      <td>rear_wheel_drive</td>\n      <td>3.0</td>\n      <td>NaN</td>\n      <td>large</td>\n      <td>passenger_minivan</td>\n      <td>18</td>\n      <td>16</td>\n      <td>873</td>\n    </tr>\n    <tr>\n      <th>4</th>\n      <td>ford</td>\n      <td>f-150</td>\n      <td>2017</td>\n      <td>flex-fuel_(unleaded/e85)</td>\n      <td>385.0</td>\n      <td>8.0</td>\n      <td>automatic</td>\n      <td>four_wheel_drive</td>\n      <td>4.0</td>\n      <td>flex_fuel</td>\n      <td>large</td>\n      <td>crew_cab_pickup</td>\n      <td>21</td>\n      <td>15</td>\n      <td>5657</td>\n    </tr>\n    <tr>\n      <th>...</th>\n      <td>...</td>\n      <td>...</td>\n      <td>...</td>\n      <td>...</td>\n      <td>...</td>\n      <td>...</td>\n      <td>...</td>\n      <td>...</td>\n      <td>...</td>\n      <td>...</td>\n      <td>...</td>\n      <td>...</td>\n      <td>...</td>\n      <td>...</td>\n      <td>...</td>\n    </tr>\n    <tr>\n      <th>7145</th>\n      <td>bmw</td>\n      <td>4_series</td>\n      <td>2015</td>\n      <td>premium_unleaded_(required)</td>\n      <td>300.0</td>\n      <td>6.0</td>\n      <td>automatic</td>\n      <td>rear_wheel_drive</td>\n      <td>2.0</td>\n      <td>luxury,performance</td>\n      <td>midsize</td>\n      <td>convertible</td>\n      <td>31</td>\n      <td>20</td>\n      <td>3916</td>\n    </tr>\n    <tr>\n      <th>7146</th>\n      <td>volkswagen</td>\n      <td>beetle</td>\n      <td>2015</td>\n      <td>premium_unleaded_(recommended)</td>\n      <td>210.0</td>\n      <td>4.0</td>\n      <td>automated_manual</td>\n      <td>front_wheel_drive</td>\n      <td>2.0</td>\n      <td>hatchback,performance</td>\n      <td>compact</td>\n      <td>2dr_hatchback</td>\n      <td>30</td>\n      <td>24</td>\n      <td>873</td>\n    </tr>\n    <tr>\n      <th>7147</th>\n      <td>gmc</td>\n      <td>sierra_1500</td>\n      <td>2015</td>\n      <td>flex-fuel_(unleaded/e85)</td>\n      <td>285.0</td>\n      <td>6.0</td>\n      <td>automatic</td>\n      <td>four_wheel_drive</td>\n      <td>4.0</td>\n      <td>flex_fuel</td>\n      <td>large</td>\n      <td>extended_cab_pickup</td>\n      <td>22</td>\n      <td>17</td>\n      <td>549</td>\n    </tr>\n    <tr>\n      <th>7148</th>\n      <td>rolls-royce</td>\n      <td>ghost</td>\n      <td>2014</td>\n      <td>premium_unleaded_(required)</td>\n      <td>563.0</td>\n      <td>12.0</td>\n      <td>automatic</td>\n      <td>rear_wheel_drive</td>\n      <td>4.0</td>\n      <td>exotic,luxury,performance</td>\n      <td>large</td>\n      <td>sedan</td>\n      <td>21</td>\n      <td>13</td>\n      <td>86</td>\n    </tr>\n    <tr>\n      <th>7149</th>\n      <td>volkswagen</td>\n      <td>cc</td>\n      <td>2017</td>\n      <td>premium_unleaded_(recommended)</td>\n      <td>200.0</td>\n      <td>4.0</td>\n      <td>automated_manual</td>\n      <td>front_wheel_drive</td>\n      <td>4.0</td>\n      <td>performance</td>\n      <td>midsize</td>\n      <td>sedan</td>\n      <td>31</td>\n      <td>22</td>\n      <td>873</td>\n    </tr>\n  </tbody>\n</table>\n<p>7150 rows × 15 columns</p>\n</div>"
     },
     "execution_count": 112,
     "metadata": {},
     "output_type": "execute_result"
    }
   ],
   "source": [
    "df_train"
   ],
   "metadata": {
    "collapsed": false,
    "ExecuteTime": {
     "end_time": "2023-09-20T20:39:57.756093Z",
     "start_time": "2023-09-20T20:39:57.728234Z"
    }
   },
   "id": "d0875b9967a692e3"
  },
  {
   "cell_type": "code",
   "execution_count": 113,
   "outputs": [],
   "source": [
    "def prepare_X(df):\n",
    "    df = df.copy()\n",
    "    features = base.copy()\n",
    "    \n",
    "    df['age'] = 2017 - df.year\n",
    "    features.append('age')\n",
    "    \n",
    "    for v in [2, 3, 4]:\n",
    "        feat_name = 'num_doors_%s' % v\n",
    "        df[feat_name] = (df.number_of_doors == v).astype(int)\n",
    "        features. append(feat_name)\n",
    "    \n",
    "    df_num = df[features]\n",
    "    df_num = df_num.fillna(0)\n",
    "    X = df_num.values\n",
    "    return X"
   ],
   "metadata": {
    "collapsed": false,
    "ExecuteTime": {
     "end_time": "2023-09-20T20:43:48.549969Z",
     "start_time": "2023-09-20T20:43:48.497867Z"
    }
   },
   "id": "5c42a4ac6caa3087"
  },
  {
   "cell_type": "code",
   "execution_count": 114,
   "outputs": [
    {
     "data": {
      "text/plain": "array([[148.,   4.,  33., ...,   1.,   0.,   0.],\n       [132.,   4.,  32., ...,   0.,   0.,   1.],\n       [148.,   4.,  37., ...,   0.,   0.,   1.],\n       ...,\n       [285.,   6.,  22., ...,   0.,   0.,   1.],\n       [563.,  12.,  21., ...,   0.,   0.,   1.],\n       [200.,   4.,  31., ...,   0.,   0.,   1.]])"
     },
     "execution_count": 114,
     "metadata": {},
     "output_type": "execute_result"
    }
   ],
   "source": [
    "prepare_X(df_train)"
   ],
   "metadata": {
    "collapsed": false,
    "ExecuteTime": {
     "end_time": "2023-09-20T20:43:52.461825Z",
     "start_time": "2023-09-20T20:43:52.430225Z"
    }
   },
   "id": "4a2d34676252aa33"
  },
  {
   "cell_type": "code",
   "execution_count": 115,
   "outputs": [
    {
     "data": {
      "text/plain": "0.5157995641502287"
     },
     "execution_count": 115,
     "metadata": {},
     "output_type": "execute_result"
    }
   ],
   "source": [
    "X_train = prepare_X(df_train)\n",
    "w0, w = train_linear_regression(X_train, y_train)\n",
    "\n",
    "X_val = prepare_X(df_val)\n",
    "y_pred = w0 + X_val.dot(w)\n",
    "\n",
    "rmse(y_val, y_pred)"
   ],
   "metadata": {
    "collapsed": false,
    "ExecuteTime": {
     "end_time": "2023-09-20T20:44:18.452917Z",
     "start_time": "2023-09-20T20:44:18.340130Z"
    }
   },
   "id": "c813cbe4abe4ea37"
  },
  {
   "cell_type": "code",
   "execution_count": 131,
   "outputs": [],
   "source": [
    "makes = list(df.make.value_counts().head(20).index)"
   ],
   "metadata": {
    "collapsed": false,
    "ExecuteTime": {
     "end_time": "2023-09-20T20:49:59.777796Z",
     "start_time": "2023-09-20T20:49:59.760160Z"
    }
   },
   "id": "8a94d69e0ec1f8da"
  },
  {
   "cell_type": "code",
   "execution_count": 132,
   "outputs": [],
   "source": [
    "def prepare_X(df):\n",
    "    df = df.copy()\n",
    "    features = base.copy()\n",
    "    \n",
    "    df['age'] = 2017 - df.year\n",
    "    features.append('age')\n",
    "    \n",
    "    for v in [2, 3, 4]:\n",
    "        feat_name = 'num_doors_%s' % v\n",
    "        df[feat_name] = (df.number_of_doors == v).astype(int)\n",
    "        features. append(feat_name)\n",
    "        \n",
    "    for v in makes:\n",
    "        feat_name = 'make_%s' % v\n",
    "        df[feat_name] = (df.make == v).astype(int)\n",
    "        features. append(feat_name)\n",
    "        \n",
    "    df_num = df[features]\n",
    "    df_num = df_num.fillna(0)\n",
    "    X = df_num.values\n",
    "    return X"
   ],
   "metadata": {
    "collapsed": false,
    "ExecuteTime": {
     "end_time": "2023-09-20T20:50:00.069748Z",
     "start_time": "2023-09-20T20:50:00.047592Z"
    }
   },
   "id": "907005e178d2270a"
  },
  {
   "cell_type": "code",
   "execution_count": 133,
   "outputs": [
    {
     "data": {
      "text/plain": "0.4858246038662308"
     },
     "execution_count": 133,
     "metadata": {},
     "output_type": "execute_result"
    }
   ],
   "source": [
    "X_train = prepare_X(df_train)\n",
    "w0, w = train_linear_regression(X_train, y_train)\n",
    "\n",
    "X_val = prepare_X(df_val)\n",
    "y_pred = w0 + X_val.dot(w)\n",
    "\n",
    "rmse(y_val, y_pred)"
   ],
   "metadata": {
    "collapsed": false,
    "ExecuteTime": {
     "end_time": "2023-09-20T20:50:00.331938Z",
     "start_time": "2023-09-20T20:50:00.233469Z"
    }
   },
   "id": "e63bc3ffca8fc15a"
  },
  {
   "cell_type": "code",
   "execution_count": 134,
   "outputs": [
    {
     "data": {
      "text/plain": "Index(['make', 'model', 'year', 'engine_fuel_type', 'engine_hp',\n       'engine_cylinders', 'transmission_type', 'driven_wheels',\n       'number_of_doors', 'market_category', 'vehicle_size', 'vehicle_style',\n       'highway_mpg', 'city_mpg', 'popularity'],\n      dtype='object')"
     },
     "execution_count": 134,
     "metadata": {},
     "output_type": "execute_result"
    }
   ],
   "source": [
    " df_train.dtypes.index"
   ],
   "metadata": {
    "collapsed": false,
    "ExecuteTime": {
     "end_time": "2023-09-20T20:52:00.814361Z",
     "start_time": "2023-09-20T20:52:00.795754Z"
    }
   },
   "id": "33a1aac6d03a080f"
  },
  {
   "cell_type": "code",
   "execution_count": 137,
   "outputs": [],
   "source": [
    "cat_vars = [\n",
    "    'engine_fuel_type', 'transmission_type', 'driven_wheels',\n",
    "    'market_category', 'vehicle_size', 'vehicle_style'\n",
    "]"
   ],
   "metadata": {
    "collapsed": false,
    "ExecuteTime": {
     "end_time": "2023-09-20T20:54:12.766613Z",
     "start_time": "2023-09-20T20:54:12.746370Z"
    }
   },
   "id": "d7043dbf866f57a2"
  },
  {
   "cell_type": "code",
   "execution_count": 138,
   "outputs": [],
   "source": [
    "categories = {}\n",
    "\n",
    "for c in cat_vars:\n",
    "    categories[c] = list(df[c].value_counts().head().index)"
   ],
   "metadata": {
    "collapsed": false,
    "ExecuteTime": {
     "end_time": "2023-09-20T20:54:12.908729Z",
     "start_time": "2023-09-20T20:54:12.896936Z"
    }
   },
   "id": "7c3bbddafa63f15"
  },
  {
   "cell_type": "code",
   "execution_count": 139,
   "outputs": [
    {
     "data": {
      "text/plain": "{'engine_fuel_type': ['regular_unleaded',\n  'premium_unleaded_(required)',\n  'premium_unleaded_(recommended)',\n  'flex-fuel_(unleaded/e85)',\n  'diesel'],\n 'transmission_type': ['automatic',\n  'manual',\n  'automated_manual',\n  'direct_drive',\n  'unknown'],\n 'driven_wheels': ['front_wheel_drive',\n  'rear_wheel_drive',\n  'all_wheel_drive',\n  'four_wheel_drive'],\n 'market_category': ['crossover',\n  'flex_fuel',\n  'luxury',\n  'luxury,performance',\n  'hatchback'],\n 'vehicle_size': ['compact', 'midsize', 'large'],\n 'vehicle_style': ['sedan',\n  '4dr_suv',\n  'coupe',\n  'convertible',\n  '4dr_hatchback']}"
     },
     "execution_count": 139,
     "metadata": {},
     "output_type": "execute_result"
    }
   ],
   "source": [
    "categories"
   ],
   "metadata": {
    "collapsed": false,
    "ExecuteTime": {
     "end_time": "2023-09-20T20:54:17.000164Z",
     "start_time": "2023-09-20T20:54:16.954167Z"
    }
   },
   "id": "83cd6ae644ff0b8b"
  },
  {
   "cell_type": "code",
   "execution_count": 140,
   "outputs": [],
   "source": [
    "def prepare_X(df):\n",
    "    df = df.copy()\n",
    "    features = base.copy()\n",
    "    \n",
    "    df['age'] = 2017 - df.year\n",
    "    features.append('age')\n",
    "    \n",
    "    for v in [2, 3, 4]:\n",
    "        feat_name = 'num_doors_%s' % v\n",
    "        df[feat_name] = (df.number_of_doors == v).astype(int)\n",
    "        features. append(feat_name)\n",
    "        \n",
    "    for c, values in categories.items():\n",
    "        for v in values:\n",
    "            df['%s_%s' % (c, v)] = (df[c] == v).astype(int)\n",
    "            features.append('%s_%s' % (c, v))\n",
    "        \n",
    "        \n",
    "    for v in makes:\n",
    "        feat_name = 'make_%s' % v\n",
    "        df[feat_name] = (df.make == v).astype(int)\n",
    "        features. append(feat_name)\n",
    "        \n",
    "    df_num = df[features]\n",
    "    df_num = df_num.fillna(0)\n",
    "    X = df_num.values\n",
    "    return X"
   ],
   "metadata": {
    "collapsed": false,
    "ExecuteTime": {
     "end_time": "2023-09-20T20:56:50.245061Z",
     "start_time": "2023-09-20T20:56:50.175839Z"
    }
   },
   "id": "b3b3478cd8b78db3"
  },
  {
   "cell_type": "code",
   "execution_count": 141,
   "outputs": [
    {
     "data": {
      "text/plain": "40.291864218777015"
     },
     "execution_count": 141,
     "metadata": {},
     "output_type": "execute_result"
    }
   ],
   "source": [
    "X_train = prepare_X(df_train)\n",
    "w0, w = train_linear_regression(X_train, y_train)\n",
    "\n",
    "X_val = prepare_X(df_val)\n",
    "y_pred = w0 + X_val.dot(w)\n",
    "\n",
    "rmse(y_val, y_pred)"
   ],
   "metadata": {
    "collapsed": false,
    "ExecuteTime": {
     "end_time": "2023-09-20T20:57:00.764431Z",
     "start_time": "2023-09-20T20:57:00.643526Z"
    }
   },
   "id": "f1f4ea1dfe06e701"
  },
  {
   "cell_type": "code",
   "execution_count": 147,
   "outputs": [
    {
     "data": {
      "text/plain": "array([ 4.94885925e-02,  1.19453884e+01,  1.97065200e+00,  2.66762905e+00,\n        1.82019761e-03,  1.27845107e+00,  1.07570430e+03,  1.09061965e+03,\n        1.07264062e+03, -7.15144190e+01, -7.18645419e+01, -7.26207000e+01,\n       -9.33328863e+01,  2.78174286e+01,  2.34574849e+15,  2.34574849e+15,\n        2.34574849e+15,  2.34574849e+15,  2.34574849e+15,  4.37850365e+15,\n        4.37850365e+15,  4.37850365e+15,  4.37850365e+15, -3.03602444e+00,\n        4.46629051e+00,  1.47300068e+00,  1.45224333e+00,  7.15656632e+00,\n        1.19836382e+01,  1.29087377e+01,  1.03133501e+01, -6.38054636e-02,\n        2.91338213e-02,  1.61643358e-01,  3.18639984e-01, -1.67183998e-01,\n       -3.06834729e-01, -1.01635935e+00, -1.33989617e-01, -5.19582616e-01,\n       -4.69108614e-01, -6.41533765e-01, -1.04901431e-01, -4.24423426e-01,\n       -8.50927760e-02, -1.19380392e-01, -4.19716632e-01,  1.48395631e-01,\n       -8.15643242e-01, -6.59735122e-02, -7.02378294e-01, -3.02897677e-01,\n       -2.61902143e-01, -2.95958065e-01, -2.36232550e-02, -4.43822688e-01])"
     },
     "execution_count": 147,
     "metadata": {},
     "output_type": "execute_result"
    }
   ],
   "source": [
    "w"
   ],
   "metadata": {
    "collapsed": false,
    "ExecuteTime": {
     "end_time": "2023-09-20T21:09:36.202244Z",
     "start_time": "2023-09-20T21:09:36.183480Z"
    }
   },
   "id": "ee445e1dfccd8deb"
  },
  {
   "cell_type": "markdown",
   "source": [
    "# Regularization"
   ],
   "metadata": {
    "collapsed": false
   },
   "id": "8d9134be74535f0d"
  },
  {
   "cell_type": "code",
   "execution_count": 150,
   "outputs": [
    {
     "data": {
      "text/plain": "array([[-3.33333356e-01,  3.33333339e-01,  3.33333339e-01],\n       [ 3.33333339e-01, -5.00000008e+06,  4.99999991e+06],\n       [ 3.33333339e-01,  4.99999991e+06, -5.00000008e+06]])"
     },
     "execution_count": 150,
     "metadata": {},
     "output_type": "execute_result"
    }
   ],
   "source": [
    "XTX = [\n",
    "    [1, 2, 2],\n",
    "    [2, 1, 1.0000001],\n",
    "    [2, 1.0000001, 1],\n",
    "]\n",
    "\n",
    "XTX = np.array(XTX)\n",
    "\n",
    "np.linalg.inv(XTX)"
   ],
   "metadata": {
    "collapsed": false,
    "ExecuteTime": {
     "end_time": "2023-09-20T21:12:22.374568Z",
     "start_time": "2023-09-20T21:12:22.359687Z"
    }
   },
   "id": "4b6ca63bb105fa0a"
  },
  {
   "cell_type": "code",
   "execution_count": 155,
   "outputs": [],
   "source": [
    "XTX = XTX + 0.01 * np.eye(3)"
   ],
   "metadata": {
    "collapsed": false,
    "ExecuteTime": {
     "end_time": "2023-09-20T21:18:35.868861Z",
     "start_time": "2023-09-20T21:18:35.838359Z"
    }
   },
   "id": "5f8d65ff95827635"
  },
  {
   "cell_type": "code",
   "execution_count": 156,
   "outputs": [
    {
     "data": {
      "text/plain": "array([[ -0.33668908,   0.33501399,   0.33501399],\n       [  0.33501399,  49.91590897, -50.08509104],\n       [  0.33501399, -50.08509104,  49.91590897]])"
     },
     "execution_count": 156,
     "metadata": {},
     "output_type": "execute_result"
    }
   ],
   "source": [
    "np.linalg.inv(XTX)"
   ],
   "metadata": {
    "collapsed": false,
    "ExecuteTime": {
     "end_time": "2023-09-20T21:18:39.249112Z",
     "start_time": "2023-09-20T21:18:39.207578Z"
    }
   },
   "id": "4c5125e35cf8e262"
  },
  {
   "cell_type": "code",
   "execution_count": 167,
   "outputs": [],
   "source": [
    "def train_linear_regression_reg(X, y, reg=0.01):\n",
    "    ones = np.ones(X.shape[0])\n",
    "    X = np.column_stack([ones, X])\n",
    "    \n",
    "    XTX = X.T.dot(X)\n",
    "    XTX = XTX + reg * np.eye(XTX.shape[0])\n",
    "    XTX_inv = np.linalg.inv(XTX)\n",
    "    \n",
    "    w_full = XTX_inv.dot(X.T).dot(y)\n",
    "    return w_full[0], w_full[1:]"
   ],
   "metadata": {
    "collapsed": false,
    "ExecuteTime": {
     "end_time": "2023-09-20T21:26:02.131910Z",
     "start_time": "2023-09-20T21:26:02.118435Z"
    }
   },
   "id": "223f6cebb9b31c48"
  },
  {
   "cell_type": "code",
   "execution_count": 166,
   "outputs": [
    {
     "data": {
      "text/plain": "0.44213698662386686"
     },
     "execution_count": 166,
     "metadata": {},
     "output_type": "execute_result"
    }
   ],
   "source": [
    "X_train = prepare_X(df_train)\n",
    "w0, w = train_linear_regression_reg(X_train, y_train)\n",
    "\n",
    "X_val = prepare_X(df_val)\n",
    "y_pred = w0 + X_val.dot(w)\n",
    "\n",
    "rmse(y_val, y_pred)"
   ],
   "metadata": {
    "collapsed": false,
    "ExecuteTime": {
     "end_time": "2023-09-20T21:25:58.975928Z",
     "start_time": "2023-09-20T21:25:58.881885Z"
    }
   },
   "id": "88ce10646d25bd71"
  },
  {
   "cell_type": "markdown",
   "source": [
    "# Tuning the model"
   ],
   "metadata": {
    "collapsed": false
   },
   "id": "c529fa3e50fb205"
  },
  {
   "cell_type": "code",
   "execution_count": 173,
   "outputs": [
    {
     "name": "stdout",
     "output_type": "stream",
     "text": [
      "0.0 \t\t -6724252134523324.0 \t\t 40.291864218777015\n",
      "1e-06 \t\t 352.30696342649856 \t\t 0.4421367598819023\n",
      "0.0001 \t\t 6.080685522221252 \t\t 0.44213698662386686\n",
      "0.001 \t\t 6.065811210589365 \t\t 0.44213749726069396\n",
      "0.1 \t\t 5.982797840219658 \t\t 0.4421972904204894\n",
      "1 \t\t 5.491001953466611 \t\t 0.4429735620534478\n",
      "10 \t\t 4.243780668686438 \t\t 0.45724641357094525\n",
      "33333 \t\t 0.04809942440530129 \t\t 1.400612275170777\n",
      "-1 \t\t 8.626842361308066 \t\t 0.4436431772327585\n"
     ]
    }
   ],
   "source": [
    "for r in [0.0, 0.000001, 0.0001, 0.001, 0.1, 1, 10, 33333, -1]:\n",
    "    X_train = prepare_X(df_train)\n",
    "    w0, w = train_linear_regression_reg(X_train, y_train, reg=r)\n",
    "    \n",
    "    X_val = prepare_X(df_val)\n",
    "    y_pred = w0 + X_val.dot(w)\n",
    "    \n",
    "    score = rmse(y_val, y_pred)\n",
    "    print(r, '\\t\\t', w0, '\\t\\t', score)\n",
    "    \n",
    "    \n"
   ],
   "metadata": {
    "collapsed": false,
    "ExecuteTime": {
     "end_time": "2023-09-21T20:06:46.403617Z",
     "start_time": "2023-09-21T20:06:45.952154Z"
    }
   },
   "id": "4b63fcc2c1fcd120"
  },
  {
   "cell_type": "code",
   "execution_count": 174,
   "outputs": [
    {
     "data": {
      "text/plain": "0.44213698662386686"
     },
     "execution_count": 174,
     "metadata": {},
     "output_type": "execute_result"
    }
   ],
   "source": [
    "r = 0.0001\n",
    "X_train = prepare_X(df_train)\n",
    "w0, w = train_linear_regression_reg(X_train, y_train, reg=r)\n",
    "\n",
    "X_val = prepare_X(df_val)\n",
    "y_pred = w0 + X_val.dot(w)\n",
    "\n",
    "rmse(y_val, y_pred)"
   ],
   "metadata": {
    "collapsed": false,
    "ExecuteTime": {
     "end_time": "2023-09-21T20:07:51.108387Z",
     "start_time": "2023-09-21T20:07:50.989345Z"
    }
   },
   "id": "b1f6e8ed7524f4f0"
  },
  {
   "cell_type": "markdown",
   "source": [
    "# Using the model"
   ],
   "metadata": {
    "collapsed": false
   },
   "id": "90f46ff893c34f89"
  },
  {
   "cell_type": "code",
   "execution_count": 177,
   "outputs": [],
   "source": [
    "df_full_train = pd.concat([df_train, df_val])"
   ],
   "metadata": {
    "collapsed": false,
    "ExecuteTime": {
     "end_time": "2023-09-21T20:39:56.832398Z",
     "start_time": "2023-09-21T20:39:56.813804Z"
    }
   },
   "id": "d116a01b8c3c4124"
  },
  {
   "cell_type": "code",
   "execution_count": 178,
   "outputs": [
    {
     "data": {
      "text/plain": "         make    model  year          engine_fuel_type  engine_hp  \\\n0   chevrolet   cobalt  2008          regular_unleaded      148.0   \n1      toyota   matrix  2012          regular_unleaded      132.0   \n2      subaru  impreza  2016          regular_unleaded      148.0   \n3  volkswagen  vanagon  1991          regular_unleaded       90.0   \n4        ford    f-150  2017  flex-fuel_(unleaded/e85)      385.0   \n\n   engine_cylinders transmission_type      driven_wheels  number_of_doors  \\\n0               4.0            manual  front_wheel_drive              2.0   \n1               4.0         automatic  front_wheel_drive              4.0   \n2               4.0         automatic    all_wheel_drive              4.0   \n3               4.0            manual   rear_wheel_drive              3.0   \n4               8.0         automatic   four_wheel_drive              4.0   \n\n  market_category vehicle_size      vehicle_style  highway_mpg  city_mpg  \\\n0             NaN      compact              coupe           33        24   \n1       hatchback      compact      4dr_hatchback           32        25   \n2       hatchback      compact      4dr_hatchback           37        28   \n3             NaN        large  passenger_minivan           18        16   \n4       flex_fuel        large    crew_cab_pickup           21        15   \n\n   popularity  \n0        1385  \n1        2031  \n2         640  \n3         873  \n4        5657  ",
      "text/html": "<div>\n<style scoped>\n    .dataframe tbody tr th:only-of-type {\n        vertical-align: middle;\n    }\n\n    .dataframe tbody tr th {\n        vertical-align: top;\n    }\n\n    .dataframe thead th {\n        text-align: right;\n    }\n</style>\n<table border=\"1\" class=\"dataframe\">\n  <thead>\n    <tr style=\"text-align: right;\">\n      <th></th>\n      <th>make</th>\n      <th>model</th>\n      <th>year</th>\n      <th>engine_fuel_type</th>\n      <th>engine_hp</th>\n      <th>engine_cylinders</th>\n      <th>transmission_type</th>\n      <th>driven_wheels</th>\n      <th>number_of_doors</th>\n      <th>market_category</th>\n      <th>vehicle_size</th>\n      <th>vehicle_style</th>\n      <th>highway_mpg</th>\n      <th>city_mpg</th>\n      <th>popularity</th>\n    </tr>\n  </thead>\n  <tbody>\n    <tr>\n      <th>0</th>\n      <td>chevrolet</td>\n      <td>cobalt</td>\n      <td>2008</td>\n      <td>regular_unleaded</td>\n      <td>148.0</td>\n      <td>4.0</td>\n      <td>manual</td>\n      <td>front_wheel_drive</td>\n      <td>2.0</td>\n      <td>NaN</td>\n      <td>compact</td>\n      <td>coupe</td>\n      <td>33</td>\n      <td>24</td>\n      <td>1385</td>\n    </tr>\n    <tr>\n      <th>1</th>\n      <td>toyota</td>\n      <td>matrix</td>\n      <td>2012</td>\n      <td>regular_unleaded</td>\n      <td>132.0</td>\n      <td>4.0</td>\n      <td>automatic</td>\n      <td>front_wheel_drive</td>\n      <td>4.0</td>\n      <td>hatchback</td>\n      <td>compact</td>\n      <td>4dr_hatchback</td>\n      <td>32</td>\n      <td>25</td>\n      <td>2031</td>\n    </tr>\n    <tr>\n      <th>2</th>\n      <td>subaru</td>\n      <td>impreza</td>\n      <td>2016</td>\n      <td>regular_unleaded</td>\n      <td>148.0</td>\n      <td>4.0</td>\n      <td>automatic</td>\n      <td>all_wheel_drive</td>\n      <td>4.0</td>\n      <td>hatchback</td>\n      <td>compact</td>\n      <td>4dr_hatchback</td>\n      <td>37</td>\n      <td>28</td>\n      <td>640</td>\n    </tr>\n    <tr>\n      <th>3</th>\n      <td>volkswagen</td>\n      <td>vanagon</td>\n      <td>1991</td>\n      <td>regular_unleaded</td>\n      <td>90.0</td>\n      <td>4.0</td>\n      <td>manual</td>\n      <td>rear_wheel_drive</td>\n      <td>3.0</td>\n      <td>NaN</td>\n      <td>large</td>\n      <td>passenger_minivan</td>\n      <td>18</td>\n      <td>16</td>\n      <td>873</td>\n    </tr>\n    <tr>\n      <th>4</th>\n      <td>ford</td>\n      <td>f-150</td>\n      <td>2017</td>\n      <td>flex-fuel_(unleaded/e85)</td>\n      <td>385.0</td>\n      <td>8.0</td>\n      <td>automatic</td>\n      <td>four_wheel_drive</td>\n      <td>4.0</td>\n      <td>flex_fuel</td>\n      <td>large</td>\n      <td>crew_cab_pickup</td>\n      <td>21</td>\n      <td>15</td>\n      <td>5657</td>\n    </tr>\n  </tbody>\n</table>\n</div>"
     },
     "execution_count": 178,
     "metadata": {},
     "output_type": "execute_result"
    }
   ],
   "source": [
    "df_full_train.head()"
   ],
   "metadata": {
    "collapsed": false,
    "ExecuteTime": {
     "end_time": "2023-09-21T20:39:57.524776Z",
     "start_time": "2023-09-21T20:39:57.476858Z"
    }
   },
   "id": "f4b8eeffcda7797f"
  },
  {
   "cell_type": "code",
   "execution_count": 179,
   "outputs": [],
   "source": [
    "df_full_train = df_full_train.reset_index(drop=True)"
   ],
   "metadata": {
    "collapsed": false,
    "ExecuteTime": {
     "end_time": "2023-09-21T23:39:33.781653Z",
     "start_time": "2023-09-21T23:39:33.732272Z"
    }
   },
   "id": "df02ad397b889823"
  },
  {
   "cell_type": "code",
   "execution_count": 180,
   "outputs": [
    {
     "data": {
      "text/plain": "            make                    model  year             engine_fuel_type  \\\n0      chevrolet                   cobalt  2008             regular_unleaded   \n1         toyota                   matrix  2012             regular_unleaded   \n2         subaru                  impreza  2016             regular_unleaded   \n3     volkswagen                  vanagon  1991             regular_unleaded   \n4           ford                    f-150  2017     flex-fuel_(unleaded/e85)   \n...          ...                      ...   ...                          ...   \n9527       volvo                      v60  2015             regular_unleaded   \n9528    maserati  granturismo_convertible  2015  premium_unleaded_(required)   \n9529    cadillac          escalade_hybrid  2013             regular_unleaded   \n9530  mitsubishi                   lancer  2016             regular_unleaded   \n9531         kia                  sorento  2015             regular_unleaded   \n\n      engine_hp  engine_cylinders transmission_type      driven_wheels  \\\n0         148.0               4.0            manual  front_wheel_drive   \n1         132.0               4.0         automatic  front_wheel_drive   \n2         148.0               4.0         automatic    all_wheel_drive   \n3          90.0               4.0            manual   rear_wheel_drive   \n4         385.0               8.0         automatic   four_wheel_drive   \n...         ...               ...               ...                ...   \n9527      240.0               4.0         automatic  front_wheel_drive   \n9528      444.0               8.0         automatic   rear_wheel_drive   \n9529      332.0               8.0         automatic   rear_wheel_drive   \n9530      148.0               4.0            manual  front_wheel_drive   \n9531      290.0               6.0         automatic  front_wheel_drive   \n\n      number_of_doors                 market_category vehicle_size  \\\n0                 2.0                             NaN      compact   \n1                 4.0                       hatchback      compact   \n2                 4.0                       hatchback      compact   \n3                 3.0                             NaN        large   \n4                 4.0                       flex_fuel        large   \n...               ...                             ...          ...   \n9527              4.0                          luxury      midsize   \n9528              2.0  exotic,luxury,high-performance      midsize   \n9529              4.0                   luxury,hybrid        large   \n9530              4.0                             NaN      compact   \n9531              4.0                       crossover      midsize   \n\n          vehicle_style  highway_mpg  city_mpg  popularity  \n0                 coupe           33        24        1385  \n1         4dr_hatchback           32        25        2031  \n2         4dr_hatchback           37        28         640  \n3     passenger_minivan           18        16         873  \n4       crew_cab_pickup           21        15        5657  \n...                 ...          ...       ...         ...  \n9527              wagon           37        25         870  \n9528        convertible           20        13         238  \n9529            4dr_suv           23        20        1624  \n9530              sedan           34        24         436  \n9531            4dr_suv           25        18        1720  \n\n[9532 rows x 15 columns]",
      "text/html": "<div>\n<style scoped>\n    .dataframe tbody tr th:only-of-type {\n        vertical-align: middle;\n    }\n\n    .dataframe tbody tr th {\n        vertical-align: top;\n    }\n\n    .dataframe thead th {\n        text-align: right;\n    }\n</style>\n<table border=\"1\" class=\"dataframe\">\n  <thead>\n    <tr style=\"text-align: right;\">\n      <th></th>\n      <th>make</th>\n      <th>model</th>\n      <th>year</th>\n      <th>engine_fuel_type</th>\n      <th>engine_hp</th>\n      <th>engine_cylinders</th>\n      <th>transmission_type</th>\n      <th>driven_wheels</th>\n      <th>number_of_doors</th>\n      <th>market_category</th>\n      <th>vehicle_size</th>\n      <th>vehicle_style</th>\n      <th>highway_mpg</th>\n      <th>city_mpg</th>\n      <th>popularity</th>\n    </tr>\n  </thead>\n  <tbody>\n    <tr>\n      <th>0</th>\n      <td>chevrolet</td>\n      <td>cobalt</td>\n      <td>2008</td>\n      <td>regular_unleaded</td>\n      <td>148.0</td>\n      <td>4.0</td>\n      <td>manual</td>\n      <td>front_wheel_drive</td>\n      <td>2.0</td>\n      <td>NaN</td>\n      <td>compact</td>\n      <td>coupe</td>\n      <td>33</td>\n      <td>24</td>\n      <td>1385</td>\n    </tr>\n    <tr>\n      <th>1</th>\n      <td>toyota</td>\n      <td>matrix</td>\n      <td>2012</td>\n      <td>regular_unleaded</td>\n      <td>132.0</td>\n      <td>4.0</td>\n      <td>automatic</td>\n      <td>front_wheel_drive</td>\n      <td>4.0</td>\n      <td>hatchback</td>\n      <td>compact</td>\n      <td>4dr_hatchback</td>\n      <td>32</td>\n      <td>25</td>\n      <td>2031</td>\n    </tr>\n    <tr>\n      <th>2</th>\n      <td>subaru</td>\n      <td>impreza</td>\n      <td>2016</td>\n      <td>regular_unleaded</td>\n      <td>148.0</td>\n      <td>4.0</td>\n      <td>automatic</td>\n      <td>all_wheel_drive</td>\n      <td>4.0</td>\n      <td>hatchback</td>\n      <td>compact</td>\n      <td>4dr_hatchback</td>\n      <td>37</td>\n      <td>28</td>\n      <td>640</td>\n    </tr>\n    <tr>\n      <th>3</th>\n      <td>volkswagen</td>\n      <td>vanagon</td>\n      <td>1991</td>\n      <td>regular_unleaded</td>\n      <td>90.0</td>\n      <td>4.0</td>\n      <td>manual</td>\n      <td>rear_wheel_drive</td>\n      <td>3.0</td>\n      <td>NaN</td>\n      <td>large</td>\n      <td>passenger_minivan</td>\n      <td>18</td>\n      <td>16</td>\n      <td>873</td>\n    </tr>\n    <tr>\n      <th>4</th>\n      <td>ford</td>\n      <td>f-150</td>\n      <td>2017</td>\n      <td>flex-fuel_(unleaded/e85)</td>\n      <td>385.0</td>\n      <td>8.0</td>\n      <td>automatic</td>\n      <td>four_wheel_drive</td>\n      <td>4.0</td>\n      <td>flex_fuel</td>\n      <td>large</td>\n      <td>crew_cab_pickup</td>\n      <td>21</td>\n      <td>15</td>\n      <td>5657</td>\n    </tr>\n    <tr>\n      <th>...</th>\n      <td>...</td>\n      <td>...</td>\n      <td>...</td>\n      <td>...</td>\n      <td>...</td>\n      <td>...</td>\n      <td>...</td>\n      <td>...</td>\n      <td>...</td>\n      <td>...</td>\n      <td>...</td>\n      <td>...</td>\n      <td>...</td>\n      <td>...</td>\n      <td>...</td>\n    </tr>\n    <tr>\n      <th>9527</th>\n      <td>volvo</td>\n      <td>v60</td>\n      <td>2015</td>\n      <td>regular_unleaded</td>\n      <td>240.0</td>\n      <td>4.0</td>\n      <td>automatic</td>\n      <td>front_wheel_drive</td>\n      <td>4.0</td>\n      <td>luxury</td>\n      <td>midsize</td>\n      <td>wagon</td>\n      <td>37</td>\n      <td>25</td>\n      <td>870</td>\n    </tr>\n    <tr>\n      <th>9528</th>\n      <td>maserati</td>\n      <td>granturismo_convertible</td>\n      <td>2015</td>\n      <td>premium_unleaded_(required)</td>\n      <td>444.0</td>\n      <td>8.0</td>\n      <td>automatic</td>\n      <td>rear_wheel_drive</td>\n      <td>2.0</td>\n      <td>exotic,luxury,high-performance</td>\n      <td>midsize</td>\n      <td>convertible</td>\n      <td>20</td>\n      <td>13</td>\n      <td>238</td>\n    </tr>\n    <tr>\n      <th>9529</th>\n      <td>cadillac</td>\n      <td>escalade_hybrid</td>\n      <td>2013</td>\n      <td>regular_unleaded</td>\n      <td>332.0</td>\n      <td>8.0</td>\n      <td>automatic</td>\n      <td>rear_wheel_drive</td>\n      <td>4.0</td>\n      <td>luxury,hybrid</td>\n      <td>large</td>\n      <td>4dr_suv</td>\n      <td>23</td>\n      <td>20</td>\n      <td>1624</td>\n    </tr>\n    <tr>\n      <th>9530</th>\n      <td>mitsubishi</td>\n      <td>lancer</td>\n      <td>2016</td>\n      <td>regular_unleaded</td>\n      <td>148.0</td>\n      <td>4.0</td>\n      <td>manual</td>\n      <td>front_wheel_drive</td>\n      <td>4.0</td>\n      <td>NaN</td>\n      <td>compact</td>\n      <td>sedan</td>\n      <td>34</td>\n      <td>24</td>\n      <td>436</td>\n    </tr>\n    <tr>\n      <th>9531</th>\n      <td>kia</td>\n      <td>sorento</td>\n      <td>2015</td>\n      <td>regular_unleaded</td>\n      <td>290.0</td>\n      <td>6.0</td>\n      <td>automatic</td>\n      <td>front_wheel_drive</td>\n      <td>4.0</td>\n      <td>crossover</td>\n      <td>midsize</td>\n      <td>4dr_suv</td>\n      <td>25</td>\n      <td>18</td>\n      <td>1720</td>\n    </tr>\n  </tbody>\n</table>\n<p>9532 rows × 15 columns</p>\n</div>"
     },
     "execution_count": 180,
     "metadata": {},
     "output_type": "execute_result"
    }
   ],
   "source": [
    "df_full_train"
   ],
   "metadata": {
    "collapsed": false,
    "ExecuteTime": {
     "end_time": "2023-09-21T23:39:37.128711Z",
     "start_time": "2023-09-21T23:39:37.078625Z"
    }
   },
   "id": "2a21bed331271bc9"
  },
  {
   "cell_type": "code",
   "execution_count": 181,
   "outputs": [],
   "source": [
    "X_full_train = prepare_X(df_full_train)"
   ],
   "metadata": {
    "collapsed": false,
    "ExecuteTime": {
     "end_time": "2023-09-21T23:40:16.051263Z",
     "start_time": "2023-09-21T23:40:16.004371Z"
    }
   },
   "id": "37d037d14c0b8050"
  },
  {
   "cell_type": "code",
   "execution_count": 182,
   "outputs": [
    {
     "data": {
      "text/plain": "array([[148.,   4.,  33., ...,   0.,   0.,   0.],\n       [132.,   4.,  32., ...,   0.,   0.,   0.],\n       [148.,   4.,  37., ...,   1.,   0.,   0.],\n       ...,\n       [332.,   8.,  23., ...,   0.,   0.,   0.],\n       [148.,   4.,  34., ...,   0.,   0.,   0.],\n       [290.,   6.,  25., ...,   0.,   0.,   1.]])"
     },
     "execution_count": 182,
     "metadata": {},
     "output_type": "execute_result"
    }
   ],
   "source": [
    "X_full_train"
   ],
   "metadata": {
    "collapsed": false,
    "ExecuteTime": {
     "end_time": "2023-09-21T23:40:24.147385Z",
     "start_time": "2023-09-21T23:40:24.131998Z"
    }
   },
   "id": "b0907eea336c04be"
  },
  {
   "cell_type": "code",
   "execution_count": 184,
   "outputs": [],
   "source": [
    "y_full_train = np.concatenate([y_train, y_val])"
   ],
   "metadata": {
    "collapsed": false,
    "ExecuteTime": {
     "end_time": "2023-09-21T23:40:44.619634Z",
     "start_time": "2023-09-21T23:40:44.599212Z"
    }
   },
   "id": "391bd075ea67de16"
  },
  {
   "cell_type": "code",
   "execution_count": 185,
   "outputs": [],
   "source": [
    "w0, w = train_linear_regression_reg(X_full_train, y_full_train, reg=0.001)"
   ],
   "metadata": {
    "collapsed": false,
    "ExecuteTime": {
     "end_time": "2023-09-21T23:41:33.608613Z",
     "start_time": "2023-09-21T23:41:33.476722Z"
    }
   },
   "id": "89b4eb69eaf9095"
  },
  {
   "cell_type": "code",
   "execution_count": 186,
   "outputs": [
    {
     "data": {
      "text/plain": "array([ 1.43906483e-03,  1.14990108e-01, -6.58479755e-03, -3.32474538e-03,\n        1.82400254e-04, -9.72858665e-02, -4.96400498e-01, -5.87253630e-01,\n       -3.34635074e-01, -4.34269970e-01,  1.40437867e-01, -2.73184982e-01,\n       -5.59366685e-01,  1.20121955e-02,  1.11116564e+00,  9.13621827e-01,\n        1.08941671e+00,  2.47322178e+00,  5.01512232e-01,  1.54920971e+00,\n        1.48126159e+00,  1.55895326e+00,  1.50061019e+00, -7.71131063e-02,\n        5.78491228e-02, -2.81408889e-02, -5.82469051e-02, -1.24781518e-02,\n        2.10284242e+00,  2.01025118e+00,  1.97684903e+00, -6.15417144e-02,\n        3.14753308e-02,  1.66686652e-01,  3.07427837e-01, -1.58479474e-01,\n       -3.17218743e-01, -1.09112201e+00, -1.50689455e-01, -5.40022928e-01,\n       -4.73664317e-01, -6.53577032e-01, -9.27234255e-02, -4.44653116e-01,\n       -7.90931432e-02, -1.26302232e-01, -4.16606359e-01,  1.40337189e-01,\n       -8.88324234e-01, -6.27299627e-02, -7.22344877e-01, -3.28677304e-01,\n       -2.54657540e-01, -2.74716759e-01, -2.45814645e-02, -4.68223290e-01])"
     },
     "execution_count": 186,
     "metadata": {},
     "output_type": "execute_result"
    }
   ],
   "source": [
    "w"
   ],
   "metadata": {
    "collapsed": false,
    "ExecuteTime": {
     "end_time": "2023-09-21T23:41:36.791739Z",
     "start_time": "2023-09-21T23:41:36.744789Z"
    }
   },
   "id": "a1b6137d3033d4d8"
  },
  {
   "cell_type": "code",
   "execution_count": 188,
   "outputs": [
    {
     "data": {
      "text/plain": "0.43577311334192714"
     },
     "execution_count": 188,
     "metadata": {},
     "output_type": "execute_result"
    }
   ],
   "source": [
    "X_test = prepare_X(df_test)\n",
    "y_pred = w0 + X_test.dot(w)\n",
    "\n",
    "score = rmse(y_test, y_pred)\n",
    "score"
   ],
   "metadata": {
    "collapsed": false,
    "ExecuteTime": {
     "end_time": "2023-09-21T23:42:37.879709Z",
     "start_time": "2023-09-21T23:42:37.729425Z"
    }
   },
   "id": "af7523c8845fe1d7"
  },
  {
   "cell_type": "code",
   "execution_count": 193,
   "outputs": [
    {
     "data": {
      "text/plain": "{'make': 'toyota',\n 'model': 'sienna',\n 'year': 2015,\n 'engine_fuel_type': 'regular_unleaded',\n 'engine_hp': 266.0,\n 'engine_cylinders': 6.0,\n 'transmission_type': 'automatic',\n 'driven_wheels': 'front_wheel_drive',\n 'number_of_doors': 4.0,\n 'market_category': nan,\n 'vehicle_size': 'large',\n 'vehicle_style': 'passenger_minivan',\n 'highway_mpg': 25,\n 'city_mpg': 18,\n 'popularity': 2031}"
     },
     "execution_count": 193,
     "metadata": {},
     "output_type": "execute_result"
    }
   ],
   "source": [
    "car = df_test.iloc[20].to_dict()\n",
    "car"
   ],
   "metadata": {
    "collapsed": false,
    "ExecuteTime": {
     "end_time": "2023-09-21T23:57:33.196077Z",
     "start_time": "2023-09-21T23:57:33.179807Z"
    }
   },
   "id": "9e0e10f5d92db28b"
  },
  {
   "cell_type": "code",
   "execution_count": 195,
   "outputs": [
    {
     "data": {
      "text/plain": "     make   model  year  engine_fuel_type  engine_hp  engine_cylinders  \\\n0  toyota  sienna  2015  regular_unleaded      266.0               6.0   \n\n  transmission_type      driven_wheels  number_of_doors  market_category  \\\n0         automatic  front_wheel_drive              4.0              NaN   \n\n  vehicle_size      vehicle_style  highway_mpg  city_mpg  popularity  \n0        large  passenger_minivan           25        18        2031  ",
      "text/html": "<div>\n<style scoped>\n    .dataframe tbody tr th:only-of-type {\n        vertical-align: middle;\n    }\n\n    .dataframe tbody tr th {\n        vertical-align: top;\n    }\n\n    .dataframe thead th {\n        text-align: right;\n    }\n</style>\n<table border=\"1\" class=\"dataframe\">\n  <thead>\n    <tr style=\"text-align: right;\">\n      <th></th>\n      <th>make</th>\n      <th>model</th>\n      <th>year</th>\n      <th>engine_fuel_type</th>\n      <th>engine_hp</th>\n      <th>engine_cylinders</th>\n      <th>transmission_type</th>\n      <th>driven_wheels</th>\n      <th>number_of_doors</th>\n      <th>market_category</th>\n      <th>vehicle_size</th>\n      <th>vehicle_style</th>\n      <th>highway_mpg</th>\n      <th>city_mpg</th>\n      <th>popularity</th>\n    </tr>\n  </thead>\n  <tbody>\n    <tr>\n      <th>0</th>\n      <td>toyota</td>\n      <td>sienna</td>\n      <td>2015</td>\n      <td>regular_unleaded</td>\n      <td>266.0</td>\n      <td>6.0</td>\n      <td>automatic</td>\n      <td>front_wheel_drive</td>\n      <td>4.0</td>\n      <td>NaN</td>\n      <td>large</td>\n      <td>passenger_minivan</td>\n      <td>25</td>\n      <td>18</td>\n      <td>2031</td>\n    </tr>\n  </tbody>\n</table>\n</div>"
     },
     "execution_count": 195,
     "metadata": {},
     "output_type": "execute_result"
    }
   ],
   "source": [
    "df_small = pd.DataFrame([car])\n",
    "df_small"
   ],
   "metadata": {
    "collapsed": false,
    "ExecuteTime": {
     "end_time": "2023-09-21T23:58:47.160386Z",
     "start_time": "2023-09-21T23:58:47.143749Z"
    }
   },
   "id": "12b5784163ff8aec"
  },
  {
   "cell_type": "code",
   "execution_count": 196,
   "outputs": [],
   "source": [
    "X_small = prepare_X(df_small)"
   ],
   "metadata": {
    "collapsed": false,
    "ExecuteTime": {
     "end_time": "2023-09-21T23:59:13.730550Z",
     "start_time": "2023-09-21T23:59:13.687435Z"
    }
   },
   "id": "8e7b1bb20efa4a75"
  },
  {
   "cell_type": "code",
   "execution_count": 197,
   "outputs": [],
   "source": [
    "y_pred = w0 + X_small.dot(w)"
   ],
   "metadata": {
    "collapsed": false,
    "ExecuteTime": {
     "end_time": "2023-09-21T23:59:26.093715Z",
     "start_time": "2023-09-21T23:59:26.039371Z"
    }
   },
   "id": "64e113b0c5f7ab25"
  },
  {
   "cell_type": "code",
   "execution_count": 199,
   "outputs": [
    {
     "data": {
      "text/plain": "10.442566661647753"
     },
     "execution_count": 199,
     "metadata": {},
     "output_type": "execute_result"
    }
   ],
   "source": [
    "y_pred[0]"
   ],
   "metadata": {
    "collapsed": false,
    "ExecuteTime": {
     "end_time": "2023-09-21T23:59:31.605071Z",
     "start_time": "2023-09-21T23:59:31.587163Z"
    }
   },
   "id": "c5ad281bdea6b94f"
  },
  {
   "cell_type": "code",
   "execution_count": 201,
   "outputs": [
    {
     "data": {
      "text/plain": "34287.54668998071"
     },
     "execution_count": 201,
     "metadata": {},
     "output_type": "execute_result"
    }
   ],
   "source": [
    "np.expm1(y_pred[0])"
   ],
   "metadata": {
    "collapsed": false,
    "ExecuteTime": {
     "end_time": "2023-09-21T23:59:52.231204Z",
     "start_time": "2023-09-21T23:59:52.207067Z"
    }
   },
   "id": "148782aa537aa6a9"
  },
  {
   "cell_type": "code",
   "execution_count": 203,
   "outputs": [
    {
     "data": {
      "text/plain": "35000.00000000001"
     },
     "execution_count": 203,
     "metadata": {},
     "output_type": "execute_result"
    }
   ],
   "source": [
    "np.expm1(y_test[20])"
   ],
   "metadata": {
    "collapsed": false,
    "ExecuteTime": {
     "end_time": "2023-09-22T00:00:43.858664Z",
     "start_time": "2023-09-22T00:00:43.842415Z"
    }
   },
   "id": "164489048ccd017"
  }
 ],
 "metadata": {
  "kernelspec": {
   "display_name": "Python 3",
   "language": "python",
   "name": "python3"
  },
  "language_info": {
   "codemirror_mode": {
    "name": "ipython",
    "version": 2
   },
   "file_extension": ".py",
   "mimetype": "text/x-python",
   "name": "python",
   "nbconvert_exporter": "python",
   "pygments_lexer": "ipython2",
   "version": "2.7.6"
  }
 },
 "nbformat": 4,
 "nbformat_minor": 5
}
