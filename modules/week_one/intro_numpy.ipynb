{
 "cells": [
  {
   "cell_type": "code",
   "execution_count": 3,
   "outputs": [],
   "source": [
    "import numpy as np"
   ],
   "metadata": {
    "collapsed": false,
    "ExecuteTime": {
     "end_time": "2023-09-15T03:07:23.493513Z",
     "start_time": "2023-09-15T03:07:23.399202Z"
    }
   },
   "id": "e4fd685d86adf0b0"
  },
  {
   "cell_type": "code",
   "execution_count": 4,
   "outputs": [
    {
     "data": {
      "text/plain": "<module 'numpy' from '/Users/berrio/.conda/envs/mlzoomcamp/lib/python3.11/site-packages/numpy/__init__.py'>"
     },
     "execution_count": 4,
     "metadata": {},
     "output_type": "execute_result"
    }
   ],
   "source": [
    "np"
   ],
   "metadata": {
    "collapsed": false,
    "ExecuteTime": {
     "end_time": "2023-09-15T03:07:23.563994Z",
     "start_time": "2023-09-15T03:07:23.556811Z"
    }
   },
   "id": "dc49fc107eb780cc"
  },
  {
   "cell_type": "code",
   "execution_count": 5,
   "outputs": [
    {
     "data": {
      "text/plain": "array([0., 0., 0., 0., 0.])"
     },
     "execution_count": 5,
     "metadata": {},
     "output_type": "execute_result"
    }
   ],
   "source": [
    "np.zeros(5)"
   ],
   "metadata": {
    "collapsed": false,
    "ExecuteTime": {
     "end_time": "2023-09-15T03:07:23.810145Z",
     "start_time": "2023-09-15T03:07:23.805628Z"
    }
   },
   "id": "bbfa09cc69f49e2d"
  },
  {
   "cell_type": "code",
   "execution_count": 6,
   "outputs": [
    {
     "data": {
      "text/plain": "array([1., 1., 1., 1., 1., 1., 1., 1., 1., 1.])"
     },
     "execution_count": 6,
     "metadata": {},
     "output_type": "execute_result"
    }
   ],
   "source": [
    "np.ones(10)"
   ],
   "metadata": {
    "collapsed": false,
    "ExecuteTime": {
     "end_time": "2023-09-15T03:07:23.873906Z",
     "start_time": "2023-09-15T03:07:23.871021Z"
    }
   },
   "id": "27f2858a5b2e6bca"
  },
  {
   "cell_type": "code",
   "execution_count": 7,
   "outputs": [
    {
     "data": {
      "text/plain": "array([2.5, 2.5, 2.5, 2.5, 2.5, 2.5, 2.5, 2.5, 2.5, 2.5])"
     },
     "execution_count": 7,
     "metadata": {},
     "output_type": "execute_result"
    }
   ],
   "source": [
    "np.full(10, 2.5)"
   ],
   "metadata": {
    "collapsed": false,
    "ExecuteTime": {
     "end_time": "2023-09-15T03:07:23.881374Z",
     "start_time": "2023-09-15T03:07:23.874429Z"
    }
   },
   "id": "1916603d29e1502c"
  },
  {
   "cell_type": "code",
   "execution_count": 8,
   "outputs": [],
   "source": [
    "a = np.array([1,2,3,4,5,6,11,3])"
   ],
   "metadata": {
    "collapsed": false,
    "ExecuteTime": {
     "end_time": "2023-09-15T03:07:23.927189Z",
     "start_time": "2023-09-15T03:07:23.923648Z"
    }
   },
   "id": "5622f057715b1d14"
  },
  {
   "cell_type": "code",
   "execution_count": 9,
   "outputs": [
    {
     "data": {
      "text/plain": "3"
     },
     "execution_count": 9,
     "metadata": {},
     "output_type": "execute_result"
    }
   ],
   "source": [
    "a[2]"
   ],
   "metadata": {
    "collapsed": false,
    "ExecuteTime": {
     "end_time": "2023-09-15T03:07:23.940761Z",
     "start_time": "2023-09-15T03:07:23.937120Z"
    }
   },
   "id": "55397043988ba3e5"
  },
  {
   "cell_type": "code",
   "execution_count": 10,
   "outputs": [],
   "source": [
    "a[2] = 10"
   ],
   "metadata": {
    "collapsed": false,
    "ExecuteTime": {
     "end_time": "2023-09-15T03:07:24.000552Z",
     "start_time": "2023-09-15T03:07:23.998687Z"
    }
   },
   "id": "ff80815e02ee06f4"
  },
  {
   "cell_type": "code",
   "execution_count": 11,
   "outputs": [
    {
     "data": {
      "text/plain": "array([ 1,  2, 10,  4,  5,  6, 11,  3])"
     },
     "execution_count": 11,
     "metadata": {},
     "output_type": "execute_result"
    }
   ],
   "source": [
    "a"
   ],
   "metadata": {
    "collapsed": false,
    "ExecuteTime": {
     "end_time": "2023-09-15T03:07:24.005263Z",
     "start_time": "2023-09-15T03:07:24.001279Z"
    }
   },
   "id": "b63e0d1be8443436"
  },
  {
   "cell_type": "code",
   "execution_count": 12,
   "outputs": [
    {
     "data": {
      "text/plain": "array([3, 4, 5, 6, 7, 8, 9])"
     },
     "execution_count": 12,
     "metadata": {},
     "output_type": "execute_result"
    }
   ],
   "source": [
    "np.arange(3, 10)"
   ],
   "metadata": {
    "collapsed": false,
    "ExecuteTime": {
     "end_time": "2023-09-15T03:07:24.055307Z",
     "start_time": "2023-09-15T03:07:24.052500Z"
    }
   },
   "id": "803f1df771d738fe"
  },
  {
   "cell_type": "code",
   "execution_count": 13,
   "outputs": [
    {
     "data": {
      "text/plain": "array([0. , 0.1, 0.2, 0.3, 0.4, 0.5, 0.6, 0.7, 0.8, 0.9, 1. ])"
     },
     "execution_count": 13,
     "metadata": {},
     "output_type": "execute_result"
    }
   ],
   "source": [
    "np.linspace(0, 1, 11)"
   ],
   "metadata": {
    "collapsed": false,
    "ExecuteTime": {
     "end_time": "2023-09-15T03:07:24.069670Z",
     "start_time": "2023-09-15T03:07:24.066203Z"
    }
   },
   "id": "688c01e5c026a509"
  },
  {
   "cell_type": "code",
   "execution_count": 14,
   "outputs": [
    {
     "data": {
      "text/plain": "array([  0.,  10.,  20.,  30.,  40.,  50.,  60.,  70.,  80.,  90., 100.])"
     },
     "execution_count": 14,
     "metadata": {},
     "output_type": "execute_result"
    }
   ],
   "source": [
    "np.linspace(0,100,11)"
   ],
   "metadata": {
    "collapsed": false,
    "ExecuteTime": {
     "end_time": "2023-09-15T03:07:24.113230Z",
     "start_time": "2023-09-15T03:07:24.109174Z"
    }
   },
   "id": "aac7052cc11f8989"
  },
  {
   "cell_type": "code",
   "execution_count": 15,
   "outputs": [
    {
     "data": {
      "text/plain": "array([[0., 0.],\n       [0., 0.],\n       [0., 0.],\n       [0., 0.],\n       [0., 0.]])"
     },
     "execution_count": 15,
     "metadata": {},
     "output_type": "execute_result"
    }
   ],
   "source": [
    "np.zeros((5, 2))"
   ],
   "metadata": {
    "collapsed": false,
    "ExecuteTime": {
     "end_time": "2023-09-15T03:07:24.154072Z",
     "start_time": "2023-09-15T03:07:24.150304Z"
    }
   },
   "id": "6fa93ab8b28e4014"
  },
  {
   "cell_type": "code",
   "execution_count": 16,
   "outputs": [],
   "source": [
    "n = np.array([\n",
    "    [1, 2,3],\n",
    "    [4, 5, 6], \n",
    "    [7, 8, 9]\n",
    "])"
   ],
   "metadata": {
    "collapsed": false,
    "ExecuteTime": {
     "end_time": "2023-09-15T03:07:24.631840Z",
     "start_time": "2023-09-15T03:07:24.628658Z"
    }
   },
   "id": "781e152d94a844f1"
  },
  {
   "cell_type": "code",
   "execution_count": 17,
   "outputs": [
    {
     "data": {
      "text/plain": "array([[1, 2, 3],\n       [4, 5, 6],\n       [7, 8, 9]])"
     },
     "execution_count": 17,
     "metadata": {},
     "output_type": "execute_result"
    }
   ],
   "source": [
    "n"
   ],
   "metadata": {
    "collapsed": false,
    "ExecuteTime": {
     "end_time": "2023-09-15T03:07:24.801407Z",
     "start_time": "2023-09-15T03:07:24.797589Z"
    }
   },
   "id": "8a480e94621ef07"
  },
  {
   "cell_type": "code",
   "execution_count": 18,
   "outputs": [
    {
     "data": {
      "text/plain": "array([1, 2, 3])"
     },
     "execution_count": 18,
     "metadata": {},
     "output_type": "execute_result"
    }
   ],
   "source": [
    "n[0]"
   ],
   "metadata": {
    "collapsed": false,
    "ExecuteTime": {
     "end_time": "2023-09-15T03:07:24.961318Z",
     "start_time": "2023-09-15T03:07:24.957807Z"
    }
   },
   "id": "b38e0113b776a3fa"
  },
  {
   "cell_type": "code",
   "execution_count": 19,
   "outputs": [
    {
     "data": {
      "text/plain": "3"
     },
     "execution_count": 19,
     "metadata": {},
     "output_type": "execute_result"
    }
   ],
   "source": [
    "n[0][2]"
   ],
   "metadata": {
    "collapsed": false,
    "ExecuteTime": {
     "end_time": "2023-09-15T03:07:25.085960Z",
     "start_time": "2023-09-15T03:07:25.082757Z"
    }
   },
   "id": "3c9664a43ef9dd29"
  },
  {
   "cell_type": "code",
   "execution_count": 20,
   "outputs": [],
   "source": [
    "n[0][2] = 20"
   ],
   "metadata": {
    "collapsed": false,
    "ExecuteTime": {
     "end_time": "2023-09-15T03:07:25.414968Z",
     "start_time": "2023-09-15T03:07:25.409123Z"
    }
   },
   "id": "700b8d3d24032c53"
  },
  {
   "cell_type": "code",
   "execution_count": 21,
   "outputs": [
    {
     "data": {
      "text/plain": "array([[ 1,  2, 20],\n       [ 4,  5,  6],\n       [ 7,  8,  9]])"
     },
     "execution_count": 21,
     "metadata": {},
     "output_type": "execute_result"
    }
   ],
   "source": [
    "n"
   ],
   "metadata": {
    "collapsed": false,
    "ExecuteTime": {
     "end_time": "2023-09-15T03:07:25.619431Z",
     "start_time": "2023-09-15T03:07:25.615051Z"
    }
   },
   "id": "5c1cf89b18abe118"
  },
  {
   "cell_type": "code",
   "execution_count": 22,
   "outputs": [
    {
     "data": {
      "text/plain": "array([20,  6,  9])"
     },
     "execution_count": 22,
     "metadata": {},
     "output_type": "execute_result"
    }
   ],
   "source": [
    "n[:, 2]"
   ],
   "metadata": {
    "collapsed": false,
    "ExecuteTime": {
     "end_time": "2023-09-15T03:07:25.806950Z",
     "start_time": "2023-09-15T03:07:25.803609Z"
    }
   },
   "id": "36ff43de7559c973"
  },
  {
   "cell_type": "code",
   "execution_count": 23,
   "outputs": [],
   "source": [
    "n[:, 1] = [8, 8, 8]"
   ],
   "metadata": {
    "collapsed": false,
    "ExecuteTime": {
     "end_time": "2023-09-15T03:07:25.969904Z",
     "start_time": "2023-09-15T03:07:25.966566Z"
    }
   },
   "id": "e528d60506abaf72"
  },
  {
   "cell_type": "code",
   "execution_count": 24,
   "outputs": [
    {
     "data": {
      "text/plain": "array([[ 1,  8, 20],\n       [ 4,  8,  6],\n       [ 7,  8,  9]])"
     },
     "execution_count": 24,
     "metadata": {},
     "output_type": "execute_result"
    }
   ],
   "source": [
    "n"
   ],
   "metadata": {
    "collapsed": false,
    "ExecuteTime": {
     "end_time": "2023-09-15T03:07:32.394524Z",
     "start_time": "2023-09-15T03:07:32.383361Z"
    }
   },
   "id": "5c25b918d7ecc6bd"
  },
  {
   "cell_type": "code",
   "execution_count": 29,
   "outputs": [
    {
     "data": {
      "text/plain": "array([[0.4359949 , 0.02592623],\n       [0.54966248, 0.43532239],\n       [0.4203678 , 0.33033482],\n       [0.20464863, 0.61927097],\n       [0.29965467, 0.26682728]])"
     },
     "execution_count": 29,
     "metadata": {},
     "output_type": "execute_result"
    }
   ],
   "source": [
    "np.random.seed(2)\n",
    "np.random.rand(5,2)"
   ],
   "metadata": {
    "collapsed": false,
    "ExecuteTime": {
     "end_time": "2023-09-15T03:10:31.813209Z",
     "start_time": "2023-09-15T03:10:31.809079Z"
    }
   },
   "id": "16a1aab6e2ee9eca"
  },
  {
   "cell_type": "code",
   "execution_count": 30,
   "outputs": [
    {
     "data": {
      "text/plain": "array([[-0.41675785, -0.05626683],\n       [-2.1361961 ,  1.64027081],\n       [-1.79343559, -0.84174737],\n       [ 0.50288142, -1.24528809],\n       [-1.05795222, -0.90900761]])"
     },
     "execution_count": 30,
     "metadata": {},
     "output_type": "execute_result"
    }
   ],
   "source": [
    "# element wise operations\n",
    "np.random.seed(2)\n",
    "np.random.randn(5,2)\n"
   ],
   "metadata": {
    "collapsed": false,
    "ExecuteTime": {
     "end_time": "2023-09-15T03:11:21.097184Z",
     "start_time": "2023-09-15T03:11:21.087654Z"
    }
   },
   "id": "972e9bd68aad9ebb"
  },
  {
   "cell_type": "code",
   "execution_count": 31,
   "outputs": [
    {
     "data": {
      "text/plain": "array([[ -41.67578474,   -5.62668272],\n       [-213.61960957,  164.02708084],\n       [-179.34355852,  -84.17473657],\n       [  50.28814172, -124.52880866],\n       [-105.79522189,  -90.90076149]])"
     },
     "execution_count": 31,
     "metadata": {},
     "output_type": "execute_result"
    }
   ],
   "source": [
    "np.random.seed(2)\n",
    "(100 * np.random.randn(5, 2))"
   ],
   "metadata": {
    "collapsed": false,
    "ExecuteTime": {
     "end_time": "2023-09-15T03:12:04.796764Z",
     "start_time": "2023-09-15T03:12:04.787549Z"
    }
   },
   "id": "de09fb9b47cb8a2e"
  },
  {
   "cell_type": "code",
   "execution_count": 33,
   "outputs": [
    {
     "data": {
      "text/plain": "array([[39, 67],\n       [ 4, 42],\n       [51, 38],\n       [33, 58],\n       [67, 69]])"
     },
     "execution_count": 33,
     "metadata": {},
     "output_type": "execute_result"
    }
   ],
   "source": [
    "np.random.randint(low=0, high=100, size=(5,2))"
   ],
   "metadata": {
    "collapsed": false,
    "ExecuteTime": {
     "end_time": "2023-09-15T03:12:37.423932Z",
     "start_time": "2023-09-15T03:12:37.420763Z"
    }
   },
   "id": "1299d7dbf328f49d"
  },
  {
   "cell_type": "code",
   "execution_count": 35,
   "outputs": [
    {
     "data": {
      "text/plain": "array([0, 1, 2, 3, 4])"
     },
     "execution_count": 35,
     "metadata": {},
     "output_type": "execute_result"
    }
   ],
   "source": [
    "a = np.arange(5)\n",
    "a"
   ],
   "metadata": {
    "collapsed": false,
    "ExecuteTime": {
     "end_time": "2023-09-15T03:12:58.352416Z",
     "start_time": "2023-09-15T03:12:58.349939Z"
    }
   },
   "id": "e2f0cf1fece3f4a4"
  },
  {
   "cell_type": "code",
   "execution_count": 36,
   "outputs": [
    {
     "data": {
      "text/plain": "array([1, 2, 3, 4, 5])"
     },
     "execution_count": 36,
     "metadata": {},
     "output_type": "execute_result"
    }
   ],
   "source": [
    "a + 1 # this is possible because numpy"
   ],
   "metadata": {
    "collapsed": false,
    "ExecuteTime": {
     "end_time": "2023-09-15T03:13:14.843661Z",
     "start_time": "2023-09-15T03:13:14.833632Z"
    }
   },
   "id": "b79f800e5a402bfe"
  },
  {
   "cell_type": "code",
   "execution_count": 37,
   "outputs": [
    {
     "data": {
      "text/plain": "array([0, 2, 4, 6, 8])"
     },
     "execution_count": 37,
     "metadata": {},
     "output_type": "execute_result"
    }
   ],
   "source": [
    "a * 2"
   ],
   "metadata": {
    "collapsed": false,
    "ExecuteTime": {
     "end_time": "2023-09-15T03:13:44.772077Z",
     "start_time": "2023-09-15T03:13:44.762537Z"
    }
   },
   "id": "94787682bf6a3b09"
  },
  {
   "cell_type": "code",
   "execution_count": 44,
   "outputs": [
    {
     "data": {
      "text/plain": "array([100, 144, 196, 256, 324])"
     },
     "execution_count": 44,
     "metadata": {},
     "output_type": "execute_result"
    }
   ],
   "source": [
    "b = (10 + (a * 2)) ** 2\n",
    "b"
   ],
   "metadata": {
    "collapsed": false,
    "ExecuteTime": {
     "end_time": "2023-09-15T03:15:36.099365Z",
     "start_time": "2023-09-15T03:15:36.097042Z"
    }
   },
   "id": "a07b334b1ec80c21"
  },
  {
   "cell_type": "code",
   "execution_count": 42,
   "outputs": [
    {
     "data": {
      "text/plain": "array([100, 145, 198, 259, 328])"
     },
     "execution_count": 42,
     "metadata": {},
     "output_type": "execute_result"
    }
   ],
   "source": [
    "a + b"
   ],
   "metadata": {
    "collapsed": false,
    "ExecuteTime": {
     "end_time": "2023-09-15T03:15:07.367637Z",
     "start_time": "2023-09-15T03:15:07.363939Z"
    }
   },
   "id": "3bcc1934af7217f3"
  },
  {
   "cell_type": "code",
   "execution_count": 46,
   "outputs": [
    {
     "data": {
      "text/plain": "array([10.        , 10.00694444, 10.01020408, 10.01171875, 10.01234568])"
     },
     "execution_count": 46,
     "metadata": {},
     "output_type": "execute_result"
    }
   ],
   "source": [
    "a / b + 10"
   ],
   "metadata": {
    "collapsed": false,
    "ExecuteTime": {
     "end_time": "2023-09-15T03:16:02.707406Z",
     "start_time": "2023-09-15T03:16:02.700651Z"
    }
   },
   "id": "cb9fae95df83351f"
  },
  {
   "cell_type": "code",
   "execution_count": 52,
   "outputs": [
    {
     "data": {
      "text/plain": "array([False, False,  True,  True,  True])"
     },
     "execution_count": 52,
     "metadata": {},
     "output_type": "execute_result"
    }
   ],
   "source": [
    "# comparison operations\n",
    "a\n",
    "\n",
    "a >= 2"
   ],
   "metadata": {
    "collapsed": false,
    "ExecuteTime": {
     "end_time": "2023-09-15T03:16:59.499551Z",
     "start_time": "2023-09-15T03:16:59.496307Z"
    }
   },
   "id": "924da49a694151be"
  },
  {
   "cell_type": "code",
   "execution_count": 53,
   "outputs": [
    {
     "data": {
      "text/plain": "array([False, False, False, False, False])"
     },
     "execution_count": 53,
     "metadata": {},
     "output_type": "execute_result"
    }
   ],
   "source": [
    "a > b"
   ],
   "metadata": {
    "collapsed": false,
    "ExecuteTime": {
     "end_time": "2023-09-15T03:17:08.518630Z",
     "start_time": "2023-09-15T03:17:08.505140Z"
    }
   },
   "id": "f4dbaa4b4e872549"
  },
  {
   "cell_type": "code",
   "execution_count": 56,
   "outputs": [
    {
     "data": {
      "text/plain": "array([0, 1, 2, 3, 4])"
     },
     "execution_count": 56,
     "metadata": {},
     "output_type": "execute_result"
    }
   ],
   "source": [
    "a[b > a]"
   ],
   "metadata": {
    "collapsed": false,
    "ExecuteTime": {
     "end_time": "2023-09-15T03:18:30.226483Z",
     "start_time": "2023-09-15T03:18:30.223633Z"
    }
   },
   "id": "a6821e3fa11e5943"
  },
  {
   "cell_type": "code",
   "execution_count": 57,
   "outputs": [
    {
     "data": {
      "text/plain": "0"
     },
     "execution_count": 57,
     "metadata": {},
     "output_type": "execute_result"
    }
   ],
   "source": [
    "# Summarizing operations\n",
    "\n",
    "a.min()"
   ],
   "metadata": {
    "collapsed": false,
    "ExecuteTime": {
     "end_time": "2023-09-15T03:19:05.447314Z",
     "start_time": "2023-09-15T03:19:05.439715Z"
    }
   },
   "id": "a52ae82d0d29c34f"
  },
  {
   "cell_type": "code",
   "execution_count": 58,
   "outputs": [
    {
     "data": {
      "text/plain": "4"
     },
     "execution_count": 58,
     "metadata": {},
     "output_type": "execute_result"
    }
   ],
   "source": [
    "a.max()"
   ],
   "metadata": {
    "collapsed": false,
    "ExecuteTime": {
     "end_time": "2023-09-15T03:19:10.032773Z",
     "start_time": "2023-09-15T03:19:10.017473Z"
    }
   },
   "id": "6ba3e0d9f5f78b5b"
  },
  {
   "cell_type": "code",
   "execution_count": 59,
   "outputs": [
    {
     "data": {
      "text/plain": "10"
     },
     "execution_count": 59,
     "metadata": {},
     "output_type": "execute_result"
    }
   ],
   "source": [
    "a.sum()"
   ],
   "metadata": {
    "collapsed": false,
    "ExecuteTime": {
     "end_time": "2023-09-15T03:19:18.094039Z",
     "start_time": "2023-09-15T03:19:18.079078Z"
    }
   },
   "id": "b776f67ca3e42382"
  },
  {
   "cell_type": "code",
   "execution_count": 60,
   "outputs": [
    {
     "data": {
      "text/plain": "2.0"
     },
     "execution_count": 60,
     "metadata": {},
     "output_type": "execute_result"
    }
   ],
   "source": [
    "a.mean()"
   ],
   "metadata": {
    "collapsed": false,
    "ExecuteTime": {
     "end_time": "2023-09-15T03:19:26.634321Z",
     "start_time": "2023-09-15T03:19:26.622839Z"
    }
   },
   "id": "b31e88396c7834e8"
  },
  {
   "cell_type": "code",
   "execution_count": 61,
   "outputs": [
    {
     "data": {
      "text/plain": "1.4142135623730951"
     },
     "execution_count": 61,
     "metadata": {},
     "output_type": "execute_result"
    }
   ],
   "source": [
    "a.std()"
   ],
   "metadata": {
    "collapsed": false,
    "ExecuteTime": {
     "end_time": "2023-09-15T03:19:38.098598Z",
     "start_time": "2023-09-15T03:19:38.089599Z"
    }
   },
   "id": "215a969165ae40aa"
  },
  {
   "cell_type": "code",
   "execution_count": null,
   "outputs": [],
   "source": [],
   "metadata": {
    "collapsed": false
   },
   "id": "c9cc81eee18196de"
  }
 ],
 "metadata": {
  "kernelspec": {
   "display_name": "Python 3",
   "language": "python",
   "name": "python3"
  },
  "language_info": {
   "codemirror_mode": {
    "name": "ipython",
    "version": 2
   },
   "file_extension": ".py",
   "mimetype": "text/x-python",
   "name": "python",
   "nbconvert_exporter": "python",
   "pygments_lexer": "ipython2",
   "version": "2.7.6"
  }
 },
 "nbformat": 4,
 "nbformat_minor": 5
}
