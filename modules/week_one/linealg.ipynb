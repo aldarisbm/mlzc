{
 "cells": [
  {
   "cell_type": "code",
   "execution_count": 2,
   "outputs": [],
   "source": [
    "import numpy as np"
   ],
   "metadata": {
    "collapsed": false,
    "ExecuteTime": {
     "end_time": "2023-09-17T01:05:28.862246Z",
     "start_time": "2023-09-17T01:05:28.857757Z"
    }
   },
   "id": "92a818a4eb3dde43"
  },
  {
   "cell_type": "code",
   "execution_count": 3,
   "outputs": [],
   "source": [
    "u = np.array([2,4,5,6])"
   ],
   "metadata": {
    "collapsed": false,
    "ExecuteTime": {
     "end_time": "2023-09-17T01:05:38.952882Z",
     "start_time": "2023-09-17T01:05:38.950668Z"
    }
   },
   "id": "f5821967ff36093a"
  },
  {
   "cell_type": "code",
   "execution_count": 5,
   "outputs": [
    {
     "data": {
      "text/plain": "array([2, 4, 5, 6])"
     },
     "execution_count": 5,
     "metadata": {},
     "output_type": "execute_result"
    }
   ],
   "source": [
    "u"
   ],
   "metadata": {
    "collapsed": false,
    "ExecuteTime": {
     "end_time": "2023-09-17T01:05:47.393547Z",
     "start_time": "2023-09-17T01:05:47.387459Z"
    }
   },
   "id": "9f0abcaf8f5ac09c"
  },
  {
   "cell_type": "code",
   "execution_count": 7,
   "outputs": [],
   "source": [
    "v = np.array([1,0,0,2])"
   ],
   "metadata": {
    "collapsed": false,
    "ExecuteTime": {
     "end_time": "2023-09-17T01:06:04.595909Z",
     "start_time": "2023-09-17T01:06:04.593495Z"
    }
   },
   "id": "226f25739c163db7"
  },
  {
   "cell_type": "code",
   "execution_count": 8,
   "outputs": [
    {
     "data": {
      "text/plain": "array([3, 4, 5, 8])"
     },
     "execution_count": 8,
     "metadata": {},
     "output_type": "execute_result"
    }
   ],
   "source": [
    "c = u + v"
   ],
   "metadata": {
    "collapsed": false
   },
   "id": "6de09c8d279bae0d"
  },
  {
   "cell_type": "code",
   "execution_count": 9,
   "outputs": [
    {
     "data": {
      "text/plain": "array([ 4,  8, 10, 12])"
     },
     "execution_count": 9,
     "metadata": {},
     "output_type": "execute_result"
    }
   ],
   "source": [
    "u *2"
   ],
   "metadata": {
    "collapsed": false,
    "ExecuteTime": {
     "end_time": "2023-09-17T01:12:15.456672Z",
     "start_time": "2023-09-17T01:12:15.448128Z"
    }
   },
   "id": "6f4b5d66a00c2a22"
  },
  {
   "cell_type": "markdown",
   "source": [
    "Vector - Vector Multiplication"
   ],
   "metadata": {
    "collapsed": false
   },
   "id": "7a11539e91fed6dc"
  },
  {
   "cell_type": "code",
   "execution_count": 11,
   "outputs": [
    {
     "data": {
      "text/plain": "array([ 2,  0,  0, 12])"
     },
     "execution_count": 11,
     "metadata": {},
     "output_type": "execute_result"
    }
   ],
   "source": [
    "u * v"
   ],
   "metadata": {
    "collapsed": false,
    "ExecuteTime": {
     "end_time": "2023-09-17T01:14:21.619273Z",
     "start_time": "2023-09-17T01:14:21.614830Z"
    }
   },
   "id": "90f1f52d5096de4c"
  },
  {
   "cell_type": "code",
   "execution_count": 14,
   "outputs": [
    {
     "data": {
      "text/plain": "14"
     },
     "execution_count": 14,
     "metadata": {},
     "output_type": "execute_result"
    }
   ],
   "source": [
    "z = np.dot(u, v)\n",
    "z"
   ],
   "metadata": {
    "collapsed": false,
    "ExecuteTime": {
     "end_time": "2023-09-17T01:14:56.729527Z",
     "start_time": "2023-09-17T01:14:56.723007Z"
    }
   },
   "id": "57da7c10c0a9f769"
  },
  {
   "cell_type": "code",
   "execution_count": 20,
   "outputs": [],
   "source": [
    "def vect_vect_multi(a, b):\n",
    "    assert a.shape[0] == v.shape[0]\n",
    "    n = a.shape[0]\n",
    "    result = 0\n",
    "    for i in range(n):\n",
    "        result = result + a[i] * b[i]\n",
    "        \n",
    "    return result"
   ],
   "metadata": {
    "collapsed": false,
    "ExecuteTime": {
     "end_time": "2023-09-17T01:19:53.616079Z",
     "start_time": "2023-09-17T01:19:53.612301Z"
    }
   },
   "id": "725b6e64a5945f92"
  },
  {
   "cell_type": "code",
   "execution_count": 21,
   "outputs": [
    {
     "data": {
      "text/plain": "14"
     },
     "execution_count": 21,
     "metadata": {},
     "output_type": "execute_result"
    }
   ],
   "source": [
    "res = vect_vect_multi(u, v)\n",
    "\n",
    "res"
   ],
   "metadata": {
    "collapsed": false,
    "ExecuteTime": {
     "end_time": "2023-09-17T01:19:55.209999Z",
     "start_time": "2023-09-17T01:19:55.205696Z"
    }
   },
   "id": "645bfb7c7b834269"
  },
  {
   "cell_type": "code",
   "execution_count": 22,
   "outputs": [
    {
     "data": {
      "text/plain": "14"
     },
     "execution_count": 22,
     "metadata": {},
     "output_type": "execute_result"
    }
   ],
   "source": [
    "u.dot(v)"
   ],
   "metadata": {
    "collapsed": false,
    "ExecuteTime": {
     "end_time": "2023-09-17T01:21:57.287091Z",
     "start_time": "2023-09-17T01:21:57.280028Z"
    }
   },
   "id": "30d028f549028182"
  },
  {
   "cell_type": "markdown",
   "source": [
    "Matrix - Vector  Multiplication"
   ],
   "metadata": {
    "collapsed": false
   },
   "id": "fc720b8f68a8a19a"
  },
  {
   "cell_type": "code",
   "execution_count": 26,
   "outputs": [],
   "source": [
    "u = np.array([\n",
    "    [2, 4, 5, 6],\n",
    "    [1, 2, 1, 2],\n",
    "    [3, 1, 2, 1],\n",
    "])\n",
    "\n",
    "v = np.array([1, 0.5, 2, 1])"
   ],
   "metadata": {
    "collapsed": false,
    "ExecuteTime": {
     "end_time": "2023-09-17T01:32:05.487050Z",
     "start_time": "2023-09-17T01:32:05.480176Z"
    }
   },
   "id": "5bee4a6f9a7eeb15"
  },
  {
   "cell_type": "code",
   "execution_count": 27,
   "outputs": [],
   "source": [
    "def matrix_vector_multi(U, v):\n",
    "    assert U.shape[1] == v.shape[0]\n",
    "    \n",
    "    num_rows = U.shape[0]\n",
    "    result = np.zeros(num_rows)\n",
    "    \n",
    "    for i in range(num_rows):\n",
    "        result[i] = vect_vect_multi(U[i], v)\n",
    "        \n",
    "    return result\n",
    "        "
   ],
   "metadata": {
    "collapsed": false,
    "ExecuteTime": {
     "end_time": "2023-09-17T01:32:05.670774Z",
     "start_time": "2023-09-17T01:32:05.667157Z"
    }
   },
   "id": "cb63f04a931a4897"
  },
  {
   "cell_type": "code",
   "execution_count": 28,
   "outputs": [
    {
     "data": {
      "text/plain": "array([20. ,  6. ,  8.5])"
     },
     "execution_count": 28,
     "metadata": {},
     "output_type": "execute_result"
    }
   ],
   "source": [
    "res = matrix_vector_multi(u, v)\n",
    "res"
   ],
   "metadata": {
    "collapsed": false,
    "ExecuteTime": {
     "end_time": "2023-09-17T01:32:05.925511Z",
     "start_time": "2023-09-17T01:32:05.920009Z"
    }
   },
   "id": "38eece8d47044d25"
  },
  {
   "cell_type": "code",
   "execution_count": 32,
   "outputs": [
    {
     "data": {
      "text/plain": "array([20. ,  6. ,  8.5])"
     },
     "execution_count": 32,
     "metadata": {},
     "output_type": "execute_result"
    }
   ],
   "source": [
    "u.dot(v)"
   ],
   "metadata": {
    "collapsed": false,
    "ExecuteTime": {
     "end_time": "2023-09-17T01:33:25.685104Z",
     "start_time": "2023-09-17T01:33:25.679115Z"
    }
   },
   "id": "24d582227cdff25d"
  },
  {
   "cell_type": "markdown",
   "source": [
    "Matrix - Matrix multiplication"
   ],
   "metadata": {
    "collapsed": false
   },
   "id": "2717cdb4beff1906"
  },
  {
   "cell_type": "code",
   "execution_count": 36,
   "outputs": [],
   "source": [
    "U = np.array([\n",
    "    [2, 4, 5, 6],\n",
    "    [1, 2, 1, 2],\n",
    "    [3, 1, 2, 1]\n",
    "])\n",
    "\n",
    "V = np.array([\n",
    "    [1, 1, 2],\n",
    "    [0, 0.5, 1],\n",
    "    [0, 2, 1],\n",
    "    [2, 1, 0]\n",
    "])"
   ],
   "metadata": {
    "collapsed": false,
    "ExecuteTime": {
     "end_time": "2023-09-17T01:58:49.755135Z",
     "start_time": "2023-09-17T01:58:49.749917Z"
    }
   },
   "id": "bc37e9f27163e79d"
  },
  {
   "cell_type": "code",
   "execution_count": 34,
   "outputs": [
    {
     "data": {
      "text/plain": "array([[14. , 20. , 13. ],\n       [ 5. ,  6. ,  5. ],\n       [ 5. ,  8.5,  9. ]])"
     },
     "execution_count": 34,
     "metadata": {},
     "output_type": "execute_result"
    }
   ],
   "source": [
    "U.dot(V)"
   ],
   "metadata": {
    "collapsed": false,
    "ExecuteTime": {
     "end_time": "2023-09-17T01:52:35.666515Z",
     "start_time": "2023-09-17T01:52:35.658443Z"
    }
   },
   "id": "3b277a420e277543"
  },
  {
   "cell_type": "code",
   "execution_count": 35,
   "outputs": [
    {
     "data": {
      "text/plain": "array([[ 9. ,  8. , 10. , 10. ],\n       [ 3.5,  2. ,  2.5,  2. ],\n       [ 5. ,  5. ,  4. ,  5. ],\n       [ 5. , 10. , 11. , 14. ]])"
     },
     "execution_count": 35,
     "metadata": {},
     "output_type": "execute_result"
    }
   ],
   "source": [
    "V.dot(U)"
   ],
   "metadata": {
    "collapsed": false,
    "ExecuteTime": {
     "end_time": "2023-09-17T01:52:48.580731Z",
     "start_time": "2023-09-17T01:52:48.569162Z"
    }
   },
   "id": "c213c8135a85aacf"
  },
  {
   "cell_type": "code",
   "execution_count": 39,
   "outputs": [],
   "source": [
    "def matrix_matrix_multi(U,V):\n",
    "    assert U.shape[1] == V.shape[0]\n",
    "    \n",
    "    num_rows = U.shape[0]\n",
    "    num_cols = V.shape[1]\n",
    "    \n",
    "    \n",
    "    res = np.zeros((num_rows, num_cols))\n",
    "    \n",
    "    for i in range(num_cols):\n",
    "        vi = V[:, i]\n",
    "        Uvi = matrix_vector_multi(U, vi)\n",
    "        res[:, i] = Uvi\n",
    "        \n",
    "    return res"
   ],
   "metadata": {
    "collapsed": false,
    "ExecuteTime": {
     "end_time": "2023-09-17T02:03:30.697110Z",
     "start_time": "2023-09-17T02:03:30.691510Z"
    }
   },
   "id": "b97f83c13379d841"
  },
  {
   "cell_type": "code",
   "execution_count": 40,
   "outputs": [
    {
     "data": {
      "text/plain": "array([[14. , 20. , 13. ],\n       [ 5. ,  6. ,  5. ],\n       [ 5. ,  8.5,  9. ]])"
     },
     "execution_count": 40,
     "metadata": {},
     "output_type": "execute_result"
    }
   ],
   "source": [
    "matrix_matrix_multi(U, V)"
   ],
   "metadata": {
    "collapsed": false,
    "ExecuteTime": {
     "end_time": "2023-09-17T02:03:30.949264Z",
     "start_time": "2023-09-17T02:03:30.942628Z"
    }
   },
   "id": "36ba154cbb270d70"
  },
  {
   "cell_type": "markdown",
   "source": [
    "### Identity Matrix : I"
   ],
   "metadata": {
    "collapsed": false
   },
   "id": "20992ece065dc1dd"
  },
  {
   "cell_type": "code",
   "execution_count": 41,
   "outputs": [
    {
     "data": {
      "text/plain": "array([[1., 0., 0., 0., 0., 0., 0., 0., 0., 0.],\n       [0., 1., 0., 0., 0., 0., 0., 0., 0., 0.],\n       [0., 0., 1., 0., 0., 0., 0., 0., 0., 0.],\n       [0., 0., 0., 1., 0., 0., 0., 0., 0., 0.],\n       [0., 0., 0., 0., 1., 0., 0., 0., 0., 0.],\n       [0., 0., 0., 0., 0., 1., 0., 0., 0., 0.],\n       [0., 0., 0., 0., 0., 0., 1., 0., 0., 0.],\n       [0., 0., 0., 0., 0., 0., 0., 1., 0., 0.],\n       [0., 0., 0., 0., 0., 0., 0., 0., 1., 0.],\n       [0., 0., 0., 0., 0., 0., 0., 0., 0., 1.]])"
     },
     "execution_count": 41,
     "metadata": {},
     "output_type": "execute_result"
    }
   ],
   "source": [
    "u = [\n",
    "    [1, 0, 0, 0],\n",
    "    [0, 1, 0, 0],\n",
    "    [0, 0, 1, 0],\n",
    "    [0, 0, 0, 1]\n",
    "]\n",
    "\n",
    "np.eye(10)"
   ],
   "metadata": {
    "collapsed": false,
    "ExecuteTime": {
     "end_time": "2023-09-17T02:07:09.184592Z",
     "start_time": "2023-09-17T02:07:09.165823Z"
    }
   },
   "id": "af918d1eb1b9c595"
  },
  {
   "cell_type": "code",
   "execution_count": 42,
   "outputs": [
    {
     "data": {
      "text/plain": "array([[1., 0., 0.],\n       [0., 1., 0.],\n       [0., 0., 1.]])"
     },
     "execution_count": 42,
     "metadata": {},
     "output_type": "execute_result"
    }
   ],
   "source": [
    "np.eye(3)"
   ],
   "metadata": {
    "collapsed": false,
    "ExecuteTime": {
     "end_time": "2023-09-17T02:07:28.455703Z",
     "start_time": "2023-09-17T02:07:28.439534Z"
    }
   },
   "id": "5e5a02c4bf201bd"
  },
  {
   "cell_type": "code",
   "execution_count": 43,
   "outputs": [
    {
     "data": {
      "text/plain": "array([[1. , 1. , 2. ],\n       [0. , 0.5, 1. ],\n       [0. , 2. , 1. ],\n       [2. , 1. , 0. ]])"
     },
     "execution_count": 43,
     "metadata": {},
     "output_type": "execute_result"
    }
   ],
   "source": [
    "ee = np.eye(3)\n",
    "V.dot(ee)"
   ],
   "metadata": {
    "collapsed": false,
    "ExecuteTime": {
     "end_time": "2023-09-17T02:08:03.031769Z",
     "start_time": "2023-09-17T02:08:03.015879Z"
    }
   },
   "id": "bf202f0f770067db"
  },
  {
   "cell_type": "markdown",
   "source": [
    "### Matrix Inverse\n",
    "\n",
    "Only possible for square matrices"
   ],
   "metadata": {
    "collapsed": false
   },
   "id": "7be3a3f44979812f"
  },
  {
   "cell_type": "code",
   "execution_count": 44,
   "outputs": [
    {
     "data": {
      "text/plain": "array([[1. , 1. , 2. ],\n       [0. , 0.5, 1. ],\n       [0. , 2. , 1. ]])"
     },
     "execution_count": 44,
     "metadata": {},
     "output_type": "execute_result"
    }
   ],
   "source": [
    "Vs =  V[[0, 1, 2]]\n",
    "Vs"
   ],
   "metadata": {
    "collapsed": false,
    "ExecuteTime": {
     "end_time": "2023-09-17T02:08:51.619001Z",
     "start_time": "2023-09-17T02:08:51.608220Z"
    }
   },
   "id": "be9128cf93a0c54c"
  },
  {
   "cell_type": "code",
   "execution_count": 46,
   "outputs": [],
   "source": [
    "Vs_inv = np.linalg.inv(Vs)"
   ],
   "metadata": {
    "collapsed": false,
    "ExecuteTime": {
     "end_time": "2023-09-17T02:09:17.528148Z",
     "start_time": "2023-09-17T02:09:17.525473Z"
    }
   },
   "id": "a7a936a0a0e6dc11"
  },
  {
   "cell_type": "code",
   "execution_count": 47,
   "outputs": [
    {
     "data": {
      "text/plain": "array([[1., 0., 0.],\n       [0., 1., 0.],\n       [0., 0., 1.]])"
     },
     "execution_count": 47,
     "metadata": {},
     "output_type": "execute_result"
    }
   ],
   "source": [
    "Vs_inv.dot(Vs)"
   ],
   "metadata": {
    "collapsed": false,
    "ExecuteTime": {
     "end_time": "2023-09-17T02:09:36.412907Z",
     "start_time": "2023-09-17T02:09:36.400706Z"
    }
   },
   "id": "9518237d8284eb2d"
  },
  {
   "cell_type": "code",
   "execution_count": null,
   "outputs": [],
   "source": [],
   "metadata": {
    "collapsed": false
   },
   "id": "2a8b5f0b94d4d85e"
  }
 ],
 "metadata": {
  "kernelspec": {
   "display_name": "Python 3",
   "language": "python",
   "name": "python3"
  },
  "language_info": {
   "codemirror_mode": {
    "name": "ipython",
    "version": 2
   },
   "file_extension": ".py",
   "mimetype": "text/x-python",
   "name": "python",
   "nbconvert_exporter": "python",
   "pygments_lexer": "ipython2",
   "version": "2.7.6"
  }
 },
 "nbformat": 4,
 "nbformat_minor": 5
}
