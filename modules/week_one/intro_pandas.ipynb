{
 "cells": [
  {
   "cell_type": "markdown",
   "source": [
    "# Intro to pandas"
   ],
   "metadata": {
    "collapsed": false
   },
   "id": "960ac637d1c13d1e"
  },
  {
   "cell_type": "code",
   "execution_count": 3,
   "outputs": [],
   "source": [
    "import pandas as pd\n",
    "import numpy as np"
   ],
   "metadata": {
    "collapsed": false,
    "ExecuteTime": {
     "end_time": "2023-09-17T02:11:56.924710Z",
     "start_time": "2023-09-17T02:11:56.920584Z"
    }
   },
   "id": "c64db480b108b665"
  },
  {
   "cell_type": "code",
   "execution_count": 4,
   "outputs": [],
   "source": [
    "data = [\n",
    "    ['Nissan', 'Stanza', 1991, 138, 4, 'MANUAL', 'sedan', 2000],\n",
    "    ['Hyundai', 'Sonata', 2017, None, 4, 'AUTOMATIC', 'Sedan', 27150],\n",
    "    ['Lotus', 'Elise', 2010, 218, 4, 'MANUAL', 'convertible', 54990],\n",
    "    ['GMC', 'Acadia',  2017, 194, 4, 'AUTOMATIC', '4dr SUV', 34450],\n",
    "    ['Nissan', 'Frontier', 2017, 261, 6, 'MANUAL', 'Pickup', 32340],\n",
    "]\n",
    "\n",
    "columns = [\n",
    "    'Make', 'Model', 'Year', 'Engine HP', 'Engine Cylinders',\n",
    "    'Transmission Type', 'Vehicle_Style', 'MSRP'\n",
    "]"
   ],
   "metadata": {
    "collapsed": false,
    "ExecuteTime": {
     "end_time": "2023-09-17T02:12:37.945822Z",
     "start_time": "2023-09-17T02:12:37.941386Z"
    }
   },
   "id": "6fb7eec4f6bd5132"
  },
  {
   "cell_type": "code",
   "execution_count": 13,
   "outputs": [
    {
     "data": {
      "text/plain": "      Make     Model  Year  Engine HP  Engine Cylinders Transmission Type  \\\n0   Nissan    Stanza  1991      138.0                 4            MANUAL   \n1  Hyundai    Sonata  2017        NaN                 4         AUTOMATIC   \n2    Lotus     Elise  2010      218.0                 4            MANUAL   \n3      GMC    Acadia  2017      194.0                 4         AUTOMATIC   \n4   Nissan  Frontier  2017      261.0                 6            MANUAL   \n\n  Vehicle_Style   MSRP  \n0         sedan   2000  \n1         Sedan  27150  \n2   convertible  54990  \n3       4dr SUV  34450  \n4        Pickup  32340  ",
      "text/html": "<div>\n<style scoped>\n    .dataframe tbody tr th:only-of-type {\n        vertical-align: middle;\n    }\n\n    .dataframe tbody tr th {\n        vertical-align: top;\n    }\n\n    .dataframe thead th {\n        text-align: right;\n    }\n</style>\n<table border=\"1\" class=\"dataframe\">\n  <thead>\n    <tr style=\"text-align: right;\">\n      <th></th>\n      <th>Make</th>\n      <th>Model</th>\n      <th>Year</th>\n      <th>Engine HP</th>\n      <th>Engine Cylinders</th>\n      <th>Transmission Type</th>\n      <th>Vehicle_Style</th>\n      <th>MSRP</th>\n    </tr>\n  </thead>\n  <tbody>\n    <tr>\n      <th>0</th>\n      <td>Nissan</td>\n      <td>Stanza</td>\n      <td>1991</td>\n      <td>138.0</td>\n      <td>4</td>\n      <td>MANUAL</td>\n      <td>sedan</td>\n      <td>2000</td>\n    </tr>\n    <tr>\n      <th>1</th>\n      <td>Hyundai</td>\n      <td>Sonata</td>\n      <td>2017</td>\n      <td>NaN</td>\n      <td>4</td>\n      <td>AUTOMATIC</td>\n      <td>Sedan</td>\n      <td>27150</td>\n    </tr>\n    <tr>\n      <th>2</th>\n      <td>Lotus</td>\n      <td>Elise</td>\n      <td>2010</td>\n      <td>218.0</td>\n      <td>4</td>\n      <td>MANUAL</td>\n      <td>convertible</td>\n      <td>54990</td>\n    </tr>\n    <tr>\n      <th>3</th>\n      <td>GMC</td>\n      <td>Acadia</td>\n      <td>2017</td>\n      <td>194.0</td>\n      <td>4</td>\n      <td>AUTOMATIC</td>\n      <td>4dr SUV</td>\n      <td>34450</td>\n    </tr>\n    <tr>\n      <th>4</th>\n      <td>Nissan</td>\n      <td>Frontier</td>\n      <td>2017</td>\n      <td>261.0</td>\n      <td>6</td>\n      <td>MANUAL</td>\n      <td>Pickup</td>\n      <td>32340</td>\n    </tr>\n  </tbody>\n</table>\n</div>"
     },
     "execution_count": 13,
     "metadata": {},
     "output_type": "execute_result"
    }
   ],
   "source": [
    "df = pd.DataFrame(data, columns=columns)\n",
    "df"
   ],
   "metadata": {
    "collapsed": false,
    "ExecuteTime": {
     "start_time": "2023-09-17T02:20:57.800974Z"
    }
   },
   "id": "8f91b0fcba6052d5"
  },
  {
   "cell_type": "markdown",
   "source": [
    "head can be used to retrieve the first n items, useful when working with large datasets, and want to take a look at the shape of the data. \n",
    "default is 5"
   ],
   "metadata": {
    "collapsed": false
   },
   "id": "dddb6bc6c8ce53b2"
  },
  {
   "cell_type": "code",
   "execution_count": 15,
   "outputs": [
    {
     "data": {
      "text/plain": "      Make   Model  Year  Engine HP  Engine Cylinders Transmission Type  \\\n0   Nissan  Stanza  1991      138.0                 4            MANUAL   \n1  Hyundai  Sonata  2017        NaN                 4         AUTOMATIC   \n\n  Vehicle_Style   MSRP  \n0         sedan   2000  \n1         Sedan  27150  ",
      "text/html": "<div>\n<style scoped>\n    .dataframe tbody tr th:only-of-type {\n        vertical-align: middle;\n    }\n\n    .dataframe tbody tr th {\n        vertical-align: top;\n    }\n\n    .dataframe thead th {\n        text-align: right;\n    }\n</style>\n<table border=\"1\" class=\"dataframe\">\n  <thead>\n    <tr style=\"text-align: right;\">\n      <th></th>\n      <th>Make</th>\n      <th>Model</th>\n      <th>Year</th>\n      <th>Engine HP</th>\n      <th>Engine Cylinders</th>\n      <th>Transmission Type</th>\n      <th>Vehicle_Style</th>\n      <th>MSRP</th>\n    </tr>\n  </thead>\n  <tbody>\n    <tr>\n      <th>0</th>\n      <td>Nissan</td>\n      <td>Stanza</td>\n      <td>1991</td>\n      <td>138.0</td>\n      <td>4</td>\n      <td>MANUAL</td>\n      <td>sedan</td>\n      <td>2000</td>\n    </tr>\n    <tr>\n      <th>1</th>\n      <td>Hyundai</td>\n      <td>Sonata</td>\n      <td>2017</td>\n      <td>NaN</td>\n      <td>4</td>\n      <td>AUTOMATIC</td>\n      <td>Sedan</td>\n      <td>27150</td>\n    </tr>\n  </tbody>\n</table>\n</div>"
     },
     "execution_count": 15,
     "metadata": {},
     "output_type": "execute_result"
    }
   ],
   "source": [
    "df.head(n=2)"
   ],
   "metadata": {
    "collapsed": false,
    "ExecuteTime": {
     "end_time": "2023-09-17T02:23:10.779289Z",
     "start_time": "2023-09-17T02:23:10.776508Z"
    }
   },
   "id": "cf7c5f35e522f58"
  },
  {
   "cell_type": "code",
   "execution_count": 17,
   "outputs": [
    {
     "data": {
      "text/plain": "0     Nissan\n1    Hyundai\n2      Lotus\n3        GMC\n4     Nissan\nName: Make, dtype: object"
     },
     "execution_count": 17,
     "metadata": {},
     "output_type": "execute_result"
    }
   ],
   "source": [
    "df.Make"
   ],
   "metadata": {
    "collapsed": false,
    "ExecuteTime": {
     "end_time": "2023-09-17T02:23:46.696950Z",
     "start_time": "2023-09-17T02:23:46.688457Z"
    }
   },
   "id": "b6f0bd7b2e5c0ab7"
  },
  {
   "cell_type": "code",
   "execution_count": 18,
   "outputs": [
    {
     "data": {
      "text/plain": "0      Stanza\n1      Sonata\n2       Elise\n3      Acadia\n4    Frontier\nName: Model, dtype: object"
     },
     "execution_count": 18,
     "metadata": {},
     "output_type": "execute_result"
    }
   ],
   "source": [
    "df.Model"
   ],
   "metadata": {
    "collapsed": false,
    "ExecuteTime": {
     "end_time": "2023-09-17T02:23:53.581848Z",
     "start_time": "2023-09-17T02:23:53.575224Z"
    }
   },
   "id": "11f67ac7eeedd250"
  },
  {
   "cell_type": "code",
   "execution_count": 19,
   "outputs": [
    {
     "data": {
      "text/plain": "0      Stanza\n1      Sonata\n2       Elise\n3      Acadia\n4    Frontier\nName: Model, dtype: object"
     },
     "execution_count": 19,
     "metadata": {},
     "output_type": "execute_result"
    }
   ],
   "source": [
    "df['Model']"
   ],
   "metadata": {
    "collapsed": false,
    "ExecuteTime": {
     "end_time": "2023-09-17T02:23:59.384133Z",
     "start_time": "2023-09-17T02:23:59.377523Z"
    }
   },
   "id": "263930dd085089e3"
  },
  {
   "cell_type": "code",
   "execution_count": 20,
   "outputs": [
    {
     "data": {
      "text/plain": "0    138.0\n1      NaN\n2    218.0\n3    194.0\n4    261.0\nName: Engine HP, dtype: float64"
     },
     "execution_count": 20,
     "metadata": {},
     "output_type": "execute_result"
    }
   ],
   "source": [
    "df['Engine HP']"
   ],
   "metadata": {
    "collapsed": false,
    "ExecuteTime": {
     "end_time": "2023-09-17T02:24:27.288438Z",
     "start_time": "2023-09-17T02:24:27.282822Z"
    }
   },
   "id": "2a7dbc55f655837c"
  },
  {
   "cell_type": "markdown",
   "source": [
    "you can also access a subset of your data as:"
   ],
   "metadata": {
    "collapsed": false
   },
   "id": "f3aeae7da32d6b43"
  },
  {
   "cell_type": "code",
   "execution_count": 22,
   "outputs": [
    {
     "data": {
      "text/plain": "      Make     Model   MSRP\n0   Nissan    Stanza   2000\n1  Hyundai    Sonata  27150\n2    Lotus     Elise  54990\n3      GMC    Acadia  34450\n4   Nissan  Frontier  32340",
      "text/html": "<div>\n<style scoped>\n    .dataframe tbody tr th:only-of-type {\n        vertical-align: middle;\n    }\n\n    .dataframe tbody tr th {\n        vertical-align: top;\n    }\n\n    .dataframe thead th {\n        text-align: right;\n    }\n</style>\n<table border=\"1\" class=\"dataframe\">\n  <thead>\n    <tr style=\"text-align: right;\">\n      <th></th>\n      <th>Make</th>\n      <th>Model</th>\n      <th>MSRP</th>\n    </tr>\n  </thead>\n  <tbody>\n    <tr>\n      <th>0</th>\n      <td>Nissan</td>\n      <td>Stanza</td>\n      <td>2000</td>\n    </tr>\n    <tr>\n      <th>1</th>\n      <td>Hyundai</td>\n      <td>Sonata</td>\n      <td>27150</td>\n    </tr>\n    <tr>\n      <th>2</th>\n      <td>Lotus</td>\n      <td>Elise</td>\n      <td>54990</td>\n    </tr>\n    <tr>\n      <th>3</th>\n      <td>GMC</td>\n      <td>Acadia</td>\n      <td>34450</td>\n    </tr>\n    <tr>\n      <th>4</th>\n      <td>Nissan</td>\n      <td>Frontier</td>\n      <td>32340</td>\n    </tr>\n  </tbody>\n</table>\n</div>"
     },
     "execution_count": 22,
     "metadata": {},
     "output_type": "execute_result"
    }
   ],
   "source": [
    "df[['Make', 'Model', 'MSRP']]"
   ],
   "metadata": {
    "collapsed": false,
    "ExecuteTime": {
     "end_time": "2023-09-17T02:25:27.382980Z",
     "start_time": "2023-09-17T02:25:27.375752Z"
    }
   },
   "id": "2898ca130068466b"
  },
  {
   "cell_type": "code",
   "execution_count": 29,
   "outputs": [],
   "source": [
    "# You can add a column as such:\n",
    "df ['id'] = [1, 2, 3 ,4, 5]"
   ],
   "metadata": {
    "collapsed": false,
    "ExecuteTime": {
     "end_time": "2023-09-17T02:26:39.943549Z",
     "start_time": "2023-09-17T02:26:39.933036Z"
    }
   },
   "id": "4c3355dedc958a4f"
  },
  {
   "cell_type": "code",
   "execution_count": 30,
   "outputs": [
    {
     "data": {
      "text/plain": "      Make     Model  Year  Engine HP  Engine Cylinders Transmission Type  \\\n0   Nissan    Stanza  1991      138.0                 4            MANUAL   \n1  Hyundai    Sonata  2017        NaN                 4         AUTOMATIC   \n2    Lotus     Elise  2010      218.0                 4            MANUAL   \n3      GMC    Acadia  2017      194.0                 4         AUTOMATIC   \n4   Nissan  Frontier  2017      261.0                 6            MANUAL   \n\n  Vehicle_Style   MSRP  id  \n0         sedan   2000   1  \n1         Sedan  27150   2  \n2   convertible  54990   3  \n3       4dr SUV  34450   4  \n4        Pickup  32340   5  ",
      "text/html": "<div>\n<style scoped>\n    .dataframe tbody tr th:only-of-type {\n        vertical-align: middle;\n    }\n\n    .dataframe tbody tr th {\n        vertical-align: top;\n    }\n\n    .dataframe thead th {\n        text-align: right;\n    }\n</style>\n<table border=\"1\" class=\"dataframe\">\n  <thead>\n    <tr style=\"text-align: right;\">\n      <th></th>\n      <th>Make</th>\n      <th>Model</th>\n      <th>Year</th>\n      <th>Engine HP</th>\n      <th>Engine Cylinders</th>\n      <th>Transmission Type</th>\n      <th>Vehicle_Style</th>\n      <th>MSRP</th>\n      <th>id</th>\n    </tr>\n  </thead>\n  <tbody>\n    <tr>\n      <th>0</th>\n      <td>Nissan</td>\n      <td>Stanza</td>\n      <td>1991</td>\n      <td>138.0</td>\n      <td>4</td>\n      <td>MANUAL</td>\n      <td>sedan</td>\n      <td>2000</td>\n      <td>1</td>\n    </tr>\n    <tr>\n      <th>1</th>\n      <td>Hyundai</td>\n      <td>Sonata</td>\n      <td>2017</td>\n      <td>NaN</td>\n      <td>4</td>\n      <td>AUTOMATIC</td>\n      <td>Sedan</td>\n      <td>27150</td>\n      <td>2</td>\n    </tr>\n    <tr>\n      <th>2</th>\n      <td>Lotus</td>\n      <td>Elise</td>\n      <td>2010</td>\n      <td>218.0</td>\n      <td>4</td>\n      <td>MANUAL</td>\n      <td>convertible</td>\n      <td>54990</td>\n      <td>3</td>\n    </tr>\n    <tr>\n      <th>3</th>\n      <td>GMC</td>\n      <td>Acadia</td>\n      <td>2017</td>\n      <td>194.0</td>\n      <td>4</td>\n      <td>AUTOMATIC</td>\n      <td>4dr SUV</td>\n      <td>34450</td>\n      <td>4</td>\n    </tr>\n    <tr>\n      <th>4</th>\n      <td>Nissan</td>\n      <td>Frontier</td>\n      <td>2017</td>\n      <td>261.0</td>\n      <td>6</td>\n      <td>MANUAL</td>\n      <td>Pickup</td>\n      <td>32340</td>\n      <td>5</td>\n    </tr>\n  </tbody>\n</table>\n</div>"
     },
     "execution_count": 30,
     "metadata": {},
     "output_type": "execute_result"
    }
   ],
   "source": [
    "df"
   ],
   "metadata": {
    "collapsed": false,
    "ExecuteTime": {
     "end_time": "2023-09-17T02:26:40.083510Z",
     "start_time": "2023-09-17T02:26:40.076167Z"
    }
   },
   "id": "bc213cc16888eebb"
  },
  {
   "cell_type": "code",
   "execution_count": 31,
   "outputs": [
    {
     "data": {
      "text/plain": "0    1\n1    2\n2    3\n3    4\n4    5\nName: id, dtype: int64"
     },
     "execution_count": 31,
     "metadata": {},
     "output_type": "execute_result"
    }
   ],
   "source": [
    "df['id']"
   ],
   "metadata": {
    "collapsed": false,
    "ExecuteTime": {
     "end_time": "2023-09-17T02:26:40.244020Z",
     "start_time": "2023-09-17T02:26:40.240769Z"
    }
   },
   "id": "71754bed3e1d7721"
  },
  {
   "cell_type": "code",
   "execution_count": 38,
   "outputs": [],
   "source": [
    "del df['id']"
   ],
   "metadata": {
    "collapsed": false,
    "ExecuteTime": {
     "end_time": "2023-09-17T02:28:06.750941Z",
     "start_time": "2023-09-17T02:28:06.747824Z"
    }
   },
   "id": "a75efd5e1ff5bfd0"
  },
  {
   "cell_type": "code",
   "execution_count": 39,
   "outputs": [
    {
     "data": {
      "text/plain": "      Make     Model  Year  Engine HP  Engine Cylinders Transmission Type  \\\n0   Nissan    Stanza  1991      138.0                 4            MANUAL   \n1  Hyundai    Sonata  2017        NaN                 4         AUTOMATIC   \n2    Lotus     Elise  2010      218.0                 4            MANUAL   \n3      GMC    Acadia  2017      194.0                 4         AUTOMATIC   \n4   Nissan  Frontier  2017      261.0                 6            MANUAL   \n\n  Vehicle_Style   MSRP  \n0         sedan   2000  \n1         Sedan  27150  \n2   convertible  54990  \n3       4dr SUV  34450  \n4        Pickup  32340  ",
      "text/html": "<div>\n<style scoped>\n    .dataframe tbody tr th:only-of-type {\n        vertical-align: middle;\n    }\n\n    .dataframe tbody tr th {\n        vertical-align: top;\n    }\n\n    .dataframe thead th {\n        text-align: right;\n    }\n</style>\n<table border=\"1\" class=\"dataframe\">\n  <thead>\n    <tr style=\"text-align: right;\">\n      <th></th>\n      <th>Make</th>\n      <th>Model</th>\n      <th>Year</th>\n      <th>Engine HP</th>\n      <th>Engine Cylinders</th>\n      <th>Transmission Type</th>\n      <th>Vehicle_Style</th>\n      <th>MSRP</th>\n    </tr>\n  </thead>\n  <tbody>\n    <tr>\n      <th>0</th>\n      <td>Nissan</td>\n      <td>Stanza</td>\n      <td>1991</td>\n      <td>138.0</td>\n      <td>4</td>\n      <td>MANUAL</td>\n      <td>sedan</td>\n      <td>2000</td>\n    </tr>\n    <tr>\n      <th>1</th>\n      <td>Hyundai</td>\n      <td>Sonata</td>\n      <td>2017</td>\n      <td>NaN</td>\n      <td>4</td>\n      <td>AUTOMATIC</td>\n      <td>Sedan</td>\n      <td>27150</td>\n    </tr>\n    <tr>\n      <th>2</th>\n      <td>Lotus</td>\n      <td>Elise</td>\n      <td>2010</td>\n      <td>218.0</td>\n      <td>4</td>\n      <td>MANUAL</td>\n      <td>convertible</td>\n      <td>54990</td>\n    </tr>\n    <tr>\n      <th>3</th>\n      <td>GMC</td>\n      <td>Acadia</td>\n      <td>2017</td>\n      <td>194.0</td>\n      <td>4</td>\n      <td>AUTOMATIC</td>\n      <td>4dr SUV</td>\n      <td>34450</td>\n    </tr>\n    <tr>\n      <th>4</th>\n      <td>Nissan</td>\n      <td>Frontier</td>\n      <td>2017</td>\n      <td>261.0</td>\n      <td>6</td>\n      <td>MANUAL</td>\n      <td>Pickup</td>\n      <td>32340</td>\n    </tr>\n  </tbody>\n</table>\n</div>"
     },
     "execution_count": 39,
     "metadata": {},
     "output_type": "execute_result"
    }
   ],
   "source": [
    "df"
   ],
   "metadata": {
    "collapsed": false,
    "ExecuteTime": {
     "end_time": "2023-09-17T02:28:08.337150Z",
     "start_time": "2023-09-17T02:28:08.332968Z"
    }
   },
   "id": "554e8c185db7a491"
  },
  {
   "cell_type": "markdown",
   "source": [
    "Index:"
   ],
   "metadata": {
    "collapsed": false
   },
   "id": "af25758b302eaf54"
  },
  {
   "cell_type": "code",
   "execution_count": 40,
   "outputs": [
    {
     "data": {
      "text/plain": "RangeIndex(start=0, stop=5, step=1)"
     },
     "execution_count": 40,
     "metadata": {},
     "output_type": "execute_result"
    }
   ],
   "source": [
    "df.index"
   ],
   "metadata": {
    "collapsed": false,
    "ExecuteTime": {
     "end_time": "2023-09-17T02:28:41.392435Z",
     "start_time": "2023-09-17T02:28:41.383142Z"
    }
   },
   "id": "6694da03a5992795"
  },
  {
   "cell_type": "code",
   "execution_count": 42,
   "outputs": [
    {
     "data": {
      "text/plain": "RangeIndex(start=0, stop=5, step=1)"
     },
     "execution_count": 42,
     "metadata": {},
     "output_type": "execute_result"
    }
   ],
   "source": [
    "df.Make.index"
   ],
   "metadata": {
    "collapsed": false,
    "ExecuteTime": {
     "end_time": "2023-09-17T02:29:11.376750Z",
     "start_time": "2023-09-17T02:29:11.368073Z"
    }
   },
   "id": "97698e4f9feaed99"
  },
  {
   "cell_type": "code",
   "execution_count": 43,
   "outputs": [
    {
     "data": {
      "text/plain": "Make                   Hyundai\nModel                   Sonata\nYear                      2017\nEngine HP                  NaN\nEngine Cylinders             4\nTransmission Type    AUTOMATIC\nVehicle_Style            Sedan\nMSRP                     27150\nName: 1, dtype: object"
     },
     "execution_count": 43,
     "metadata": {},
     "output_type": "execute_result"
    }
   ],
   "source": [
    "df.loc[1]"
   ],
   "metadata": {
    "collapsed": false,
    "ExecuteTime": {
     "end_time": "2023-09-17T02:29:31.732940Z",
     "start_time": "2023-09-17T02:29:31.724197Z"
    }
   },
   "id": "d161059c4af30463"
  },
  {
   "cell_type": "code",
   "execution_count": 44,
   "outputs": [
    {
     "data": {
      "text/plain": "      Make   Model  Year  Engine HP  Engine Cylinders Transmission Type  \\\n1  Hyundai  Sonata  2017        NaN                 4         AUTOMATIC   \n2    Lotus   Elise  2010      218.0                 4            MANUAL   \n\n  Vehicle_Style   MSRP  \n1         Sedan  27150  \n2   convertible  54990  ",
      "text/html": "<div>\n<style scoped>\n    .dataframe tbody tr th:only-of-type {\n        vertical-align: middle;\n    }\n\n    .dataframe tbody tr th {\n        vertical-align: top;\n    }\n\n    .dataframe thead th {\n        text-align: right;\n    }\n</style>\n<table border=\"1\" class=\"dataframe\">\n  <thead>\n    <tr style=\"text-align: right;\">\n      <th></th>\n      <th>Make</th>\n      <th>Model</th>\n      <th>Year</th>\n      <th>Engine HP</th>\n      <th>Engine Cylinders</th>\n      <th>Transmission Type</th>\n      <th>Vehicle_Style</th>\n      <th>MSRP</th>\n    </tr>\n  </thead>\n  <tbody>\n    <tr>\n      <th>1</th>\n      <td>Hyundai</td>\n      <td>Sonata</td>\n      <td>2017</td>\n      <td>NaN</td>\n      <td>4</td>\n      <td>AUTOMATIC</td>\n      <td>Sedan</td>\n      <td>27150</td>\n    </tr>\n    <tr>\n      <th>2</th>\n      <td>Lotus</td>\n      <td>Elise</td>\n      <td>2010</td>\n      <td>218.0</td>\n      <td>4</td>\n      <td>MANUAL</td>\n      <td>convertible</td>\n      <td>54990</td>\n    </tr>\n  </tbody>\n</table>\n</div>"
     },
     "execution_count": 44,
     "metadata": {},
     "output_type": "execute_result"
    }
   ],
   "source": [
    "df.loc[[1,2]]"
   ],
   "metadata": {
    "collapsed": false,
    "ExecuteTime": {
     "end_time": "2023-09-17T02:29:57.986190Z",
     "start_time": "2023-09-17T02:29:57.979760Z"
    }
   },
   "id": "3f692bff55ab75f8"
  },
  {
   "cell_type": "code",
   "execution_count": 58,
   "outputs": [],
   "source": [
    "df.index = ['a', 'b', 'c', 'd', 'e']"
   ],
   "metadata": {
    "collapsed": false,
    "ExecuteTime": {
     "end_time": "2023-09-17T02:33:14.271368Z",
     "start_time": "2023-09-17T02:33:14.257387Z"
    }
   },
   "id": "6726c61d23374061"
  },
  {
   "cell_type": "code",
   "execution_count": 59,
   "outputs": [
    {
     "data": {
      "text/plain": "      Make     Model  Year  Engine HP  Engine Cylinders Transmission Type  \\\na   Nissan    Stanza  1991      138.0                 4            MANUAL   \nb  Hyundai    Sonata  2017        NaN                 4         AUTOMATIC   \nc    Lotus     Elise  2010      218.0                 4            MANUAL   \nd      GMC    Acadia  2017      194.0                 4         AUTOMATIC   \ne   Nissan  Frontier  2017      261.0                 6            MANUAL   \n\n  Vehicle_Style   MSRP  \na         sedan   2000  \nb         Sedan  27150  \nc   convertible  54990  \nd       4dr SUV  34450  \ne        Pickup  32340  ",
      "text/html": "<div>\n<style scoped>\n    .dataframe tbody tr th:only-of-type {\n        vertical-align: middle;\n    }\n\n    .dataframe tbody tr th {\n        vertical-align: top;\n    }\n\n    .dataframe thead th {\n        text-align: right;\n    }\n</style>\n<table border=\"1\" class=\"dataframe\">\n  <thead>\n    <tr style=\"text-align: right;\">\n      <th></th>\n      <th>Make</th>\n      <th>Model</th>\n      <th>Year</th>\n      <th>Engine HP</th>\n      <th>Engine Cylinders</th>\n      <th>Transmission Type</th>\n      <th>Vehicle_Style</th>\n      <th>MSRP</th>\n    </tr>\n  </thead>\n  <tbody>\n    <tr>\n      <th>a</th>\n      <td>Nissan</td>\n      <td>Stanza</td>\n      <td>1991</td>\n      <td>138.0</td>\n      <td>4</td>\n      <td>MANUAL</td>\n      <td>sedan</td>\n      <td>2000</td>\n    </tr>\n    <tr>\n      <th>b</th>\n      <td>Hyundai</td>\n      <td>Sonata</td>\n      <td>2017</td>\n      <td>NaN</td>\n      <td>4</td>\n      <td>AUTOMATIC</td>\n      <td>Sedan</td>\n      <td>27150</td>\n    </tr>\n    <tr>\n      <th>c</th>\n      <td>Lotus</td>\n      <td>Elise</td>\n      <td>2010</td>\n      <td>218.0</td>\n      <td>4</td>\n      <td>MANUAL</td>\n      <td>convertible</td>\n      <td>54990</td>\n    </tr>\n    <tr>\n      <th>d</th>\n      <td>GMC</td>\n      <td>Acadia</td>\n      <td>2017</td>\n      <td>194.0</td>\n      <td>4</td>\n      <td>AUTOMATIC</td>\n      <td>4dr SUV</td>\n      <td>34450</td>\n    </tr>\n    <tr>\n      <th>e</th>\n      <td>Nissan</td>\n      <td>Frontier</td>\n      <td>2017</td>\n      <td>261.0</td>\n      <td>6</td>\n      <td>MANUAL</td>\n      <td>Pickup</td>\n      <td>32340</td>\n    </tr>\n  </tbody>\n</table>\n</div>"
     },
     "execution_count": 59,
     "metadata": {},
     "output_type": "execute_result"
    }
   ],
   "source": [
    "df"
   ],
   "metadata": {
    "collapsed": false,
    "ExecuteTime": {
     "end_time": "2023-09-17T02:33:15.124998Z",
     "start_time": "2023-09-17T02:33:15.117060Z"
    }
   },
   "id": "ff53aa2a1b9acef3"
  },
  {
   "cell_type": "code",
   "execution_count": 60,
   "outputs": [
    {
     "ename": "KeyError",
     "evalue": "\"None of [Index([1, 2], dtype='int64')] are in the [index]\"",
     "output_type": "error",
     "traceback": [
      "\u001B[0;31m---------------------------------------------------------------------------\u001B[0m",
      "\u001B[0;31mKeyError\u001B[0m                                  Traceback (most recent call last)",
      "Cell \u001B[0;32mIn[60], line 1\u001B[0m\n\u001B[0;32m----> 1\u001B[0m df\u001B[38;5;241m.\u001B[39mloc[[\u001B[38;5;241m1\u001B[39m,\u001B[38;5;241m2\u001B[39m]]\n",
      "File \u001B[0;32m~/.conda/envs/mlzoomcamp/lib/python3.11/site-packages/pandas/core/indexing.py:1103\u001B[0m, in \u001B[0;36m_LocationIndexer.__getitem__\u001B[0;34m(self, key)\u001B[0m\n\u001B[1;32m   1100\u001B[0m axis \u001B[38;5;241m=\u001B[39m \u001B[38;5;28mself\u001B[39m\u001B[38;5;241m.\u001B[39maxis \u001B[38;5;129;01mor\u001B[39;00m \u001B[38;5;241m0\u001B[39m\n\u001B[1;32m   1102\u001B[0m maybe_callable \u001B[38;5;241m=\u001B[39m com\u001B[38;5;241m.\u001B[39mapply_if_callable(key, \u001B[38;5;28mself\u001B[39m\u001B[38;5;241m.\u001B[39mobj)\n\u001B[0;32m-> 1103\u001B[0m \u001B[38;5;28;01mreturn\u001B[39;00m \u001B[38;5;28mself\u001B[39m\u001B[38;5;241m.\u001B[39m_getitem_axis(maybe_callable, axis\u001B[38;5;241m=\u001B[39maxis)\n",
      "File \u001B[0;32m~/.conda/envs/mlzoomcamp/lib/python3.11/site-packages/pandas/core/indexing.py:1332\u001B[0m, in \u001B[0;36m_LocIndexer._getitem_axis\u001B[0;34m(self, key, axis)\u001B[0m\n\u001B[1;32m   1329\u001B[0m     \u001B[38;5;28;01mif\u001B[39;00m \u001B[38;5;28mhasattr\u001B[39m(key, \u001B[38;5;124m\"\u001B[39m\u001B[38;5;124mndim\u001B[39m\u001B[38;5;124m\"\u001B[39m) \u001B[38;5;129;01mand\u001B[39;00m key\u001B[38;5;241m.\u001B[39mndim \u001B[38;5;241m>\u001B[39m \u001B[38;5;241m1\u001B[39m:\n\u001B[1;32m   1330\u001B[0m         \u001B[38;5;28;01mraise\u001B[39;00m \u001B[38;5;167;01mValueError\u001B[39;00m(\u001B[38;5;124m\"\u001B[39m\u001B[38;5;124mCannot index with multidimensional key\u001B[39m\u001B[38;5;124m\"\u001B[39m)\n\u001B[0;32m-> 1332\u001B[0m     \u001B[38;5;28;01mreturn\u001B[39;00m \u001B[38;5;28mself\u001B[39m\u001B[38;5;241m.\u001B[39m_getitem_iterable(key, axis\u001B[38;5;241m=\u001B[39maxis)\n\u001B[1;32m   1334\u001B[0m \u001B[38;5;66;03m# nested tuple slicing\u001B[39;00m\n\u001B[1;32m   1335\u001B[0m \u001B[38;5;28;01mif\u001B[39;00m is_nested_tuple(key, labels):\n",
      "File \u001B[0;32m~/.conda/envs/mlzoomcamp/lib/python3.11/site-packages/pandas/core/indexing.py:1272\u001B[0m, in \u001B[0;36m_LocIndexer._getitem_iterable\u001B[0;34m(self, key, axis)\u001B[0m\n\u001B[1;32m   1269\u001B[0m \u001B[38;5;28mself\u001B[39m\u001B[38;5;241m.\u001B[39m_validate_key(key, axis)\n\u001B[1;32m   1271\u001B[0m \u001B[38;5;66;03m# A collection of keys\u001B[39;00m\n\u001B[0;32m-> 1272\u001B[0m keyarr, indexer \u001B[38;5;241m=\u001B[39m \u001B[38;5;28mself\u001B[39m\u001B[38;5;241m.\u001B[39m_get_listlike_indexer(key, axis)\n\u001B[1;32m   1273\u001B[0m \u001B[38;5;28;01mreturn\u001B[39;00m \u001B[38;5;28mself\u001B[39m\u001B[38;5;241m.\u001B[39mobj\u001B[38;5;241m.\u001B[39m_reindex_with_indexers(\n\u001B[1;32m   1274\u001B[0m     {axis: [keyarr, indexer]}, copy\u001B[38;5;241m=\u001B[39m\u001B[38;5;28;01mTrue\u001B[39;00m, allow_dups\u001B[38;5;241m=\u001B[39m\u001B[38;5;28;01mTrue\u001B[39;00m\n\u001B[1;32m   1275\u001B[0m )\n",
      "File \u001B[0;32m~/.conda/envs/mlzoomcamp/lib/python3.11/site-packages/pandas/core/indexing.py:1462\u001B[0m, in \u001B[0;36m_LocIndexer._get_listlike_indexer\u001B[0;34m(self, key, axis)\u001B[0m\n\u001B[1;32m   1459\u001B[0m ax \u001B[38;5;241m=\u001B[39m \u001B[38;5;28mself\u001B[39m\u001B[38;5;241m.\u001B[39mobj\u001B[38;5;241m.\u001B[39m_get_axis(axis)\n\u001B[1;32m   1460\u001B[0m axis_name \u001B[38;5;241m=\u001B[39m \u001B[38;5;28mself\u001B[39m\u001B[38;5;241m.\u001B[39mobj\u001B[38;5;241m.\u001B[39m_get_axis_name(axis)\n\u001B[0;32m-> 1462\u001B[0m keyarr, indexer \u001B[38;5;241m=\u001B[39m ax\u001B[38;5;241m.\u001B[39m_get_indexer_strict(key, axis_name)\n\u001B[1;32m   1464\u001B[0m \u001B[38;5;28;01mreturn\u001B[39;00m keyarr, indexer\n",
      "File \u001B[0;32m~/.conda/envs/mlzoomcamp/lib/python3.11/site-packages/pandas/core/indexes/base.py:5877\u001B[0m, in \u001B[0;36mIndex._get_indexer_strict\u001B[0;34m(self, key, axis_name)\u001B[0m\n\u001B[1;32m   5874\u001B[0m \u001B[38;5;28;01melse\u001B[39;00m:\n\u001B[1;32m   5875\u001B[0m     keyarr, indexer, new_indexer \u001B[38;5;241m=\u001B[39m \u001B[38;5;28mself\u001B[39m\u001B[38;5;241m.\u001B[39m_reindex_non_unique(keyarr)\n\u001B[0;32m-> 5877\u001B[0m \u001B[38;5;28mself\u001B[39m\u001B[38;5;241m.\u001B[39m_raise_if_missing(keyarr, indexer, axis_name)\n\u001B[1;32m   5879\u001B[0m keyarr \u001B[38;5;241m=\u001B[39m \u001B[38;5;28mself\u001B[39m\u001B[38;5;241m.\u001B[39mtake(indexer)\n\u001B[1;32m   5880\u001B[0m \u001B[38;5;28;01mif\u001B[39;00m \u001B[38;5;28misinstance\u001B[39m(key, Index):\n\u001B[1;32m   5881\u001B[0m     \u001B[38;5;66;03m# GH 42790 - Preserve name from an Index\u001B[39;00m\n",
      "File \u001B[0;32m~/.conda/envs/mlzoomcamp/lib/python3.11/site-packages/pandas/core/indexes/base.py:5938\u001B[0m, in \u001B[0;36mIndex._raise_if_missing\u001B[0;34m(self, key, indexer, axis_name)\u001B[0m\n\u001B[1;32m   5936\u001B[0m     \u001B[38;5;28;01mif\u001B[39;00m use_interval_msg:\n\u001B[1;32m   5937\u001B[0m         key \u001B[38;5;241m=\u001B[39m \u001B[38;5;28mlist\u001B[39m(key)\n\u001B[0;32m-> 5938\u001B[0m     \u001B[38;5;28;01mraise\u001B[39;00m \u001B[38;5;167;01mKeyError\u001B[39;00m(\u001B[38;5;124mf\u001B[39m\u001B[38;5;124m\"\u001B[39m\u001B[38;5;124mNone of [\u001B[39m\u001B[38;5;132;01m{\u001B[39;00mkey\u001B[38;5;132;01m}\u001B[39;00m\u001B[38;5;124m] are in the [\u001B[39m\u001B[38;5;132;01m{\u001B[39;00maxis_name\u001B[38;5;132;01m}\u001B[39;00m\u001B[38;5;124m]\u001B[39m\u001B[38;5;124m\"\u001B[39m)\n\u001B[1;32m   5940\u001B[0m not_found \u001B[38;5;241m=\u001B[39m \u001B[38;5;28mlist\u001B[39m(ensure_index(key)[missing_mask\u001B[38;5;241m.\u001B[39mnonzero()[\u001B[38;5;241m0\u001B[39m]]\u001B[38;5;241m.\u001B[39munique())\n\u001B[1;32m   5941\u001B[0m \u001B[38;5;28;01mraise\u001B[39;00m \u001B[38;5;167;01mKeyError\u001B[39;00m(\u001B[38;5;124mf\u001B[39m\u001B[38;5;124m\"\u001B[39m\u001B[38;5;132;01m{\u001B[39;00mnot_found\u001B[38;5;132;01m}\u001B[39;00m\u001B[38;5;124m not in index\u001B[39m\u001B[38;5;124m\"\u001B[39m)\n",
      "\u001B[0;31mKeyError\u001B[0m: \"None of [Index([1, 2], dtype='int64')] are in the [index]\""
     ]
    }
   ],
   "source": [
    "df.loc[[1,2]]"
   ],
   "metadata": {
    "collapsed": false,
    "ExecuteTime": {
     "end_time": "2023-09-17T02:33:15.299919Z",
     "start_time": "2023-09-17T02:33:15.277900Z"
    }
   },
   "id": "bde83a6612a63be2"
  },
  {
   "cell_type": "code",
   "execution_count": 61,
   "outputs": [
    {
     "data": {
      "text/plain": "      Make   Model  Year  Engine HP  Engine Cylinders Transmission Type  \\\nb  Hyundai  Sonata  2017        NaN                 4         AUTOMATIC   \nc    Lotus   Elise  2010      218.0                 4            MANUAL   \n\n  Vehicle_Style   MSRP  \nb         Sedan  27150  \nc   convertible  54990  ",
      "text/html": "<div>\n<style scoped>\n    .dataframe tbody tr th:only-of-type {\n        vertical-align: middle;\n    }\n\n    .dataframe tbody tr th {\n        vertical-align: top;\n    }\n\n    .dataframe thead th {\n        text-align: right;\n    }\n</style>\n<table border=\"1\" class=\"dataframe\">\n  <thead>\n    <tr style=\"text-align: right;\">\n      <th></th>\n      <th>Make</th>\n      <th>Model</th>\n      <th>Year</th>\n      <th>Engine HP</th>\n      <th>Engine Cylinders</th>\n      <th>Transmission Type</th>\n      <th>Vehicle_Style</th>\n      <th>MSRP</th>\n    </tr>\n  </thead>\n  <tbody>\n    <tr>\n      <th>b</th>\n      <td>Hyundai</td>\n      <td>Sonata</td>\n      <td>2017</td>\n      <td>NaN</td>\n      <td>4</td>\n      <td>AUTOMATIC</td>\n      <td>Sedan</td>\n      <td>27150</td>\n    </tr>\n    <tr>\n      <th>c</th>\n      <td>Lotus</td>\n      <td>Elise</td>\n      <td>2010</td>\n      <td>218.0</td>\n      <td>4</td>\n      <td>MANUAL</td>\n      <td>convertible</td>\n      <td>54990</td>\n    </tr>\n  </tbody>\n</table>\n</div>"
     },
     "execution_count": 61,
     "metadata": {},
     "output_type": "execute_result"
    }
   ],
   "source": [
    "df.loc[['b', 'c']]"
   ],
   "metadata": {
    "collapsed": false,
    "ExecuteTime": {
     "end_time": "2023-09-17T02:33:17.932580Z",
     "start_time": "2023-09-17T02:33:17.923554Z"
    }
   },
   "id": "faf03396dce99d8b"
  },
  {
   "cell_type": "code",
   "execution_count": 62,
   "outputs": [
    {
     "data": {
      "text/plain": "      Make   Model  Year  Engine HP  Engine Cylinders Transmission Type  \\\nb  Hyundai  Sonata  2017        NaN                 4         AUTOMATIC   \nc    Lotus   Elise  2010      218.0                 4            MANUAL   \n\n  Vehicle_Style   MSRP  \nb         Sedan  27150  \nc   convertible  54990  ",
      "text/html": "<div>\n<style scoped>\n    .dataframe tbody tr th:only-of-type {\n        vertical-align: middle;\n    }\n\n    .dataframe tbody tr th {\n        vertical-align: top;\n    }\n\n    .dataframe thead th {\n        text-align: right;\n    }\n</style>\n<table border=\"1\" class=\"dataframe\">\n  <thead>\n    <tr style=\"text-align: right;\">\n      <th></th>\n      <th>Make</th>\n      <th>Model</th>\n      <th>Year</th>\n      <th>Engine HP</th>\n      <th>Engine Cylinders</th>\n      <th>Transmission Type</th>\n      <th>Vehicle_Style</th>\n      <th>MSRP</th>\n    </tr>\n  </thead>\n  <tbody>\n    <tr>\n      <th>b</th>\n      <td>Hyundai</td>\n      <td>Sonata</td>\n      <td>2017</td>\n      <td>NaN</td>\n      <td>4</td>\n      <td>AUTOMATIC</td>\n      <td>Sedan</td>\n      <td>27150</td>\n    </tr>\n    <tr>\n      <th>c</th>\n      <td>Lotus</td>\n      <td>Elise</td>\n      <td>2010</td>\n      <td>218.0</td>\n      <td>4</td>\n      <td>MANUAL</td>\n      <td>convertible</td>\n      <td>54990</td>\n    </tr>\n  </tbody>\n</table>\n</div>"
     },
     "execution_count": 62,
     "metadata": {},
     "output_type": "execute_result"
    }
   ],
   "source": [
    "df.iloc[[1, 2]]"
   ],
   "metadata": {
    "collapsed": false,
    "ExecuteTime": {
     "end_time": "2023-09-17T02:33:18.702642Z",
     "start_time": "2023-09-17T02:33:18.692498Z"
    }
   },
   "id": "f00f90ffb3b58f91"
  },
  {
   "cell_type": "code",
   "execution_count": 63,
   "outputs": [],
   "source": [
    "df = df.reset_index()"
   ],
   "metadata": {
    "collapsed": false,
    "ExecuteTime": {
     "end_time": "2023-09-17T02:33:21.038856Z",
     "start_time": "2023-09-17T02:33:21.036987Z"
    }
   },
   "id": "8443f6595847d96"
  },
  {
   "cell_type": "code",
   "execution_count": 64,
   "outputs": [
    {
     "data": {
      "text/plain": "  index     Make     Model  Year  Engine HP  Engine Cylinders  \\\n0     a   Nissan    Stanza  1991      138.0                 4   \n1     b  Hyundai    Sonata  2017        NaN                 4   \n2     c    Lotus     Elise  2010      218.0                 4   \n3     d      GMC    Acadia  2017      194.0                 4   \n4     e   Nissan  Frontier  2017      261.0                 6   \n\n  Transmission Type Vehicle_Style   MSRP  \n0            MANUAL         sedan   2000  \n1         AUTOMATIC         Sedan  27150  \n2            MANUAL   convertible  54990  \n3         AUTOMATIC       4dr SUV  34450  \n4            MANUAL        Pickup  32340  ",
      "text/html": "<div>\n<style scoped>\n    .dataframe tbody tr th:only-of-type {\n        vertical-align: middle;\n    }\n\n    .dataframe tbody tr th {\n        vertical-align: top;\n    }\n\n    .dataframe thead th {\n        text-align: right;\n    }\n</style>\n<table border=\"1\" class=\"dataframe\">\n  <thead>\n    <tr style=\"text-align: right;\">\n      <th></th>\n      <th>index</th>\n      <th>Make</th>\n      <th>Model</th>\n      <th>Year</th>\n      <th>Engine HP</th>\n      <th>Engine Cylinders</th>\n      <th>Transmission Type</th>\n      <th>Vehicle_Style</th>\n      <th>MSRP</th>\n    </tr>\n  </thead>\n  <tbody>\n    <tr>\n      <th>0</th>\n      <td>a</td>\n      <td>Nissan</td>\n      <td>Stanza</td>\n      <td>1991</td>\n      <td>138.0</td>\n      <td>4</td>\n      <td>MANUAL</td>\n      <td>sedan</td>\n      <td>2000</td>\n    </tr>\n    <tr>\n      <th>1</th>\n      <td>b</td>\n      <td>Hyundai</td>\n      <td>Sonata</td>\n      <td>2017</td>\n      <td>NaN</td>\n      <td>4</td>\n      <td>AUTOMATIC</td>\n      <td>Sedan</td>\n      <td>27150</td>\n    </tr>\n    <tr>\n      <th>2</th>\n      <td>c</td>\n      <td>Lotus</td>\n      <td>Elise</td>\n      <td>2010</td>\n      <td>218.0</td>\n      <td>4</td>\n      <td>MANUAL</td>\n      <td>convertible</td>\n      <td>54990</td>\n    </tr>\n    <tr>\n      <th>3</th>\n      <td>d</td>\n      <td>GMC</td>\n      <td>Acadia</td>\n      <td>2017</td>\n      <td>194.0</td>\n      <td>4</td>\n      <td>AUTOMATIC</td>\n      <td>4dr SUV</td>\n      <td>34450</td>\n    </tr>\n    <tr>\n      <th>4</th>\n      <td>e</td>\n      <td>Nissan</td>\n      <td>Frontier</td>\n      <td>2017</td>\n      <td>261.0</td>\n      <td>6</td>\n      <td>MANUAL</td>\n      <td>Pickup</td>\n      <td>32340</td>\n    </tr>\n  </tbody>\n</table>\n</div>"
     },
     "execution_count": 64,
     "metadata": {},
     "output_type": "execute_result"
    }
   ],
   "source": [
    "df"
   ],
   "metadata": {
    "collapsed": false,
    "ExecuteTime": {
     "end_time": "2023-09-17T02:33:21.766877Z",
     "start_time": "2023-09-17T02:33:21.761230Z"
    }
   },
   "id": "62593ebe0e61c764"
  },
  {
   "cell_type": "code",
   "execution_count": 65,
   "outputs": [],
   "source": [
    "del df['index']"
   ],
   "metadata": {
    "collapsed": false,
    "ExecuteTime": {
     "end_time": "2023-09-17T02:33:25.507637Z",
     "start_time": "2023-09-17T02:33:25.497524Z"
    }
   },
   "id": "fe6c1261eaeea0c4"
  },
  {
   "cell_type": "code",
   "execution_count": 66,
   "outputs": [
    {
     "data": {
      "text/plain": "      Make     Model  Year  Engine HP  Engine Cylinders Transmission Type  \\\n0   Nissan    Stanza  1991      138.0                 4            MANUAL   \n1  Hyundai    Sonata  2017        NaN                 4         AUTOMATIC   \n2    Lotus     Elise  2010      218.0                 4            MANUAL   \n3      GMC    Acadia  2017      194.0                 4         AUTOMATIC   \n4   Nissan  Frontier  2017      261.0                 6            MANUAL   \n\n  Vehicle_Style   MSRP  \n0         sedan   2000  \n1         Sedan  27150  \n2   convertible  54990  \n3       4dr SUV  34450  \n4        Pickup  32340  ",
      "text/html": "<div>\n<style scoped>\n    .dataframe tbody tr th:only-of-type {\n        vertical-align: middle;\n    }\n\n    .dataframe tbody tr th {\n        vertical-align: top;\n    }\n\n    .dataframe thead th {\n        text-align: right;\n    }\n</style>\n<table border=\"1\" class=\"dataframe\">\n  <thead>\n    <tr style=\"text-align: right;\">\n      <th></th>\n      <th>Make</th>\n      <th>Model</th>\n      <th>Year</th>\n      <th>Engine HP</th>\n      <th>Engine Cylinders</th>\n      <th>Transmission Type</th>\n      <th>Vehicle_Style</th>\n      <th>MSRP</th>\n    </tr>\n  </thead>\n  <tbody>\n    <tr>\n      <th>0</th>\n      <td>Nissan</td>\n      <td>Stanza</td>\n      <td>1991</td>\n      <td>138.0</td>\n      <td>4</td>\n      <td>MANUAL</td>\n      <td>sedan</td>\n      <td>2000</td>\n    </tr>\n    <tr>\n      <th>1</th>\n      <td>Hyundai</td>\n      <td>Sonata</td>\n      <td>2017</td>\n      <td>NaN</td>\n      <td>4</td>\n      <td>AUTOMATIC</td>\n      <td>Sedan</td>\n      <td>27150</td>\n    </tr>\n    <tr>\n      <th>2</th>\n      <td>Lotus</td>\n      <td>Elise</td>\n      <td>2010</td>\n      <td>218.0</td>\n      <td>4</td>\n      <td>MANUAL</td>\n      <td>convertible</td>\n      <td>54990</td>\n    </tr>\n    <tr>\n      <th>3</th>\n      <td>GMC</td>\n      <td>Acadia</td>\n      <td>2017</td>\n      <td>194.0</td>\n      <td>4</td>\n      <td>AUTOMATIC</td>\n      <td>4dr SUV</td>\n      <td>34450</td>\n    </tr>\n    <tr>\n      <th>4</th>\n      <td>Nissan</td>\n      <td>Frontier</td>\n      <td>2017</td>\n      <td>261.0</td>\n      <td>6</td>\n      <td>MANUAL</td>\n      <td>Pickup</td>\n      <td>32340</td>\n    </tr>\n  </tbody>\n</table>\n</div>"
     },
     "execution_count": 66,
     "metadata": {},
     "output_type": "execute_result"
    }
   ],
   "source": [
    "df"
   ],
   "metadata": {
    "collapsed": false,
    "ExecuteTime": {
     "end_time": "2023-09-17T02:33:27.144996Z",
     "start_time": "2023-09-17T02:33:27.136105Z"
    }
   },
   "id": "be4fa6ec8b153d4d"
  },
  {
   "cell_type": "markdown",
   "source": [
    "# Element wise operation"
   ],
   "metadata": {
    "collapsed": false
   },
   "id": "623ddaa0c1e5cc9f"
  },
  {
   "cell_type": "code",
   "execution_count": 70,
   "outputs": [
    {
     "data": {
      "text/plain": "0     69.0\n1      NaN\n2    109.0\n3     97.0\n4    130.5\nName: Engine HP, dtype: float64"
     },
     "execution_count": 70,
     "metadata": {},
     "output_type": "execute_result"
    }
   ],
   "source": [
    "df['Engine HP'] / 2\n"
   ],
   "metadata": {
    "collapsed": false,
    "ExecuteTime": {
     "end_time": "2023-09-17T02:34:31.574500Z",
     "start_time": "2023-09-17T02:34:31.562037Z"
    }
   },
   "id": "88912e0d94fe069e"
  },
  {
   "cell_type": "code",
   "execution_count": 71,
   "outputs": [
    {
     "data": {
      "text/plain": "      Make     Model  Year  Engine HP  Engine Cylinders Transmission Type  \\\n0   Nissan    Stanza  1991      138.0                 4            MANUAL   \n1  Hyundai    Sonata  2017        NaN                 4         AUTOMATIC   \n2    Lotus     Elise  2010      218.0                 4            MANUAL   \n3      GMC    Acadia  2017      194.0                 4         AUTOMATIC   \n4   Nissan  Frontier  2017      261.0                 6            MANUAL   \n\n  Vehicle_Style   MSRP  \n0         sedan   2000  \n1         Sedan  27150  \n2   convertible  54990  \n3       4dr SUV  34450  \n4        Pickup  32340  ",
      "text/html": "<div>\n<style scoped>\n    .dataframe tbody tr th:only-of-type {\n        vertical-align: middle;\n    }\n\n    .dataframe tbody tr th {\n        vertical-align: top;\n    }\n\n    .dataframe thead th {\n        text-align: right;\n    }\n</style>\n<table border=\"1\" class=\"dataframe\">\n  <thead>\n    <tr style=\"text-align: right;\">\n      <th></th>\n      <th>Make</th>\n      <th>Model</th>\n      <th>Year</th>\n      <th>Engine HP</th>\n      <th>Engine Cylinders</th>\n      <th>Transmission Type</th>\n      <th>Vehicle_Style</th>\n      <th>MSRP</th>\n    </tr>\n  </thead>\n  <tbody>\n    <tr>\n      <th>0</th>\n      <td>Nissan</td>\n      <td>Stanza</td>\n      <td>1991</td>\n      <td>138.0</td>\n      <td>4</td>\n      <td>MANUAL</td>\n      <td>sedan</td>\n      <td>2000</td>\n    </tr>\n    <tr>\n      <th>1</th>\n      <td>Hyundai</td>\n      <td>Sonata</td>\n      <td>2017</td>\n      <td>NaN</td>\n      <td>4</td>\n      <td>AUTOMATIC</td>\n      <td>Sedan</td>\n      <td>27150</td>\n    </tr>\n    <tr>\n      <th>2</th>\n      <td>Lotus</td>\n      <td>Elise</td>\n      <td>2010</td>\n      <td>218.0</td>\n      <td>4</td>\n      <td>MANUAL</td>\n      <td>convertible</td>\n      <td>54990</td>\n    </tr>\n    <tr>\n      <th>3</th>\n      <td>GMC</td>\n      <td>Acadia</td>\n      <td>2017</td>\n      <td>194.0</td>\n      <td>4</td>\n      <td>AUTOMATIC</td>\n      <td>4dr SUV</td>\n      <td>34450</td>\n    </tr>\n    <tr>\n      <th>4</th>\n      <td>Nissan</td>\n      <td>Frontier</td>\n      <td>2017</td>\n      <td>261.0</td>\n      <td>6</td>\n      <td>MANUAL</td>\n      <td>Pickup</td>\n      <td>32340</td>\n    </tr>\n  </tbody>\n</table>\n</div>"
     },
     "execution_count": 71,
     "metadata": {},
     "output_type": "execute_result"
    }
   ],
   "source": [
    "df"
   ],
   "metadata": {
    "collapsed": false,
    "ExecuteTime": {
     "end_time": "2023-09-17T02:34:44.402093Z",
     "start_time": "2023-09-17T02:34:44.386232Z"
    }
   },
   "id": "4745b95462258c42"
  },
  {
   "cell_type": "code",
   "execution_count": 72,
   "outputs": [
    {
     "data": {
      "text/plain": "0    276.0\n1      NaN\n2    436.0\n3    388.0\n4    522.0\nName: Engine HP, dtype: float64"
     },
     "execution_count": 72,
     "metadata": {},
     "output_type": "execute_result"
    }
   ],
   "source": [
    "df['Engine HP'] * 2"
   ],
   "metadata": {
    "collapsed": false,
    "ExecuteTime": {
     "end_time": "2023-09-17T02:35:27.111742Z",
     "start_time": "2023-09-17T02:35:27.091688Z"
    }
   },
   "id": "26824e0e2cddab50"
  },
  {
   "cell_type": "code",
   "execution_count": 76,
   "outputs": [
    {
     "data": {
      "text/plain": "0    False\n1     True\n2    False\n3     True\n4     True\nName: Year, dtype: bool"
     },
     "execution_count": 76,
     "metadata": {},
     "output_type": "execute_result"
    }
   ],
   "source": [
    "df['Year'] >= 2015"
   ],
   "metadata": {
    "collapsed": false,
    "ExecuteTime": {
     "end_time": "2023-09-17T02:39:33.932715Z",
     "start_time": "2023-09-17T02:39:33.923883Z"
    }
   },
   "id": "f6f15f7b12b65fd9"
  },
  {
   "cell_type": "code",
   "execution_count": 79,
   "outputs": [
    {
     "data": {
      "text/plain": "      Make     Model  Year  Engine HP  Engine Cylinders Transmission Type  \\\n1  Hyundai    Sonata  2017        NaN                 4         AUTOMATIC   \n3      GMC    Acadia  2017      194.0                 4         AUTOMATIC   \n4   Nissan  Frontier  2017      261.0                 6            MANUAL   \n\n  Vehicle_Style   MSRP  \n1         Sedan  27150  \n3       4dr SUV  34450  \n4        Pickup  32340  ",
      "text/html": "<div>\n<style scoped>\n    .dataframe tbody tr th:only-of-type {\n        vertical-align: middle;\n    }\n\n    .dataframe tbody tr th {\n        vertical-align: top;\n    }\n\n    .dataframe thead th {\n        text-align: right;\n    }\n</style>\n<table border=\"1\" class=\"dataframe\">\n  <thead>\n    <tr style=\"text-align: right;\">\n      <th></th>\n      <th>Make</th>\n      <th>Model</th>\n      <th>Year</th>\n      <th>Engine HP</th>\n      <th>Engine Cylinders</th>\n      <th>Transmission Type</th>\n      <th>Vehicle_Style</th>\n      <th>MSRP</th>\n    </tr>\n  </thead>\n  <tbody>\n    <tr>\n      <th>1</th>\n      <td>Hyundai</td>\n      <td>Sonata</td>\n      <td>2017</td>\n      <td>NaN</td>\n      <td>4</td>\n      <td>AUTOMATIC</td>\n      <td>Sedan</td>\n      <td>27150</td>\n    </tr>\n    <tr>\n      <th>3</th>\n      <td>GMC</td>\n      <td>Acadia</td>\n      <td>2017</td>\n      <td>194.0</td>\n      <td>4</td>\n      <td>AUTOMATIC</td>\n      <td>4dr SUV</td>\n      <td>34450</td>\n    </tr>\n    <tr>\n      <th>4</th>\n      <td>Nissan</td>\n      <td>Frontier</td>\n      <td>2017</td>\n      <td>261.0</td>\n      <td>6</td>\n      <td>MANUAL</td>\n      <td>Pickup</td>\n      <td>32340</td>\n    </tr>\n  </tbody>\n</table>\n</div>"
     },
     "execution_count": 79,
     "metadata": {},
     "output_type": "execute_result"
    }
   ],
   "source": [
    "# The outer df[] looks at the evaluation of the prior block and only returns the True statement \n",
    "df[\n",
    "    df['Year'] >= 2015\n",
    "] "
   ],
   "metadata": {
    "collapsed": false,
    "ExecuteTime": {
     "end_time": "2023-09-17T02:41:15.751358Z",
     "start_time": "2023-09-17T02:41:15.743140Z"
    }
   },
   "id": "4790ae02846fa7f6"
  },
  {
   "cell_type": "code",
   "execution_count": 83,
   "outputs": [
    {
     "data": {
      "text/plain": "     Make     Model  Year  Engine HP  Engine Cylinders Transmission Type  \\\n4  Nissan  Frontier  2017      261.0                 6            MANUAL   \n\n  Vehicle_Style   MSRP  \n4        Pickup  32340  ",
      "text/html": "<div>\n<style scoped>\n    .dataframe tbody tr th:only-of-type {\n        vertical-align: middle;\n    }\n\n    .dataframe tbody tr th {\n        vertical-align: top;\n    }\n\n    .dataframe thead th {\n        text-align: right;\n    }\n</style>\n<table border=\"1\" class=\"dataframe\">\n  <thead>\n    <tr style=\"text-align: right;\">\n      <th></th>\n      <th>Make</th>\n      <th>Model</th>\n      <th>Year</th>\n      <th>Engine HP</th>\n      <th>Engine Cylinders</th>\n      <th>Transmission Type</th>\n      <th>Vehicle_Style</th>\n      <th>MSRP</th>\n    </tr>\n  </thead>\n  <tbody>\n    <tr>\n      <th>4</th>\n      <td>Nissan</td>\n      <td>Frontier</td>\n      <td>2017</td>\n      <td>261.0</td>\n      <td>6</td>\n      <td>MANUAL</td>\n      <td>Pickup</td>\n      <td>32340</td>\n    </tr>\n  </tbody>\n</table>\n</div>"
     },
     "execution_count": 83,
     "metadata": {},
     "output_type": "execute_result"
    }
   ],
   "source": [
    "## We use parenthesis to delimit order of ops, and only one ampersand (&) to denote \"AND\"\n",
    "df[\n",
    "    (df['Make'] == 'Nissan') & (df['Year'] >= 2015)\n",
    "] "
   ],
   "metadata": {
    "collapsed": false,
    "ExecuteTime": {
     "end_time": "2023-09-17T02:42:54.005622Z",
     "start_time": "2023-09-17T02:42:53.994724Z"
    }
   },
   "id": "4883014a32b1ef4e"
  },
  {
   "cell_type": "markdown",
   "source": [
    "# String Operations"
   ],
   "metadata": {
    "collapsed": false
   },
   "id": "6f61abd310e9e4e"
  },
  {
   "cell_type": "code",
   "execution_count": 84,
   "outputs": [
    {
     "data": {
      "text/plain": "0          sedan\n1          Sedan\n2    convertible\n3        4dr SUV\n4         Pickup\nName: Vehicle_Style, dtype: object"
     },
     "execution_count": 84,
     "metadata": {},
     "output_type": "execute_result"
    }
   ],
   "source": [
    "df['Vehicle_Style']"
   ],
   "metadata": {
    "collapsed": false,
    "ExecuteTime": {
     "end_time": "2023-09-17T02:43:15.681799Z",
     "start_time": "2023-09-17T02:43:15.651472Z"
    }
   },
   "id": "cf70d652dee413c4"
  },
  {
   "cell_type": "code",
   "execution_count": 87,
   "outputs": [
    {
     "data": {
      "text/plain": "0          sedan\n1          sedan\n2    convertible\n3        4dr suv\n4         pickup\nName: Vehicle_Style, dtype: object"
     },
     "execution_count": 87,
     "metadata": {},
     "output_type": "execute_result"
    }
   ],
   "source": [
    "# .str allows you to use all the string operations on all of the elements\n",
    "df['Vehicle_Style'].str.lower()"
   ],
   "metadata": {
    "collapsed": false,
    "ExecuteTime": {
     "end_time": "2023-09-17T02:44:03.387920Z",
     "start_time": "2023-09-17T02:44:03.384632Z"
    }
   },
   "id": "19740f6956379618"
  },
  {
   "cell_type": "code",
   "execution_count": 88,
   "outputs": [
    {
     "data": {
      "text/plain": "0          sedan\n1          Sedan\n2    convertible\n3        4dr_SUV\n4         Pickup\nName: Vehicle_Style, dtype: object"
     },
     "execution_count": 88,
     "metadata": {},
     "output_type": "execute_result"
    }
   ],
   "source": [
    "df['Vehicle_Style'].str.replace(' ', '_')"
   ],
   "metadata": {
    "collapsed": false,
    "ExecuteTime": {
     "end_time": "2023-09-17T02:44:44.427655Z",
     "start_time": "2023-09-17T02:44:44.400562Z"
    }
   },
   "id": "fd15d0bf64d840b6"
  },
  {
   "cell_type": "code",
   "execution_count": 90,
   "outputs": [
    {
     "data": {
      "text/plain": "0          sedan\n1          sedan\n2    convertible\n3        4dr_suv\n4         pickup\nName: Vehicle_Style, dtype: object"
     },
     "execution_count": 90,
     "metadata": {},
     "output_type": "execute_result"
    }
   ],
   "source": [
    "df['Vehicle_Style'].str.replace(' ', '_').str.lower()"
   ],
   "metadata": {
    "collapsed": false,
    "ExecuteTime": {
     "end_time": "2023-09-17T02:46:30.589537Z",
     "start_time": "2023-09-17T02:46:30.578097Z"
    }
   },
   "id": "e2c680eb9c2963f6"
  },
  {
   "cell_type": "code",
   "execution_count": 93,
   "outputs": [
    {
     "data": {
      "text/plain": "      Make     Model  Year  Engine HP  Engine Cylinders Transmission Type  \\\n0   Nissan    Stanza  1991      138.0                 4            MANUAL   \n1  Hyundai    Sonata  2017        NaN                 4         AUTOMATIC   \n2    Lotus     Elise  2010      218.0                 4            MANUAL   \n3      GMC    Acadia  2017      194.0                 4         AUTOMATIC   \n4   Nissan  Frontier  2017      261.0                 6            MANUAL   \n\n  Vehicle_Style   MSRP  \n0         sedan   2000  \n1         sedan  27150  \n2   convertible  54990  \n3       4dr_suv  34450  \n4        pickup  32340  ",
      "text/html": "<div>\n<style scoped>\n    .dataframe tbody tr th:only-of-type {\n        vertical-align: middle;\n    }\n\n    .dataframe tbody tr th {\n        vertical-align: top;\n    }\n\n    .dataframe thead th {\n        text-align: right;\n    }\n</style>\n<table border=\"1\" class=\"dataframe\">\n  <thead>\n    <tr style=\"text-align: right;\">\n      <th></th>\n      <th>Make</th>\n      <th>Model</th>\n      <th>Year</th>\n      <th>Engine HP</th>\n      <th>Engine Cylinders</th>\n      <th>Transmission Type</th>\n      <th>Vehicle_Style</th>\n      <th>MSRP</th>\n    </tr>\n  </thead>\n  <tbody>\n    <tr>\n      <th>0</th>\n      <td>Nissan</td>\n      <td>Stanza</td>\n      <td>1991</td>\n      <td>138.0</td>\n      <td>4</td>\n      <td>MANUAL</td>\n      <td>sedan</td>\n      <td>2000</td>\n    </tr>\n    <tr>\n      <th>1</th>\n      <td>Hyundai</td>\n      <td>Sonata</td>\n      <td>2017</td>\n      <td>NaN</td>\n      <td>4</td>\n      <td>AUTOMATIC</td>\n      <td>sedan</td>\n      <td>27150</td>\n    </tr>\n    <tr>\n      <th>2</th>\n      <td>Lotus</td>\n      <td>Elise</td>\n      <td>2010</td>\n      <td>218.0</td>\n      <td>4</td>\n      <td>MANUAL</td>\n      <td>convertible</td>\n      <td>54990</td>\n    </tr>\n    <tr>\n      <th>3</th>\n      <td>GMC</td>\n      <td>Acadia</td>\n      <td>2017</td>\n      <td>194.0</td>\n      <td>4</td>\n      <td>AUTOMATIC</td>\n      <td>4dr_suv</td>\n      <td>34450</td>\n    </tr>\n    <tr>\n      <th>4</th>\n      <td>Nissan</td>\n      <td>Frontier</td>\n      <td>2017</td>\n      <td>261.0</td>\n      <td>6</td>\n      <td>MANUAL</td>\n      <td>pickup</td>\n      <td>32340</td>\n    </tr>\n  </tbody>\n</table>\n</div>"
     },
     "execution_count": 93,
     "metadata": {},
     "output_type": "execute_result"
    }
   ],
   "source": [
    "df['Vehicle_Style'] = df['Vehicle_Style'].str.replace(' ', '_').str.lower()\n",
    "df"
   ],
   "metadata": {
    "collapsed": false,
    "ExecuteTime": {
     "end_time": "2023-09-17T02:47:00.949299Z",
     "start_time": "2023-09-17T02:47:00.939358Z"
    }
   },
   "id": "ac029bc405604b84"
  },
  {
   "cell_type": "markdown",
   "source": [
    "# Summarizing Operations"
   ],
   "metadata": {
    "collapsed": false
   },
   "id": "8fc177105e4a7448"
  },
  {
   "cell_type": "code",
   "execution_count": 95,
   "outputs": [
    {
     "data": {
      "text/plain": "0     2000\n1    27150\n2    54990\n3    34450\n4    32340\nName: MSRP, dtype: int64"
     },
     "execution_count": 95,
     "metadata": {},
     "output_type": "execute_result"
    }
   ],
   "source": [
    "df.MSRP"
   ],
   "metadata": {
    "collapsed": false,
    "ExecuteTime": {
     "end_time": "2023-09-17T02:47:25.806052Z",
     "start_time": "2023-09-17T02:47:25.800236Z"
    }
   },
   "id": "7922611264b971ff"
  },
  {
   "cell_type": "code",
   "execution_count": 96,
   "outputs": [
    {
     "data": {
      "text/plain": "2000"
     },
     "execution_count": 96,
     "metadata": {},
     "output_type": "execute_result"
    }
   ],
   "source": [
    "df.MSRP.min()"
   ],
   "metadata": {
    "collapsed": false,
    "ExecuteTime": {
     "end_time": "2023-09-17T02:47:27.721293Z",
     "start_time": "2023-09-17T02:47:27.696975Z"
    }
   },
   "id": "d581372744b81ea7"
  },
  {
   "cell_type": "code",
   "execution_count": 97,
   "outputs": [
    {
     "data": {
      "text/plain": "54990"
     },
     "execution_count": 97,
     "metadata": {},
     "output_type": "execute_result"
    }
   ],
   "source": [
    "df.MSRP.max()"
   ],
   "metadata": {
    "collapsed": false,
    "ExecuteTime": {
     "end_time": "2023-09-17T02:47:32.332491Z",
     "start_time": "2023-09-17T02:47:32.312527Z"
    }
   },
   "id": "1f4cef974acff51b"
  },
  {
   "cell_type": "code",
   "execution_count": 98,
   "outputs": [
    {
     "data": {
      "text/plain": "30186.0"
     },
     "execution_count": 98,
     "metadata": {},
     "output_type": "execute_result"
    }
   ],
   "source": [
    "df.MSRP.mean()"
   ],
   "metadata": {
    "collapsed": false,
    "ExecuteTime": {
     "end_time": "2023-09-17T02:47:36.820487Z",
     "start_time": "2023-09-17T02:47:36.796898Z"
    }
   },
   "id": "d0652f647872cccb"
  },
  {
   "cell_type": "code",
   "execution_count": 99,
   "outputs": [
    {
     "data": {
      "text/plain": "count        5.000000\nmean     30186.000000\nstd      18985.044904\nmin       2000.000000\n25%      27150.000000\n50%      32340.000000\n75%      34450.000000\nmax      54990.000000\nName: MSRP, dtype: float64"
     },
     "execution_count": 99,
     "metadata": {},
     "output_type": "execute_result"
    }
   ],
   "source": [
    "df.MSRP.describe()"
   ],
   "metadata": {
    "collapsed": false,
    "ExecuteTime": {
     "end_time": "2023-09-17T02:47:47.851054Z",
     "start_time": "2023-09-17T02:47:47.824939Z"
    }
   },
   "id": "72169dd01aef2553"
  },
  {
   "cell_type": "code",
   "execution_count": 103,
   "outputs": [
    {
     "data": {
      "text/plain": "          Year  Engine HP  Engine Cylinders      MSRP\ncount     5.00       4.00              5.00      5.00\nmean   2010.40     202.75              4.40  30186.00\nstd      11.26      51.30              0.89  18985.04\nmin    1991.00     138.00              4.00   2000.00\n25%    2010.00     180.00              4.00  27150.00\n50%    2017.00     206.00              4.00  32340.00\n75%    2017.00     228.75              4.00  34450.00\nmax    2017.00     261.00              6.00  54990.00",
      "text/html": "<div>\n<style scoped>\n    .dataframe tbody tr th:only-of-type {\n        vertical-align: middle;\n    }\n\n    .dataframe tbody tr th {\n        vertical-align: top;\n    }\n\n    .dataframe thead th {\n        text-align: right;\n    }\n</style>\n<table border=\"1\" class=\"dataframe\">\n  <thead>\n    <tr style=\"text-align: right;\">\n      <th></th>\n      <th>Year</th>\n      <th>Engine HP</th>\n      <th>Engine Cylinders</th>\n      <th>MSRP</th>\n    </tr>\n  </thead>\n  <tbody>\n    <tr>\n      <th>count</th>\n      <td>5.00</td>\n      <td>4.00</td>\n      <td>5.00</td>\n      <td>5.00</td>\n    </tr>\n    <tr>\n      <th>mean</th>\n      <td>2010.40</td>\n      <td>202.75</td>\n      <td>4.40</td>\n      <td>30186.00</td>\n    </tr>\n    <tr>\n      <th>std</th>\n      <td>11.26</td>\n      <td>51.30</td>\n      <td>0.89</td>\n      <td>18985.04</td>\n    </tr>\n    <tr>\n      <th>min</th>\n      <td>1991.00</td>\n      <td>138.00</td>\n      <td>4.00</td>\n      <td>2000.00</td>\n    </tr>\n    <tr>\n      <th>25%</th>\n      <td>2010.00</td>\n      <td>180.00</td>\n      <td>4.00</td>\n      <td>27150.00</td>\n    </tr>\n    <tr>\n      <th>50%</th>\n      <td>2017.00</td>\n      <td>206.00</td>\n      <td>4.00</td>\n      <td>32340.00</td>\n    </tr>\n    <tr>\n      <th>75%</th>\n      <td>2017.00</td>\n      <td>228.75</td>\n      <td>4.00</td>\n      <td>34450.00</td>\n    </tr>\n    <tr>\n      <th>max</th>\n      <td>2017.00</td>\n      <td>261.00</td>\n      <td>6.00</td>\n      <td>54990.00</td>\n    </tr>\n  </tbody>\n</table>\n</div>"
     },
     "execution_count": 103,
     "metadata": {},
     "output_type": "execute_result"
    }
   ],
   "source": [
    "df.describe().round(2)"
   ],
   "metadata": {
    "collapsed": false,
    "ExecuteTime": {
     "end_time": "2023-09-17T02:49:10.075898Z",
     "start_time": "2023-09-17T02:49:10.062198Z"
    }
   },
   "id": "4a1c79484eb1c402"
  },
  {
   "cell_type": "code",
   "execution_count": 105,
   "outputs": [
    {
     "data": {
      "text/plain": "4"
     },
     "execution_count": 105,
     "metadata": {},
     "output_type": "execute_result"
    }
   ],
   "source": [
    "df.Make.nunique()"
   ],
   "metadata": {
    "collapsed": false,
    "ExecuteTime": {
     "end_time": "2023-09-17T02:49:37.350702Z",
     "start_time": "2023-09-17T02:49:37.345383Z"
    }
   },
   "id": "f26e0613ce3770c7"
  },
  {
   "cell_type": "code",
   "execution_count": 106,
   "outputs": [
    {
     "data": {
      "text/plain": "4"
     },
     "execution_count": 106,
     "metadata": {},
     "output_type": "execute_result"
    }
   ],
   "source": [
    "df['Make'].nunique()"
   ],
   "metadata": {
    "collapsed": false,
    "ExecuteTime": {
     "end_time": "2023-09-17T02:49:48.071934Z",
     "start_time": "2023-09-17T02:49:48.047601Z"
    }
   },
   "id": "e5dbec720e472af8"
  },
  {
   "cell_type": "code",
   "execution_count": 107,
   "outputs": [
    {
     "data": {
      "text/plain": "Make                 4\nModel                5\nYear                 3\nEngine HP            4\nEngine Cylinders     2\nTransmission Type    2\nVehicle_Style        4\nMSRP                 5\ndtype: int64"
     },
     "execution_count": 107,
     "metadata": {},
     "output_type": "execute_result"
    }
   ],
   "source": [
    "df.nunique()"
   ],
   "metadata": {
    "collapsed": false,
    "ExecuteTime": {
     "end_time": "2023-09-17T02:49:51.748753Z",
     "start_time": "2023-09-17T02:49:51.723939Z"
    }
   },
   "id": "93359642c50cd4f8"
  },
  {
   "cell_type": "code",
   "execution_count": 108,
   "outputs": [
    {
     "data": {
      "text/plain": "      Make     Model  Year  Engine HP  Engine Cylinders Transmission Type  \\\n0   Nissan    Stanza  1991      138.0                 4            MANUAL   \n1  Hyundai    Sonata  2017        NaN                 4         AUTOMATIC   \n2    Lotus     Elise  2010      218.0                 4            MANUAL   \n3      GMC    Acadia  2017      194.0                 4         AUTOMATIC   \n4   Nissan  Frontier  2017      261.0                 6            MANUAL   \n\n  Vehicle_Style   MSRP  \n0         sedan   2000  \n1         sedan  27150  \n2   convertible  54990  \n3       4dr_suv  34450  \n4        pickup  32340  ",
      "text/html": "<div>\n<style scoped>\n    .dataframe tbody tr th:only-of-type {\n        vertical-align: middle;\n    }\n\n    .dataframe tbody tr th {\n        vertical-align: top;\n    }\n\n    .dataframe thead th {\n        text-align: right;\n    }\n</style>\n<table border=\"1\" class=\"dataframe\">\n  <thead>\n    <tr style=\"text-align: right;\">\n      <th></th>\n      <th>Make</th>\n      <th>Model</th>\n      <th>Year</th>\n      <th>Engine HP</th>\n      <th>Engine Cylinders</th>\n      <th>Transmission Type</th>\n      <th>Vehicle_Style</th>\n      <th>MSRP</th>\n    </tr>\n  </thead>\n  <tbody>\n    <tr>\n      <th>0</th>\n      <td>Nissan</td>\n      <td>Stanza</td>\n      <td>1991</td>\n      <td>138.0</td>\n      <td>4</td>\n      <td>MANUAL</td>\n      <td>sedan</td>\n      <td>2000</td>\n    </tr>\n    <tr>\n      <th>1</th>\n      <td>Hyundai</td>\n      <td>Sonata</td>\n      <td>2017</td>\n      <td>NaN</td>\n      <td>4</td>\n      <td>AUTOMATIC</td>\n      <td>sedan</td>\n      <td>27150</td>\n    </tr>\n    <tr>\n      <th>2</th>\n      <td>Lotus</td>\n      <td>Elise</td>\n      <td>2010</td>\n      <td>218.0</td>\n      <td>4</td>\n      <td>MANUAL</td>\n      <td>convertible</td>\n      <td>54990</td>\n    </tr>\n    <tr>\n      <th>3</th>\n      <td>GMC</td>\n      <td>Acadia</td>\n      <td>2017</td>\n      <td>194.0</td>\n      <td>4</td>\n      <td>AUTOMATIC</td>\n      <td>4dr_suv</td>\n      <td>34450</td>\n    </tr>\n    <tr>\n      <th>4</th>\n      <td>Nissan</td>\n      <td>Frontier</td>\n      <td>2017</td>\n      <td>261.0</td>\n      <td>6</td>\n      <td>MANUAL</td>\n      <td>pickup</td>\n      <td>32340</td>\n    </tr>\n  </tbody>\n</table>\n</div>"
     },
     "execution_count": 108,
     "metadata": {},
     "output_type": "execute_result"
    }
   ],
   "source": [
    "df"
   ],
   "metadata": {
    "collapsed": false,
    "ExecuteTime": {
     "end_time": "2023-09-17T02:50:04.931547Z",
     "start_time": "2023-09-17T02:50:04.908489Z"
    }
   },
   "id": "20a82a1e2d8937e1"
  },
  {
   "cell_type": "code",
   "execution_count": 109,
   "outputs": [
    {
     "data": {
      "text/plain": "    Make  Model   Year  Engine HP  Engine Cylinders  Transmission Type  \\\n0  False  False  False      False             False              False   \n1  False  False  False       True             False              False   \n2  False  False  False      False             False              False   \n3  False  False  False      False             False              False   \n4  False  False  False      False             False              False   \n\n   Vehicle_Style   MSRP  \n0          False  False  \n1          False  False  \n2          False  False  \n3          False  False  \n4          False  False  ",
      "text/html": "<div>\n<style scoped>\n    .dataframe tbody tr th:only-of-type {\n        vertical-align: middle;\n    }\n\n    .dataframe tbody tr th {\n        vertical-align: top;\n    }\n\n    .dataframe thead th {\n        text-align: right;\n    }\n</style>\n<table border=\"1\" class=\"dataframe\">\n  <thead>\n    <tr style=\"text-align: right;\">\n      <th></th>\n      <th>Make</th>\n      <th>Model</th>\n      <th>Year</th>\n      <th>Engine HP</th>\n      <th>Engine Cylinders</th>\n      <th>Transmission Type</th>\n      <th>Vehicle_Style</th>\n      <th>MSRP</th>\n    </tr>\n  </thead>\n  <tbody>\n    <tr>\n      <th>0</th>\n      <td>False</td>\n      <td>False</td>\n      <td>False</td>\n      <td>False</td>\n      <td>False</td>\n      <td>False</td>\n      <td>False</td>\n      <td>False</td>\n    </tr>\n    <tr>\n      <th>1</th>\n      <td>False</td>\n      <td>False</td>\n      <td>False</td>\n      <td>True</td>\n      <td>False</td>\n      <td>False</td>\n      <td>False</td>\n      <td>False</td>\n    </tr>\n    <tr>\n      <th>2</th>\n      <td>False</td>\n      <td>False</td>\n      <td>False</td>\n      <td>False</td>\n      <td>False</td>\n      <td>False</td>\n      <td>False</td>\n      <td>False</td>\n    </tr>\n    <tr>\n      <th>3</th>\n      <td>False</td>\n      <td>False</td>\n      <td>False</td>\n      <td>False</td>\n      <td>False</td>\n      <td>False</td>\n      <td>False</td>\n      <td>False</td>\n    </tr>\n    <tr>\n      <th>4</th>\n      <td>False</td>\n      <td>False</td>\n      <td>False</td>\n      <td>False</td>\n      <td>False</td>\n      <td>False</td>\n      <td>False</td>\n      <td>False</td>\n    </tr>\n  </tbody>\n</table>\n</div>"
     },
     "execution_count": 109,
     "metadata": {},
     "output_type": "execute_result"
    }
   ],
   "source": [
    "df.isnull()"
   ],
   "metadata": {
    "collapsed": false,
    "ExecuteTime": {
     "end_time": "2023-09-17T02:50:29.124090Z",
     "start_time": "2023-09-17T02:50:29.096374Z"
    }
   },
   "id": "2d2c0fc952b29417"
  },
  {
   "cell_type": "code",
   "execution_count": 111,
   "outputs": [
    {
     "data": {
      "text/plain": "Make                 0\nModel                0\nYear                 0\nEngine HP            1\nEngine Cylinders     0\nTransmission Type    0\nVehicle_Style        0\nMSRP                 0\ndtype: int64"
     },
     "execution_count": 111,
     "metadata": {},
     "output_type": "execute_result"
    }
   ],
   "source": [
    "df.isnull().sum()"
   ],
   "metadata": {
    "collapsed": false,
    "ExecuteTime": {
     "end_time": "2023-09-17T02:51:51.328481Z",
     "start_time": "2023-09-17T02:51:51.317636Z"
    }
   },
   "id": "436ebb0db57c2e5b"
  },
  {
   "cell_type": "markdown",
   "source": [
    "# Grouping"
   ],
   "metadata": {
    "collapsed": false
   },
   "id": "136302a0dbd0f0af"
  },
  {
   "cell_type": "markdown",
   "source": [
    "```\n",
    "SELECT \n",
    "    transmission_type,\n",
    "    AVG(MSRP)\n",
    "FROM\n",
    "    cars\n",
    "GROUP BY \n",
    "    transmission_type\n",
    "```"
   ],
   "metadata": {
    "collapsed": false
   },
   "id": "8f853eee162f6232"
  },
  {
   "cell_type": "code",
   "execution_count": 113,
   "outputs": [
    {
     "data": {
      "text/plain": "Transmission Type\nAUTOMATIC    30800.000000\nMANUAL       29776.666667\nName: MSRP, dtype: float64"
     },
     "execution_count": 113,
     "metadata": {},
     "output_type": "execute_result"
    }
   ],
   "source": [
    "df.groupby(\"Transmission Type\").MSRP.mean()"
   ],
   "metadata": {
    "collapsed": false,
    "ExecuteTime": {
     "end_time": "2023-09-17T02:53:43.347902Z",
     "start_time": "2023-09-17T02:53:43.343095Z"
    }
   },
   "id": "31b320e55cfec7d5"
  },
  {
   "cell_type": "code",
   "execution_count": 115,
   "outputs": [
    {
     "data": {
      "text/plain": "Transmission Type\nAUTOMATIC    30800.00\nMANUAL       29776.67\nName: MSRP, dtype: float64"
     },
     "execution_count": 115,
     "metadata": {},
     "output_type": "execute_result"
    }
   ],
   "source": [
    "df.groupby(\"Transmission Type\")['MSRP'].mean().round(2)"
   ],
   "metadata": {
    "collapsed": false,
    "ExecuteTime": {
     "end_time": "2023-09-17T02:54:49.079903Z",
     "start_time": "2023-09-17T02:54:49.074708Z"
    }
   },
   "id": "78a02a9ffcf5ed8c"
  },
  {
   "cell_type": "code",
   "execution_count": 125,
   "outputs": [
    {
     "data": {
      "text/plain": "array([ 2000, 27150, 54990, 34450, 32340])"
     },
     "execution_count": 125,
     "metadata": {},
     "output_type": "execute_result"
    }
   ],
   "source": [
    "df.MSRP.values"
   ],
   "metadata": {
    "collapsed": false,
    "ExecuteTime": {
     "end_time": "2023-09-17T14:44:14.496136Z",
     "start_time": "2023-09-17T14:44:14.474081Z"
    }
   },
   "id": "483c68ea5c3e1c43"
  },
  {
   "cell_type": "code",
   "execution_count": 124,
   "outputs": [
    {
     "data": {
      "text/plain": "[{'Make': 'Nissan',\n  'Model': 'Stanza',\n  'Year': 1991,\n  'Engine HP': 138.0,\n  'Engine Cylinders': 4,\n  'Transmission Type': 'MANUAL',\n  'Vehicle_Style': 'sedan',\n  'MSRP': 2000},\n {'Make': 'Hyundai',\n  'Model': 'Sonata',\n  'Year': 2017,\n  'Engine HP': nan,\n  'Engine Cylinders': 4,\n  'Transmission Type': 'AUTOMATIC',\n  'Vehicle_Style': 'sedan',\n  'MSRP': 27150},\n {'Make': 'Lotus',\n  'Model': 'Elise',\n  'Year': 2010,\n  'Engine HP': 218.0,\n  'Engine Cylinders': 4,\n  'Transmission Type': 'MANUAL',\n  'Vehicle_Style': 'convertible',\n  'MSRP': 54990},\n {'Make': 'GMC',\n  'Model': 'Acadia',\n  'Year': 2017,\n  'Engine HP': 194.0,\n  'Engine Cylinders': 4,\n  'Transmission Type': 'AUTOMATIC',\n  'Vehicle_Style': '4dr_suv',\n  'MSRP': 34450},\n {'Make': 'Nissan',\n  'Model': 'Frontier',\n  'Year': 2017,\n  'Engine HP': 261.0,\n  'Engine Cylinders': 6,\n  'Transmission Type': 'MANUAL',\n  'Vehicle_Style': 'pickup',\n  'MSRP': 32340}]"
     },
     "execution_count": 124,
     "metadata": {},
     "output_type": "execute_result"
    }
   ],
   "source": [
    "dics = df.to_dict(orient='records')\n",
    "dics"
   ],
   "metadata": {
    "collapsed": false,
    "ExecuteTime": {
     "end_time": "2023-09-17T02:56:24.702362Z",
     "start_time": "2023-09-17T02:56:24.688945Z"
    }
   },
   "id": "c47823603f556110"
  },
  {
   "cell_type": "code",
   "execution_count": null,
   "outputs": [],
   "source": [],
   "metadata": {
    "collapsed": false
   },
   "id": "d97c3c93fd31e19f"
  }
 ],
 "metadata": {
  "kernelspec": {
   "display_name": "Python 3",
   "language": "python",
   "name": "python3"
  },
  "language_info": {
   "codemirror_mode": {
    "name": "ipython",
    "version": 2
   },
   "file_extension": ".py",
   "mimetype": "text/x-python",
   "name": "python",
   "nbconvert_exporter": "python",
   "pygments_lexer": "ipython2",
   "version": "2.7.6"
  }
 },
 "nbformat": 4,
 "nbformat_minor": 5
}
